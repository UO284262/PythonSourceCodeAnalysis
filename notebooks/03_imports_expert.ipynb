{
 "cells": [
  {
   "cell_type": "markdown",
   "id": "ea78b212-ff32-40d1-92e1-9e09d847ae78",
   "metadata": {
    "pycharm": {
     "name": "#%% md\n"
    }
   },
   "source": [
    "# Imports EXPERT\n",
    "\n",
    "Esta tabla contiene la información de los imports a nivel de fichero (módulo)."
   ]
  },
  {
   "cell_type": "markdown",
   "id": "b862cb2f-c1e0-4074-92c0-004dea379079",
   "metadata": {
    "pycharm": {
     "name": "#%% md\n"
    }
   },
   "source": [
    "## 1 - Obtencion de datos"
   ]
  },
  {
   "cell_type": "code",
   "id": "63793d9c-9473-44fa-bb1d-8e4b32fa1457",
   "metadata": {
    "pycharm": {
     "name": "#%%\n"
    },
    "tags": [],
    "ExecuteTime": {
     "end_time": "2025-01-27T10:35:08.615365Z",
     "start_time": "2025-01-27T10:35:08.582701Z"
    }
   },
   "source": [
    "import matplotlib.pyplot as plt\n",
    "from notebooks_utils import *\n",
    "\n",
    "TARGET_FEATURE = 'import__expertise_level'\n",
    "TARGET_CLASS = 'PROFESSIONAL'\n",
    "full_table = get_data('imports')\n",
    "\n",
    "instances_for_class_low = len(full_table[full_table[TARGET_FEATURE] == \"BEGINNER\"])\n",
    "instances_for_class_high = len(full_table[full_table[TARGET_FEATURE] == \"PROFESSIONAL\"])\n",
    "\n",
    "print(f\"The dataset contains {instances_for_class_low} ({instances_for_class_low/len(full_table)*100:.4}%) instances for BEGINNER class and {instances_for_class_high} ({instances_for_class_high/len(full_table)*100:.4}%) for PROFESSIONAL class.\")"
   ],
   "outputs": [
    {
     "name": "stdout",
     "output_type": "stream",
     "text": [
      "2025-01-27 11:35:08.582701 Data cache files found ...\n",
      "2025-01-27 11:35:08.598325 Data cache files successfully loaded!!\n",
      "The dataset contains 3915 (49.31%) instances for BEGINNER class and 4024 (50.69%) for PROFESSIONAL class.\n"
     ]
    }
   ],
   "execution_count": 12
  },
  {
   "metadata": {
    "ExecuteTime": {
     "end_time": "2025-01-27T10:35:09.163215Z",
     "start_time": "2025-01-27T10:35:09.125799Z"
    }
   },
   "cell_type": "code",
   "source": [
    "full_table = full_table[full_table[TARGET_FEATURE] == TARGET_CLASS]\n",
    "\n",
    "# Table name, features and target.\n",
    "TABLE_NAME = 'imports'\n",
    "TABLE_FEATURES = ['import__number_imports', 'import__module_imports_pct', 'import__average_imported_modules', 'import__from_imports_pct', 'import__average_from_imported_modules', 'import__average_as_in_imported_modules', 'import__local_imports_pct']\n",
    "\n",
    "# Load features and target.\n",
    "X = full_table[TABLE_FEATURES]\n",
    "\n",
    "# Print information about the loaded table.\n",
    "print(f'Features shape: {X.shape}')\n",
    "\n",
    "print(f'As we can see the downloaded data contains a total of {X.shape[0]} instances. For each instance we have {X.shape[1]} attributes.')"
   ],
   "id": "f58e0cbd92cdd2a2",
   "outputs": [
    {
     "name": "stdout",
     "output_type": "stream",
     "text": [
      "Features shape: (4024, 7)\n",
      "As we can see the downloaded data contains a total of 4024 instances. For each instance we have 7 attributes.\n"
     ]
    }
   ],
   "execution_count": 13
  },
  {
   "cell_type": "markdown",
   "id": "3ff70454-366f-4231-831d-723eeb63576b",
   "metadata": {},
   "source": [
    "## 2 - Exploracion de datos\n",
    "\n",
    "Una vez tenemos nuestra tabla en un dataframe el siguiente paso es explorarla para ver qué tipo de información contiene."
   ]
  },
  {
   "cell_type": "code",
   "id": "9b526577-537d-44b0-951b-168278ce7a5c",
   "metadata": {
    "ExecuteTime": {
     "end_time": "2025-01-27T10:35:09.743906Z",
     "start_time": "2025-01-27T10:35:09.714692Z"
    }
   },
   "source": "print(X.info())",
   "outputs": [
    {
     "name": "stdout",
     "output_type": "stream",
     "text": [
      "<class 'pandas.core.frame.DataFrame'>\n",
      "Index: 4024 entries, 0 to 4023\n",
      "Data columns (total 7 columns):\n",
      " #   Column                                  Non-Null Count  Dtype  \n",
      "---  ------                                  --------------  -----  \n",
      " 0   import__number_imports                  4024 non-null   int64  \n",
      " 1   import__module_imports_pct              4024 non-null   float64\n",
      " 2   import__average_imported_modules        4024 non-null   float64\n",
      " 3   import__from_imports_pct                4024 non-null   float64\n",
      " 4   import__average_from_imported_modules   4024 non-null   float64\n",
      " 5   import__average_as_in_imported_modules  4024 non-null   float64\n",
      " 6   import__local_imports_pct               4024 non-null   float64\n",
      "dtypes: float64(6), int64(1)\n",
      "memory usage: 251.5 KB\n",
      "None\n"
     ]
    }
   ],
   "execution_count": 14
  },
  {
   "cell_type": "markdown",
   "id": "cbf77cd4-9819-4da1-9405-44054d2290e1",
   "metadata": {},
   "source": "Cómo podemos ver la tabla está compuesta por 7 variables numéricas y una de tipo objeto. "
  },
  {
   "cell_type": "markdown",
   "id": "31d297c18f157194",
   "metadata": {
    "collapsed": false
   },
   "source": [
    "### 2.1 - Valores Nulos \n",
    "Miramos si alguna de las variables que contiene la tabla contiene algún valor que sea nulo."
   ]
  },
  {
   "cell_type": "code",
   "id": "afeed2ce9080cbbb",
   "metadata": {
    "collapsed": false,
    "ExecuteTime": {
     "end_time": "2025-01-27T10:35:09.986206Z",
     "start_time": "2025-01-27T10:35:09.908700Z"
    }
   },
   "source": [
    "X.isnull().sum()"
   ],
   "outputs": [
    {
     "data": {
      "text/plain": [
       "import__number_imports                    0\n",
       "import__module_imports_pct                0\n",
       "import__average_imported_modules          0\n",
       "import__from_imports_pct                  0\n",
       "import__average_from_imported_modules     0\n",
       "import__average_as_in_imported_modules    0\n",
       "import__local_imports_pct                 0\n",
       "dtype: int64"
      ]
     },
     "execution_count": 15,
     "metadata": {},
     "output_type": "execute_result"
    }
   ],
   "execution_count": 15
  },
  {
   "cell_type": "markdown",
   "id": "1a8e02c0c52edff9",
   "metadata": {
    "collapsed": false
   },
   "source": "Aunque una columna no contenga valores nulos podría ser que contenga valores vacíos."
  },
  {
   "cell_type": "code",
   "id": "73b9dc2f9efc111a",
   "metadata": {
    "collapsed": false,
    "ExecuteTime": {
     "end_time": "2025-01-27T10:35:10.662500Z",
     "start_time": "2025-01-27T10:35:10.469591Z"
    }
   },
   "source": [
    "print_empty_cols(X)"
   ],
   "outputs": [
    {
     "name": "stdout",
     "output_type": "stream",
     "text": [
      "import__number_imports\n",
      "----------------------\n",
      "0 instancias no tienen un valor para la columna import__number_imports\n",
      "\n",
      "\n",
      "import__module_imports_pct\n",
      "--------------------------\n",
      "0 instancias no tienen un valor para la columna import__module_imports_pct\n",
      "\n",
      "\n",
      "import__average_imported_modules\n",
      "--------------------------------\n",
      "0 instancias no tienen un valor para la columna import__average_imported_modules\n",
      "\n",
      "\n",
      "import__from_imports_pct\n",
      "------------------------\n",
      "0 instancias no tienen un valor para la columna import__from_imports_pct\n",
      "\n",
      "\n",
      "import__average_from_imported_modules\n",
      "-------------------------------------\n",
      "0 instancias no tienen un valor para la columna import__average_from_imported_modules\n",
      "\n",
      "\n",
      "import__average_as_in_imported_modules\n",
      "--------------------------------------\n",
      "0 instancias no tienen un valor para la columna import__average_as_in_imported_modules\n",
      "\n",
      "\n",
      "import__local_imports_pct\n",
      "-------------------------\n",
      "0 instancias no tienen un valor para la columna import__local_imports_pct\n",
      "\n",
      "\n"
     ]
    }
   ],
   "execution_count": 16
  },
  {
   "cell_type": "markdown",
   "id": "105774ea722bf467",
   "metadata": {
    "collapsed": false
   },
   "source": "### 2.2 - Describimos los valores de las variables de la tabla."
  },
  {
   "cell_type": "code",
   "id": "d3be1e5cec1af46c",
   "metadata": {
    "collapsed": false,
    "ExecuteTime": {
     "end_time": "2025-01-27T10:35:11.375881Z",
     "start_time": "2025-01-27T10:35:11.214652Z"
    }
   },
   "source": [
    "np.transpose(X.describe(percentiles=[.25, .50, .75], include = ['object', 'float', 'bool', 'int']))"
   ],
   "outputs": [
    {
     "data": {
      "text/plain": [
       "                                         count      mean       std  min   25%  \\\n",
       "import__number_imports                  4024.0  5.038022  4.430791  0.0  2.00   \n",
       "import__module_imports_pct              4024.0  0.137560  0.204759  0.0  0.00   \n",
       "import__average_imported_modules        4024.0  0.434891  0.495804  0.0  0.00   \n",
       "import__from_imports_pct                4024.0  0.827400  0.257107  0.0  0.75   \n",
       "import__average_from_imported_modules   4024.0  1.496703  0.834490  0.0  1.00   \n",
       "import__average_as_in_imported_modules  4024.0  0.007297  0.056229  0.0  0.00   \n",
       "import__local_imports_pct               4024.0  0.674886  0.464390  0.0  0.00   \n",
       "\n",
       "                                             50%       75%   max  \n",
       "import__number_imports                  4.000000  7.000000  62.0  \n",
       "import__module_imports_pct              0.000000  0.250000   1.0  \n",
       "import__average_imported_modules        0.000000  1.000000   1.0  \n",
       "import__from_imports_pct                1.000000  1.000000   1.0  \n",
       "import__average_from_imported_modules   1.285714  1.833333  16.0  \n",
       "import__average_as_in_imported_modules  0.000000  0.000000   1.0  \n",
       "import__local_imports_pct               1.000000  1.000000   1.0  "
      ],
      "text/html": [
       "<div>\n",
       "<style scoped>\n",
       "    .dataframe tbody tr th:only-of-type {\n",
       "        vertical-align: middle;\n",
       "    }\n",
       "\n",
       "    .dataframe tbody tr th {\n",
       "        vertical-align: top;\n",
       "    }\n",
       "\n",
       "    .dataframe thead th {\n",
       "        text-align: right;\n",
       "    }\n",
       "</style>\n",
       "<table border=\"1\" class=\"dataframe\">\n",
       "  <thead>\n",
       "    <tr style=\"text-align: right;\">\n",
       "      <th></th>\n",
       "      <th>count</th>\n",
       "      <th>mean</th>\n",
       "      <th>std</th>\n",
       "      <th>min</th>\n",
       "      <th>25%</th>\n",
       "      <th>50%</th>\n",
       "      <th>75%</th>\n",
       "      <th>max</th>\n",
       "    </tr>\n",
       "  </thead>\n",
       "  <tbody>\n",
       "    <tr>\n",
       "      <th>import__number_imports</th>\n",
       "      <td>4024.0</td>\n",
       "      <td>5.038022</td>\n",
       "      <td>4.430791</td>\n",
       "      <td>0.0</td>\n",
       "      <td>2.00</td>\n",
       "      <td>4.000000</td>\n",
       "      <td>7.000000</td>\n",
       "      <td>62.0</td>\n",
       "    </tr>\n",
       "    <tr>\n",
       "      <th>import__module_imports_pct</th>\n",
       "      <td>4024.0</td>\n",
       "      <td>0.137560</td>\n",
       "      <td>0.204759</td>\n",
       "      <td>0.0</td>\n",
       "      <td>0.00</td>\n",
       "      <td>0.000000</td>\n",
       "      <td>0.250000</td>\n",
       "      <td>1.0</td>\n",
       "    </tr>\n",
       "    <tr>\n",
       "      <th>import__average_imported_modules</th>\n",
       "      <td>4024.0</td>\n",
       "      <td>0.434891</td>\n",
       "      <td>0.495804</td>\n",
       "      <td>0.0</td>\n",
       "      <td>0.00</td>\n",
       "      <td>0.000000</td>\n",
       "      <td>1.000000</td>\n",
       "      <td>1.0</td>\n",
       "    </tr>\n",
       "    <tr>\n",
       "      <th>import__from_imports_pct</th>\n",
       "      <td>4024.0</td>\n",
       "      <td>0.827400</td>\n",
       "      <td>0.257107</td>\n",
       "      <td>0.0</td>\n",
       "      <td>0.75</td>\n",
       "      <td>1.000000</td>\n",
       "      <td>1.000000</td>\n",
       "      <td>1.0</td>\n",
       "    </tr>\n",
       "    <tr>\n",
       "      <th>import__average_from_imported_modules</th>\n",
       "      <td>4024.0</td>\n",
       "      <td>1.496703</td>\n",
       "      <td>0.834490</td>\n",
       "      <td>0.0</td>\n",
       "      <td>1.00</td>\n",
       "      <td>1.285714</td>\n",
       "      <td>1.833333</td>\n",
       "      <td>16.0</td>\n",
       "    </tr>\n",
       "    <tr>\n",
       "      <th>import__average_as_in_imported_modules</th>\n",
       "      <td>4024.0</td>\n",
       "      <td>0.007297</td>\n",
       "      <td>0.056229</td>\n",
       "      <td>0.0</td>\n",
       "      <td>0.00</td>\n",
       "      <td>0.000000</td>\n",
       "      <td>0.000000</td>\n",
       "      <td>1.0</td>\n",
       "    </tr>\n",
       "    <tr>\n",
       "      <th>import__local_imports_pct</th>\n",
       "      <td>4024.0</td>\n",
       "      <td>0.674886</td>\n",
       "      <td>0.464390</td>\n",
       "      <td>0.0</td>\n",
       "      <td>0.00</td>\n",
       "      <td>1.000000</td>\n",
       "      <td>1.000000</td>\n",
       "      <td>1.0</td>\n",
       "    </tr>\n",
       "  </tbody>\n",
       "</table>\n",
       "</div>"
      ]
     },
     "execution_count": 17,
     "metadata": {},
     "output_type": "execute_result"
    }
   ],
   "execution_count": 17
  },
  {
   "cell_type": "markdown",
   "id": "b9f859b03e8083f1",
   "metadata": {
    "collapsed": false
   },
   "source": "Vamos a discretizar las variables numericas, agrupando conjuntos de valores en categorias, para hacer un análisis de los datos. Para cada variable es necesaario ver la distribucion de lo valores para hacer los bins (categorias)."
  },
  {
   "cell_type": "code",
   "id": "b7cf5fae0fd0e5ef",
   "metadata": {
    "collapsed": false,
    "ExecuteTime": {
     "end_time": "2025-01-27T10:35:12.212288Z",
     "start_time": "2025-01-27T10:35:11.669908Z"
    }
   },
   "source": [
    "# DISCRETIZATION\n",
    "X_copy = X.copy()\n",
    "\n",
    "discretized_columns = {\n",
    "    \"import__number_imports\": [(0, 0), (0, 3), (3, 7), (7, inf)],  # min: 0 max: 194 \n",
    "    \"import__module_imports_pct\": [(0.0, 0.0), (0.0, 0.5), (0.5, 1), (1, 1)],  # min: 0.0 max: 1.0 \n",
    "    \"import__average_imported_modules\": [(0.0, 0.0), (0.0, inf)],  # min: 0.0 max: 8.5 \n",
    "    \"import__from_imports_pct\": [(0.0, 0.0), (0.0, 0.5), (0.5, 1), (1, 1)],  # min: 0.0 max: 1.0 \n",
    "    \"import__average_from_imported_modules\": [(0.0, 0.0), (1.0, 1.0), (1.0, inf)],  # min: 0.0 max: 23.0 \n",
    "    \"import__average_as_in_imported_modules\": [(0.0, 0.0), (0.0, inf)],  # min: 0.0 max: 1.0 \n",
    "    \"import__local_imports_pct\": [(0.0, 0.0), (0.0, 1.0), (1.0, 1.0)],  # min: 0.0 max: 1.0 \n",
    "}\n",
    "\n",
    "discretize_columns(X_copy, discretized_columns)\n",
    "    \n",
    "# SINGLE FEATURE\n",
    "print(\"--- SINGLE FEATURE ---\")\n",
    "print(get_statistics(X_copy, ['import__number_imports'], 10))\n",
    "print(get_statistics(X_copy, ['import__module_imports_pct'], 10))\n",
    "print(get_statistics(X_copy, ['import__average_imported_modules'], 10))\n",
    "print(get_statistics(X_copy, ['import__from_imports_pct'], 10))\n",
    "print(get_statistics(X_copy, ['import__average_from_imported_modules'], 10))\n",
    "print(get_statistics(X_copy, ['import__average_as_in_imported_modules'], 10))\n",
    "print(get_statistics(X_copy, ['import__local_imports_pct'], 10))\n",
    "\n",
    "# 2 FEATURES\n",
    "print(\"--- TWO FEATURES ---\")\n",
    "print(get_statistics(X_copy, ['import__average_imported_modules', 'import__module_imports_pct'], 10))\n",
    "\n",
    "# 3 FEATURES\n",
    "print(\"--- THREE FEATURES ---\")\n",
    "#print(get_statistics(X_copy, ['program__has_sub_dirs_with_code', 'program__has_packages', 'program__has_code_root_package'], 10))"
   ],
   "outputs": [
    {
     "name": "stdout",
     "output_type": "stream",
     "text": [
      "--- SINGLE FEATURE ---\n",
      "import__number_imports  count  percentage\n",
      "                 [0_3)   1380   34.294235\n",
      "                 [3_7)   1327   32.977137\n",
      "               [7_inf]   1176   29.224652\n",
      "                 [0_0]    141    3.503976\n",
      "\n",
      "import__module_imports_pct  count  percentage\n",
      "                 [0.0_0.0]   2274   56.510934\n",
      "                 [0.0_0.5)   1351   33.573559\n",
      "                   [0.5_1)    360    8.946322\n",
      "                     [1_1]     39    0.969185\n",
      "\n",
      "import__average_imported_modules  count  percentage\n",
      "                       [0.0_0.0]   2274   56.510934\n",
      "                       [0.0_inf]   1750   43.489066\n",
      "\n",
      "import__from_imports_pct  count  percentage\n",
      "                   [1_1]   2133   53.006958\n",
      "                 [0.5_1)   1548   38.469185\n",
      "               [0.0_0.0]    180    4.473161\n",
      "               [0.0_0.5)    163    4.050696\n",
      "\n",
      "import__average_from_imported_modules  count  percentage\n",
      "                            [1.0_inf]   2245   55.790258\n",
      "                            [1.0_1.0]   1599   39.736581\n",
      "                            [0.0_0.0]    180    4.473161\n",
      "\n",
      "import__average_as_in_imported_modules  count  percentage\n",
      "                             [0.0_0.0]   3863   95.999006\n",
      "                             [0.0_inf]    161    4.000994\n",
      "\n",
      "import__local_imports_pct  count  percentage\n",
      "                [1.0_1.0]   2674   66.451292\n",
      "                [0.0_0.0]   1271   31.585487\n",
      "                [0.0_1.0)     79    1.963221\n",
      "\n",
      "--- TWO FEATURES ---\n",
      "import__average_imported_modules import__module_imports_pct  count  percentage\n",
      "                       [0.0_0.0]                  [0.0_0.0]   2274   56.510934\n",
      "                       [0.0_inf]                  [0.0_0.5)   1351   33.573559\n",
      "                       [0.0_inf]                    [0.5_1)    360    8.946322\n",
      "                       [0.0_inf]                      [1_1]     39    0.969185\n",
      "\n",
      "--- THREE FEATURES ---\n"
     ]
    }
   ],
   "execution_count": 18
  },
  {
   "cell_type": "code",
   "id": "1ca9a43e-6db6-44a7-aaab-65f00d1ea79e",
   "metadata": {
    "pycharm": {
     "name": "#%%\n"
    },
    "tags": [],
    "ExecuteTime": {
     "end_time": "2025-01-27T10:35:12.484940Z",
     "start_time": "2025-01-27T10:35:12.458867Z"
    }
   },
   "source": [
    "def normalize_datatypes(X:pd.DataFrame) -> (pd.DataFrame, [str]):\n",
    "    X = pd.get_dummies(X)\n",
    "    X = X.astype('float32')        \n",
    "    columns_names = X.columns.tolist()\n",
    "    return X, columns_names\n",
    "\n",
    "X, TABLE_FEATURES = normalize_datatypes(X)\n",
    "# Print information about the loaded table\n",
    "print(f'Features shape: {X.shape}')"
   ],
   "outputs": [
    {
     "name": "stdout",
     "output_type": "stream",
     "text": [
      "Features shape: (4024, 7)\n"
     ]
    }
   ],
   "execution_count": 19
  },
  {
   "cell_type": "markdown",
   "id": "e9fc6a7d9acd9a9e",
   "metadata": {
    "collapsed": false
   },
   "source": "#### Muestra la matriz de correlación de Spearman entre las variables de la tabla."
  },
  {
   "cell_type": "code",
   "id": "70af048034c80af1",
   "metadata": {
    "collapsed": false,
    "ExecuteTime": {
     "end_time": "2025-01-27T10:35:17.539998Z",
     "start_time": "2025-01-27T10:35:12.866407Z"
    }
   },
   "source": "sns.heatmap(X.corr(method='spearman'), annot=True)",
   "outputs": [
    {
     "data": {
      "text/plain": [
       "<Axes: >"
      ]
     },
     "execution_count": 20,
     "metadata": {},
     "output_type": "execute_result"
    },
    {
     "data": {
      "text/plain": [
       "<Figure size 640x480 with 2 Axes>"
      ],
      "image/png": "[encoded data removed]"
     },
     "metadata": {},
     "output_type": "display_data"
    }
   ],
   "execution_count": 20
  },
  {
   "cell_type": "markdown",
   "id": "9a47cdd4cc2b3fae",
   "metadata": {
    "collapsed": false
   },
   "source": [
    "## 3 - Detección de valores atípicos (outliers)\n",
    "## Univariate\n",
    "## Analisis detallado de variables\n",
    "Para cada una de las 7 variable (3 porcentuales y 4 numericas)"
   ]
  },
  {
   "metadata": {},
   "cell_type": "markdown",
   "source": [
    "### Variable number_imports (1/7)\n",
    "Esta variable es de tipo numérica y nos indica el número imports definidos en el fichero. Como vimos en la descripción de la tabla esta varibale adopta valores en el rango 0 - 62. Con una media de 5."
   ],
   "id": "b8ac28118b9c7e95"
  },
  {
   "metadata": {
    "ExecuteTime": {
     "end_time": "2025-01-27T10:35:19.510592Z",
     "start_time": "2025-01-27T10:35:18.023750Z"
    }
   },
   "cell_type": "code",
   "source": "sns.stripplot(X['import__number_imports'])",
   "id": "5eacddae8fc77a62",
   "outputs": [
    {
     "data": {
      "text/plain": [
       "<Axes: ylabel='import__number_imports'>"
      ]
     },
     "execution_count": 21,
     "metadata": {},
     "output_type": "execute_result"
    },
    {
     "data": {
      "text/plain": [
       "<Figure size 640x480 with 1 Axes>"
      ],
      "image/png": "[encoded data removed]"
     },
     "metadata": {},
     "output_type": "display_data"
    }
   ],
   "execution_count": 21
  },
  {
   "metadata": {},
   "cell_type": "markdown",
   "source": [
    "### IMPORTANTE\n",
    "Los valores máximos están muy alejados del siguiente."
   ],
   "id": "b2434ab5c02721ad"
  },
  {
   "metadata": {
    "ExecuteTime": {
     "end_time": "2025-01-27T10:35:19.594646Z",
     "start_time": "2025-01-27T10:35:19.557470Z"
    }
   },
   "cell_type": "code",
   "source": "print_outliers_for_df_column(X, 'import__number_imports')",
   "id": "cfc7351841dbaeeb",
   "outputs": [
    {
     "name": "stdout",
     "output_type": "stream",
     "text": [
      "El coeficiente MC (Medcouple Coefficient) de balanceo es: 0.8054639506899677\n",
      "Rango valores atípicos extremos (Tukey): [-13.0,22.0]\n",
      "Rango valores atípicos leves (Tukey): [-5.5,14.5]\n",
      "Rango valores atípicos extremos (Fixed BoxPlot): [1.5525635698427633,195.05957920742046]\n",
      "-3.0IQR: 0 instancias tienen un valor para import__number_imports inferior a -13.0 (Q1-3*IQR) para import__number_imports. Representando un 0.0% del total de instancias.\n",
      "-1.5IQR: 0 instancias tienen un valor para import__number_imports inferior a -5.5 (Q1-1.5*IQR) para import__number_imports. Representando un 0.0% del total de instancias.\n",
      "+1.5IQR: 147 instancias tienen un valor para import__number_imports superior a 14.5 (Q3+1.5*IQR) para import__number_imports. Representando un 3.653% del total de instancias.\n",
      "+3.0IQR: 17 instancias tienen un valor para import__number_imports superior a 22.0 (Q3-3*IQR) para import__number_imports. Representando un 0.4225% del total de instancias.\n",
      "L: 808 instancias tienen un valor para import__number_imports inferior a 1.5525635698427633 para import__number_imports. Representando un 20.08% del total de instancias.\n",
      "U: 0 instancias tienen un valor para import__number_imports superior a 195.05957920742046 para import__number_imports. Representando un 0.0% del total de instancias.\n"
     ]
    }
   ],
   "execution_count": 22
  },
  {
   "metadata": {},
   "cell_type": "markdown",
   "source": "Describimos los valores de las variables de la tabla, cuando el valor de la variable es mayor que 22 (Con un MC de 80 usamos Tuckey Extremo)",
   "id": "843b1a6a63a56fb9"
  },
  {
   "metadata": {
    "ExecuteTime": {
     "end_time": "2025-01-27T10:36:19.190153Z",
     "start_time": "2025-01-27T10:36:19.017781Z"
    }
   },
   "cell_type": "code",
   "source": "X[X['import__number_imports'] > 22].describe(percentiles=[.25, .50, .75], include = ['object', 'float', 'bool', 'int'])",
   "id": "689c534bf17a722e",
   "outputs": [
    {
     "data": {
      "text/plain": [
       "       import__number_imports  import__module_imports_pct  \\\n",
       "count               17.000000                   17.000000   \n",
       "mean                30.588236                    0.089732   \n",
       "std                 10.222884                    0.084669   \n",
       "min                 23.000000                    0.000000   \n",
       "25%                 24.000000                    0.000000   \n",
       "50%                 28.000000                    0.086957   \n",
       "75%                 32.000000                    0.137931   \n",
       "max                 62.000000                    0.275862   \n",
       "\n",
       "       import__average_imported_modules  import__from_imports_pct  \\\n",
       "count                         17.000000                 17.000000   \n",
       "mean                           0.647059                  0.910268   \n",
       "std                            0.492592                  0.084669   \n",
       "min                            0.000000                  0.724138   \n",
       "25%                            0.000000                  0.862069   \n",
       "50%                            1.000000                  0.913043   \n",
       "75%                            1.000000                  1.000000   \n",
       "max                            1.000000                  1.000000   \n",
       "\n",
       "       import__average_from_imported_modules  \\\n",
       "count                              17.000000   \n",
       "mean                                1.612904   \n",
       "std                                 0.412840   \n",
       "min                                 1.041667   \n",
       "25%                                 1.333333   \n",
       "50%                                 1.454545   \n",
       "75%                                 1.956522   \n",
       "max                                 2.363636   \n",
       "\n",
       "       import__average_as_in_imported_modules  import__local_imports_pct  \n",
       "count                               17.000000                  17.000000  \n",
       "mean                                 0.012579                   0.599454  \n",
       "std                                  0.021171                   0.487376  \n",
       "min                                  0.000000                   0.000000  \n",
       "25%                                  0.000000                   0.000000  \n",
       "50%                                  0.000000                   0.958333  \n",
       "75%                                  0.027778                   1.000000  \n",
       "max                                  0.071429                   1.000000  "
      ],
      "text/html": [
       "<div>\n",
       "<style scoped>\n",
       "    .dataframe tbody tr th:only-of-type {\n",
       "        vertical-align: middle;\n",
       "    }\n",
       "\n",
       "    .dataframe tbody tr th {\n",
       "        vertical-align: top;\n",
       "    }\n",
       "\n",
       "    .dataframe thead th {\n",
       "        text-align: right;\n",
       "    }\n",
       "</style>\n",
       "<table border=\"1\" class=\"dataframe\">\n",
       "  <thead>\n",
       "    <tr style=\"text-align: right;\">\n",
       "      <th></th>\n",
       "      <th>import__number_imports</th>\n",
       "      <th>import__module_imports_pct</th>\n",
       "      <th>import__average_imported_modules</th>\n",
       "      <th>import__from_imports_pct</th>\n",
       "      <th>import__average_from_imported_modules</th>\n",
       "      <th>import__average_as_in_imported_modules</th>\n",
       "      <th>import__local_imports_pct</th>\n",
       "    </tr>\n",
       "  </thead>\n",
       "  <tbody>\n",
       "    <tr>\n",
       "      <th>count</th>\n",
       "      <td>17.000000</td>\n",
       "      <td>17.000000</td>\n",
       "      <td>17.000000</td>\n",
       "      <td>17.000000</td>\n",
       "      <td>17.000000</td>\n",
       "      <td>17.000000</td>\n",
       "      <td>17.000000</td>\n",
       "    </tr>\n",
       "    <tr>\n",
       "      <th>mean</th>\n",
       "      <td>30.588236</td>\n",
       "      <td>0.089732</td>\n",
       "      <td>0.647059</td>\n",
       "      <td>0.910268</td>\n",
       "      <td>1.612904</td>\n",
       "      <td>0.012579</td>\n",
       "      <td>0.599454</td>\n",
       "    </tr>\n",
       "    <tr>\n",
       "      <th>std</th>\n",
       "      <td>10.222884</td>\n",
       "      <td>0.084669</td>\n",
       "      <td>0.492592</td>\n",
       "      <td>0.084669</td>\n",
       "      <td>0.412840</td>\n",
       "      <td>0.021171</td>\n",
       "      <td>0.487376</td>\n",
       "    </tr>\n",
       "    <tr>\n",
       "      <th>min</th>\n",
       "      <td>23.000000</td>\n",
       "      <td>0.000000</td>\n",
       "      <td>0.000000</td>\n",
       "      <td>0.724138</td>\n",
       "      <td>1.041667</td>\n",
       "      <td>0.000000</td>\n",
       "      <td>0.000000</td>\n",
       "    </tr>\n",
       "    <tr>\n",
       "      <th>25%</th>\n",
       "      <td>24.000000</td>\n",
       "      <td>0.000000</td>\n",
       "      <td>0.000000</td>\n",
       "      <td>0.862069</td>\n",
       "      <td>1.333333</td>\n",
       "      <td>0.000000</td>\n",
       "      <td>0.000000</td>\n",
       "    </tr>\n",
       "    <tr>\n",
       "      <th>50%</th>\n",
       "      <td>28.000000</td>\n",
       "      <td>0.086957</td>\n",
       "      <td>1.000000</td>\n",
       "      <td>0.913043</td>\n",
       "      <td>1.454545</td>\n",
       "      <td>0.000000</td>\n",
       "      <td>0.958333</td>\n",
       "    </tr>\n",
       "    <tr>\n",
       "      <th>75%</th>\n",
       "      <td>32.000000</td>\n",
       "      <td>0.137931</td>\n",
       "      <td>1.000000</td>\n",
       "      <td>1.000000</td>\n",
       "      <td>1.956522</td>\n",
       "      <td>0.027778</td>\n",
       "      <td>1.000000</td>\n",
       "    </tr>\n",
       "    <tr>\n",
       "      <th>max</th>\n",
       "      <td>62.000000</td>\n",
       "      <td>0.275862</td>\n",
       "      <td>1.000000</td>\n",
       "      <td>1.000000</td>\n",
       "      <td>2.363636</td>\n",
       "      <td>0.071429</td>\n",
       "      <td>1.000000</td>\n",
       "    </tr>\n",
       "  </tbody>\n",
       "</table>\n",
       "</div>"
      ]
     },
     "execution_count": 45,
     "metadata": {},
     "output_type": "execute_result"
    }
   ],
   "execution_count": 45
  },
  {
   "metadata": {},
   "cell_type": "markdown",
   "source": [
    "### Variable average_imported_modules (2/7)\n",
    "Esta variable representa el número medio de alias importados en cada clausula import. Como vimos en la descripción de la tabla esta varibale adopta valores en el rango 0 - 1. Con una media de 0.43."
   ],
   "id": "8f8a651cfdff0bcd"
  },
  {
   "metadata": {
    "ExecuteTime": {
     "end_time": "2025-01-27T10:35:22.008391Z",
     "start_time": "2025-01-27T10:35:20.896248Z"
    }
   },
   "cell_type": "code",
   "source": "sns.stripplot(X['import__average_imported_modules'])",
   "id": "1ebb40d57c0b140",
   "outputs": [
    {
     "data": {
      "text/plain": [
       "<Axes: ylabel='import__average_imported_modules'>"
      ]
     },
     "execution_count": 24,
     "metadata": {},
     "output_type": "execute_result"
    },
    {
     "data": {
      "text/plain": [
       "<Figure size 640x480 with 1 Axes>"
      ],
      "image/png": "[encoded data removed]"
     },
     "metadata": {},
     "output_type": "display_data"
    }
   ],
   "execution_count": 24
  },
  {
   "metadata": {},
   "cell_type": "markdown",
   "source": [
    "### IMPORTANTE\n",
    "Los valores máximos están muy alejados del siguiente. "
   ],
   "id": "921f450151cf85e1"
  },
  {
   "metadata": {
    "ExecuteTime": {
     "end_time": "2025-01-27T10:35:22.978683Z",
     "start_time": "2025-01-27T10:35:22.926234Z"
    }
   },
   "cell_type": "code",
   "source": "print_outliers_for_df_column(X, 'import__average_imported_modules')",
   "id": "6a0f48c2e0e6cff",
   "outputs": [
    {
     "name": "stdout",
     "output_type": "stream",
     "text": [
      "El coeficiente MC (Medcouple Coefficient) de balanceo es: 0.06930509209632874\n",
      "Rango valores atípicos extremos (Tukey): [-3.0,4.0]\n",
      "Rango valores atípicos leves (Tukey): [-1.5,2.5]\n",
      "Rango valores atípicos extremos (Fixed BoxPlot): [-1.1769157974811786,2.9791856584469287]\n",
      "-3.0IQR: 0 instancias tienen un valor para import__average_imported_modules inferior a -3.0 (Q1-3*IQR) para import__average_imported_modules. Representando un 0.0% del total de instancias.\n",
      "-1.5IQR: 0 instancias tienen un valor para import__average_imported_modules inferior a -1.5 (Q1-1.5*IQR) para import__average_imported_modules. Representando un 0.0% del total de instancias.\n",
      "+1.5IQR: 0 instancias tienen un valor para import__average_imported_modules superior a 2.5 (Q3+1.5*IQR) para import__average_imported_modules. Representando un 0.0% del total de instancias.\n",
      "+3.0IQR: 0 instancias tienen un valor para import__average_imported_modules superior a 4.0 (Q3-3*IQR) para import__average_imported_modules. Representando un 0.0% del total de instancias.\n",
      "L: 0 instancias tienen un valor para import__average_imported_modules inferior a -1.1769157974811786 para import__average_imported_modules. Representando un 0.0% del total de instancias.\n",
      "U: 0 instancias tienen un valor para import__average_imported_modules superior a 2.9791856584469287 para import__average_imported_modules. Representando un 0.0% del total de instancias.\n"
     ]
    }
   ],
   "execution_count": 25
  },
  {
   "metadata": {},
   "cell_type": "markdown",
   "source": "IMPORTANTE: Estos valores siguen un distribucion en forma de U (distribucion de Laplace). Con lo que los posibles valores outliers estan en el medio, no en los extremos. No se puede aplicar el metodo de tukey. En este momento, solo vamos a mostrar los valores que hay en el medio.",
   "id": "50a44d7648d76a00"
  },
  {
   "metadata": {
    "ExecuteTime": {
     "end_time": "2025-01-27T10:39:06.955206Z",
     "start_time": "2025-01-27T10:39:06.865127Z"
    }
   },
   "cell_type": "code",
   "source": "X[(X['import__average_imported_modules'] > 0) & (X['import__average_imported_modules'] < 1)].describe(percentiles=[.25, .50, .75], include = ['object', 'float', 'bool', 'int'])",
   "id": "87724eeca9c29f75",
   "outputs": [
    {
     "data": {
      "text/plain": [
       "       import__number_imports  import__module_imports_pct  \\\n",
       "count                     0.0                         0.0   \n",
       "mean                      NaN                         NaN   \n",
       "std                       NaN                         NaN   \n",
       "min                       NaN                         NaN   \n",
       "25%                       NaN                         NaN   \n",
       "50%                       NaN                         NaN   \n",
       "75%                       NaN                         NaN   \n",
       "max                       NaN                         NaN   \n",
       "\n",
       "       import__average_imported_modules  import__from_imports_pct  \\\n",
       "count                               0.0                       0.0   \n",
       "mean                                NaN                       NaN   \n",
       "std                                 NaN                       NaN   \n",
       "min                                 NaN                       NaN   \n",
       "25%                                 NaN                       NaN   \n",
       "50%                                 NaN                       NaN   \n",
       "75%                                 NaN                       NaN   \n",
       "max                                 NaN                       NaN   \n",
       "\n",
       "       import__average_from_imported_modules  \\\n",
       "count                                    0.0   \n",
       "mean                                     NaN   \n",
       "std                                      NaN   \n",
       "min                                      NaN   \n",
       "25%                                      NaN   \n",
       "50%                                      NaN   \n",
       "75%                                      NaN   \n",
       "max                                      NaN   \n",
       "\n",
       "       import__average_as_in_imported_modules  import__local_imports_pct  \n",
       "count                                     0.0                        0.0  \n",
       "mean                                      NaN                        NaN  \n",
       "std                                       NaN                        NaN  \n",
       "min                                       NaN                        NaN  \n",
       "25%                                       NaN                        NaN  \n",
       "50%                                       NaN                        NaN  \n",
       "75%                                       NaN                        NaN  \n",
       "max                                       NaN                        NaN  "
      ],
      "text/html": [
       "<div>\n",
       "<style scoped>\n",
       "    .dataframe tbody tr th:only-of-type {\n",
       "        vertical-align: middle;\n",
       "    }\n",
       "\n",
       "    .dataframe tbody tr th {\n",
       "        vertical-align: top;\n",
       "    }\n",
       "\n",
       "    .dataframe thead th {\n",
       "        text-align: right;\n",
       "    }\n",
       "</style>\n",
       "<table border=\"1\" class=\"dataframe\">\n",
       "  <thead>\n",
       "    <tr style=\"text-align: right;\">\n",
       "      <th></th>\n",
       "      <th>import__number_imports</th>\n",
       "      <th>import__module_imports_pct</th>\n",
       "      <th>import__average_imported_modules</th>\n",
       "      <th>import__from_imports_pct</th>\n",
       "      <th>import__average_from_imported_modules</th>\n",
       "      <th>import__average_as_in_imported_modules</th>\n",
       "      <th>import__local_imports_pct</th>\n",
       "    </tr>\n",
       "  </thead>\n",
       "  <tbody>\n",
       "    <tr>\n",
       "      <th>count</th>\n",
       "      <td>0.0</td>\n",
       "      <td>0.0</td>\n",
       "      <td>0.0</td>\n",
       "      <td>0.0</td>\n",
       "      <td>0.0</td>\n",
       "      <td>0.0</td>\n",
       "      <td>0.0</td>\n",
       "    </tr>\n",
       "    <tr>\n",
       "      <th>mean</th>\n",
       "      <td>NaN</td>\n",
       "      <td>NaN</td>\n",
       "      <td>NaN</td>\n",
       "      <td>NaN</td>\n",
       "      <td>NaN</td>\n",
       "      <td>NaN</td>\n",
       "      <td>NaN</td>\n",
       "    </tr>\n",
       "    <tr>\n",
       "      <th>std</th>\n",
       "      <td>NaN</td>\n",
       "      <td>NaN</td>\n",
       "      <td>NaN</td>\n",
       "      <td>NaN</td>\n",
       "      <td>NaN</td>\n",
       "      <td>NaN</td>\n",
       "      <td>NaN</td>\n",
       "    </tr>\n",
       "    <tr>\n",
       "      <th>min</th>\n",
       "      <td>NaN</td>\n",
       "      <td>NaN</td>\n",
       "      <td>NaN</td>\n",
       "      <td>NaN</td>\n",
       "      <td>NaN</td>\n",
       "      <td>NaN</td>\n",
       "      <td>NaN</td>\n",
       "    </tr>\n",
       "    <tr>\n",
       "      <th>25%</th>\n",
       "      <td>NaN</td>\n",
       "      <td>NaN</td>\n",
       "      <td>NaN</td>\n",
       "      <td>NaN</td>\n",
       "      <td>NaN</td>\n",
       "      <td>NaN</td>\n",
       "      <td>NaN</td>\n",
       "    </tr>\n",
       "    <tr>\n",
       "      <th>50%</th>\n",
       "      <td>NaN</td>\n",
       "      <td>NaN</td>\n",
       "      <td>NaN</td>\n",
       "      <td>NaN</td>\n",
       "      <td>NaN</td>\n",
       "      <td>NaN</td>\n",
       "      <td>NaN</td>\n",
       "    </tr>\n",
       "    <tr>\n",
       "      <th>75%</th>\n",
       "      <td>NaN</td>\n",
       "      <td>NaN</td>\n",
       "      <td>NaN</td>\n",
       "      <td>NaN</td>\n",
       "      <td>NaN</td>\n",
       "      <td>NaN</td>\n",
       "      <td>NaN</td>\n",
       "    </tr>\n",
       "    <tr>\n",
       "      <th>max</th>\n",
       "      <td>NaN</td>\n",
       "      <td>NaN</td>\n",
       "      <td>NaN</td>\n",
       "      <td>NaN</td>\n",
       "      <td>NaN</td>\n",
       "      <td>NaN</td>\n",
       "      <td>NaN</td>\n",
       "    </tr>\n",
       "  </tbody>\n",
       "</table>\n",
       "</div>"
      ]
     },
     "execution_count": 46,
     "metadata": {},
     "output_type": "execute_result"
    }
   ],
   "execution_count": 46
  },
  {
   "metadata": {},
   "cell_type": "markdown",
   "source": [
    "### Variable average_from_imported_modules (3/7)\n",
    "Esta variable representa el número medio de imports con la clausula From. Como vimos en la descripción de la tabla esta varibale adopta valores en el rango 0 - 16. Con una media de 1.49."
   ],
   "id": "2a00f5be59e6d4a9"
  },
  {
   "metadata": {
    "ExecuteTime": {
     "end_time": "2025-01-27T10:35:26.738167Z",
     "start_time": "2025-01-27T10:35:25.326172Z"
    }
   },
   "cell_type": "code",
   "source": "sns.stripplot(X['import__average_from_imported_modules'])",
   "id": "bcf42c4ca6fb0146",
   "outputs": [
    {
     "data": {
      "text/plain": [
       "<Axes: ylabel='import__average_from_imported_modules'>"
      ]
     },
     "execution_count": 27,
     "metadata": {},
     "output_type": "execute_result"
    },
    {
     "data": {
      "text/plain": [
       "<Figure size 640x480 with 1 Axes>"
      ],
      "image/png": "[encoded data removed]"
     },
     "metadata": {},
     "output_type": "display_data"
    }
   ],
   "execution_count": 27
  },
  {
   "metadata": {},
   "cell_type": "markdown",
   "source": [
    "### IMPORTANTE\n",
    "Los valores máximos están muy alejados del siguiente."
   ],
   "id": "1e81da1c44e59bfa"
  },
  {
   "metadata": {
    "ExecuteTime": {
     "end_time": "2025-01-27T10:35:27.214653Z",
     "start_time": "2025-01-27T10:35:27.184890Z"
    }
   },
   "cell_type": "code",
   "source": "print_outliers_for_df_column(X, 'import__average_from_imported_modules')",
   "id": "2be67c4ab421c8b0",
   "outputs": [
    {
     "name": "stdout",
     "output_type": "stream",
     "text": [
      "El coeficiente MC (Medcouple Coefficient) de balanceo es: 0.7204076806959154\n",
      "Rango valores atípicos extremos (Tukey): [-1.5000001192092896,4.333333492279053]\n",
      "Rango valores atípicos leves (Tukey): [-0.2500000596046448,3.083333432674408]\n",
      "Rango valores atípicos extremos (Fixed BoxPlot): [0.8995688924378821,24.13751821162192]\n",
      "-3.0IQR: 0 instancias tienen un valor para import__average_from_imported_modules inferior a -1.5000001192092896 (Q1-3*IQR) para import__average_from_imported_modules. Representando un 0.0% del total de instancias.\n",
      "-1.5IQR: 0 instancias tienen un valor para import__average_from_imported_modules inferior a -0.2500000596046448 (Q1-1.5*IQR) para import__average_from_imported_modules. Representando un 0.0% del total de instancias.\n",
      "+1.5IQR: 161 instancias tienen un valor para import__average_from_imported_modules superior a 3.083333432674408 (Q3+1.5*IQR) para import__average_from_imported_modules. Representando un 4.001% del total de instancias.\n",
      "+3.0IQR: 27 instancias tienen un valor para import__average_from_imported_modules superior a 4.333333492279053 (Q3-3*IQR) para import__average_from_imported_modules. Representando un 0.671% del total de instancias.\n",
      "L: 180 instancias tienen un valor para import__average_from_imported_modules inferior a 0.8995688924378821 para import__average_from_imported_modules. Representando un 4.473% del total de instancias.\n",
      "U: 0 instancias tienen un valor para import__average_from_imported_modules superior a 24.13751821162192 para import__average_from_imported_modules. Representando un 0.0% del total de instancias.\n"
     ]
    }
   ],
   "execution_count": 28
  },
  {
   "metadata": {},
   "cell_type": "markdown",
   "source": "Describimos los valores de las variables de la tabla, cuando el valor de la variable es mayor que 4.33 (Con un MC de 72 usamos Tukey Extremo)",
   "id": "9c98aa3e712bff76"
  },
  {
   "metadata": {
    "ExecuteTime": {
     "end_time": "2025-01-27T10:39:29.680011Z",
     "start_time": "2025-01-27T10:39:29.608346Z"
    }
   },
   "cell_type": "code",
   "source": "X[X['import__average_from_imported_modules'] > 4.33].describe(percentiles=[.25, .50, .75], include = ['object', 'float', 'bool', 'int'])",
   "id": "ad1049f623d1e003",
   "outputs": [
    {
     "data": {
      "text/plain": [
       "       import__number_imports  import__module_imports_pct  \\\n",
       "count               31.000000                   31.000000   \n",
       "mean                 2.935484                    0.172870   \n",
       "std                  2.205077                    0.222369   \n",
       "min                  1.000000                    0.000000   \n",
       "25%                  2.000000                    0.000000   \n",
       "50%                  2.000000                    0.000000   \n",
       "75%                  4.000000                    0.333333   \n",
       "max                 13.000000                    0.750000   \n",
       "\n",
       "       import__average_imported_modules  import__from_imports_pct  \\\n",
       "count                         31.000000                 31.000000   \n",
       "mean                           0.451613                  0.827130   \n",
       "std                            0.505879                  0.222369   \n",
       "min                            0.000000                  0.250000   \n",
       "25%                            0.000000                  0.666667   \n",
       "50%                            0.000000                  1.000000   \n",
       "75%                            1.000000                  1.000000   \n",
       "max                            1.000000                  1.000000   \n",
       "\n",
       "       import__average_from_imported_modules  \\\n",
       "count                              31.000000   \n",
       "mean                                5.769354   \n",
       "std                                 2.235228   \n",
       "min                                 4.333333   \n",
       "25%                                 4.500000   \n",
       "50%                                 5.000000   \n",
       "75%                                 6.000000   \n",
       "max                                16.000000   \n",
       "\n",
       "       import__average_as_in_imported_modules  import__local_imports_pct  \n",
       "count                                    31.0                  31.000000  \n",
       "mean                                      0.0                   0.677419  \n",
       "std                                       0.0                   0.457318  \n",
       "min                                       0.0                   0.000000  \n",
       "25%                                       0.0                   0.000000  \n",
       "50%                                       0.0                   1.000000  \n",
       "75%                                       0.0                   1.000000  \n",
       "max                                       0.0                   1.000000  "
      ],
      "text/html": [
       "<div>\n",
       "<style scoped>\n",
       "    .dataframe tbody tr th:only-of-type {\n",
       "        vertical-align: middle;\n",
       "    }\n",
       "\n",
       "    .dataframe tbody tr th {\n",
       "        vertical-align: top;\n",
       "    }\n",
       "\n",
       "    .dataframe thead th {\n",
       "        text-align: right;\n",
       "    }\n",
       "</style>\n",
       "<table border=\"1\" class=\"dataframe\">\n",
       "  <thead>\n",
       "    <tr style=\"text-align: right;\">\n",
       "      <th></th>\n",
       "      <th>import__number_imports</th>\n",
       "      <th>import__module_imports_pct</th>\n",
       "      <th>import__average_imported_modules</th>\n",
       "      <th>import__from_imports_pct</th>\n",
       "      <th>import__average_from_imported_modules</th>\n",
       "      <th>import__average_as_in_imported_modules</th>\n",
       "      <th>import__local_imports_pct</th>\n",
       "    </tr>\n",
       "  </thead>\n",
       "  <tbody>\n",
       "    <tr>\n",
       "      <th>count</th>\n",
       "      <td>31.000000</td>\n",
       "      <td>31.000000</td>\n",
       "      <td>31.000000</td>\n",
       "      <td>31.000000</td>\n",
       "      <td>31.000000</td>\n",
       "      <td>31.0</td>\n",
       "      <td>31.000000</td>\n",
       "    </tr>\n",
       "    <tr>\n",
       "      <th>mean</th>\n",
       "      <td>2.935484</td>\n",
       "      <td>0.172870</td>\n",
       "      <td>0.451613</td>\n",
       "      <td>0.827130</td>\n",
       "      <td>5.769354</td>\n",
       "      <td>0.0</td>\n",
       "      <td>0.677419</td>\n",
       "    </tr>\n",
       "    <tr>\n",
       "      <th>std</th>\n",
       "      <td>2.205077</td>\n",
       "      <td>0.222369</td>\n",
       "      <td>0.505879</td>\n",
       "      <td>0.222369</td>\n",
       "      <td>2.235228</td>\n",
       "      <td>0.0</td>\n",
       "      <td>0.457318</td>\n",
       "    </tr>\n",
       "    <tr>\n",
       "      <th>min</th>\n",
       "      <td>1.000000</td>\n",
       "      <td>0.000000</td>\n",
       "      <td>0.000000</td>\n",
       "      <td>0.250000</td>\n",
       "      <td>4.333333</td>\n",
       "      <td>0.0</td>\n",
       "      <td>0.000000</td>\n",
       "    </tr>\n",
       "    <tr>\n",
       "      <th>25%</th>\n",
       "      <td>2.000000</td>\n",
       "      <td>0.000000</td>\n",
       "      <td>0.000000</td>\n",
       "      <td>0.666667</td>\n",
       "      <td>4.500000</td>\n",
       "      <td>0.0</td>\n",
       "      <td>0.000000</td>\n",
       "    </tr>\n",
       "    <tr>\n",
       "      <th>50%</th>\n",
       "      <td>2.000000</td>\n",
       "      <td>0.000000</td>\n",
       "      <td>0.000000</td>\n",
       "      <td>1.000000</td>\n",
       "      <td>5.000000</td>\n",
       "      <td>0.0</td>\n",
       "      <td>1.000000</td>\n",
       "    </tr>\n",
       "    <tr>\n",
       "      <th>75%</th>\n",
       "      <td>4.000000</td>\n",
       "      <td>0.333333</td>\n",
       "      <td>1.000000</td>\n",
       "      <td>1.000000</td>\n",
       "      <td>6.000000</td>\n",
       "      <td>0.0</td>\n",
       "      <td>1.000000</td>\n",
       "    </tr>\n",
       "    <tr>\n",
       "      <th>max</th>\n",
       "      <td>13.000000</td>\n",
       "      <td>0.750000</td>\n",
       "      <td>1.000000</td>\n",
       "      <td>1.000000</td>\n",
       "      <td>16.000000</td>\n",
       "      <td>0.0</td>\n",
       "      <td>1.000000</td>\n",
       "    </tr>\n",
       "  </tbody>\n",
       "</table>\n",
       "</div>"
      ]
     },
     "execution_count": 47,
     "metadata": {},
     "output_type": "execute_result"
    }
   ],
   "execution_count": 47
  },
  {
   "metadata": {},
   "cell_type": "markdown",
   "source": [
    "### Variable average_as_in_imported_modules (4/7)\n",
    "Esta variable es de tipo numérica y nos indica el número medio de import con la cláusula as. Como vimos en la descripción de la tabla esta varibale adopta valores en el rango 0 - 1. Con una media de 0.007."
   ],
   "id": "37d55a98f9df4be"
  },
  {
   "metadata": {
    "ExecuteTime": {
     "end_time": "2025-01-27T10:35:28.533378Z",
     "start_time": "2025-01-27T10:35:28.047724Z"
    }
   },
   "cell_type": "code",
   "source": "sns.stripplot(X['import__average_as_in_imported_modules'])",
   "id": "8d7027a78ac296ed",
   "outputs": [
    {
     "data": {
      "text/plain": [
       "<Axes: ylabel='import__average_as_in_imported_modules'>"
      ]
     },
     "execution_count": 30,
     "metadata": {},
     "output_type": "execute_result"
    },
    {
     "data": {
      "text/plain": [
       "<Figure size 640x480 with 1 Axes>"
      ],
      "image/png": "[encoded data removed]"
     },
     "metadata": {},
     "output_type": "display_data"
    }
   ],
   "execution_count": 30
  },
  {
   "metadata": {
    "ExecuteTime": {
     "end_time": "2025-01-27T10:35:28.826178Z",
     "start_time": "2025-01-27T10:35:28.774909Z"
    }
   },
   "cell_type": "code",
   "source": "print_outliers_for_df_column(X, 'import__average_as_in_imported_modules')",
   "id": "98d831dcd0eeee02",
   "outputs": [
    {
     "name": "stdout",
     "output_type": "stream",
     "text": [
      "El coeficiente MC (Medcouple Coefficient) de balanceo es: 0.9314698216248283\n",
      "Rango valores atípicos extremos (Tukey): [0.0,0.0]\n",
      "Rango valores atípicos leves (Tukey): [0.0,0.0]\n",
      "Rango valores atípicos extremos (Fixed BoxPlot): [0.0,0.0]\n",
      "-3.0IQR: 0 instancias tienen un valor para import__average_as_in_imported_modules inferior a 0.0 (Q1-3*IQR) para import__average_as_in_imported_modules. Representando un 0.0% del total de instancias.\n",
      "-1.5IQR: 0 instancias tienen un valor para import__average_as_in_imported_modules inferior a 0.0 (Q1-1.5*IQR) para import__average_as_in_imported_modules. Representando un 0.0% del total de instancias.\n",
      "+1.5IQR: 161 instancias tienen un valor para import__average_as_in_imported_modules superior a 0.0 (Q3+1.5*IQR) para import__average_as_in_imported_modules. Representando un 4.001% del total de instancias.\n",
      "+3.0IQR: 161 instancias tienen un valor para import__average_as_in_imported_modules superior a 0.0 (Q3-3*IQR) para import__average_as_in_imported_modules. Representando un 4.001% del total de instancias.\n",
      "L: 0 instancias tienen un valor para import__average_as_in_imported_modules inferior a 0.0 para import__average_as_in_imported_modules. Representando un 0.0% del total de instancias.\n",
      "U: 161 instancias tienen un valor para import__average_as_in_imported_modules superior a 0.0 para import__average_as_in_imported_modules. Representando un 4.001% del total de instancias.\n"
     ]
    }
   ],
   "execution_count": 31
  },
  {
   "metadata": {},
   "cell_type": "markdown",
   "source": "Describimos los valores de las variables de la tabla, cuando el valor de la variable es mayor que 0.0 (Con un MC de 93 usamos U)",
   "id": "7c0ecf6141e54c49"
  },
  {
   "metadata": {
    "ExecuteTime": {
     "end_time": "2025-01-27T10:35:29.447585Z",
     "start_time": "2025-01-27T10:35:29.372006Z"
    }
   },
   "cell_type": "code",
   "source": "X[X['import__average_as_in_imported_modules'] > 0.0].describe(percentiles=[.25, .50, .75], include = ['object', 'float', 'bool', 'int'])",
   "id": "74dd9804c97aef00",
   "outputs": [
    {
     "data": {
      "text/plain": [
       "       import__number_imports  import__module_imports_pct  \\\n",
       "count              161.000000                  161.000000   \n",
       "mean                10.260870                    0.231051   \n",
       "std                  6.723579                    0.165580   \n",
       "min                  1.000000                    0.000000   \n",
       "25%                  7.000000                    0.105263   \n",
       "50%                  9.000000                    0.200000   \n",
       "75%                 13.000000                    0.333333   \n",
       "max                 62.000000                    0.666667   \n",
       "\n",
       "       import__average_imported_modules  import__from_imports_pct  \\\n",
       "count                        161.000000                161.000000   \n",
       "mean                           0.875776                  0.768949   \n",
       "std                            0.330866                  0.165580   \n",
       "min                            0.000000                  0.333333   \n",
       "25%                            1.000000                  0.666667   \n",
       "50%                            1.000000                  0.800000   \n",
       "75%                            1.000000                  0.894737   \n",
       "max                            1.000000                  1.000000   \n",
       "\n",
       "       import__average_from_imported_modules  \\\n",
       "count                             161.000000   \n",
       "mean                                1.633698   \n",
       "std                                 0.619908   \n",
       "min                                 1.000000   \n",
       "25%                                 1.125000   \n",
       "50%                                 1.470588   \n",
       "75%                                 2.000000   \n",
       "max                                 4.000000   \n",
       "\n",
       "       import__average_as_in_imported_modules  import__local_imports_pct  \n",
       "count                              161.000000                 161.000000  \n",
       "mean                                 0.182367                   0.777079  \n",
       "std                                  0.217648                   0.409497  \n",
       "min                                  0.007692                   0.000000  \n",
       "25%                                  0.058824                   1.000000  \n",
       "50%                                  0.111111                   1.000000  \n",
       "75%                                  0.200000                   1.000000  \n",
       "max                                  1.000000                   1.000000  "
      ],
      "text/html": [
       "<div>\n",
       "<style scoped>\n",
       "    .dataframe tbody tr th:only-of-type {\n",
       "        vertical-align: middle;\n",
       "    }\n",
       "\n",
       "    .dataframe tbody tr th {\n",
       "        vertical-align: top;\n",
       "    }\n",
       "\n",
       "    .dataframe thead th {\n",
       "        text-align: right;\n",
       "    }\n",
       "</style>\n",
       "<table border=\"1\" class=\"dataframe\">\n",
       "  <thead>\n",
       "    <tr style=\"text-align: right;\">\n",
       "      <th></th>\n",
       "      <th>import__number_imports</th>\n",
       "      <th>import__module_imports_pct</th>\n",
       "      <th>import__average_imported_modules</th>\n",
       "      <th>import__from_imports_pct</th>\n",
       "      <th>import__average_from_imported_modules</th>\n",
       "      <th>import__average_as_in_imported_modules</th>\n",
       "      <th>import__local_imports_pct</th>\n",
       "    </tr>\n",
       "  </thead>\n",
       "  <tbody>\n",
       "    <tr>\n",
       "      <th>count</th>\n",
       "      <td>161.000000</td>\n",
       "      <td>161.000000</td>\n",
       "      <td>161.000000</td>\n",
       "      <td>161.000000</td>\n",
       "      <td>161.000000</td>\n",
       "      <td>161.000000</td>\n",
       "      <td>161.000000</td>\n",
       "    </tr>\n",
       "    <tr>\n",
       "      <th>mean</th>\n",
       "      <td>10.260870</td>\n",
       "      <td>0.231051</td>\n",
       "      <td>0.875776</td>\n",
       "      <td>0.768949</td>\n",
       "      <td>1.633698</td>\n",
       "      <td>0.182367</td>\n",
       "      <td>0.777079</td>\n",
       "    </tr>\n",
       "    <tr>\n",
       "      <th>std</th>\n",
       "      <td>6.723579</td>\n",
       "      <td>0.165580</td>\n",
       "      <td>0.330866</td>\n",
       "      <td>0.165580</td>\n",
       "      <td>0.619908</td>\n",
       "      <td>0.217648</td>\n",
       "      <td>0.409497</td>\n",
       "    </tr>\n",
       "    <tr>\n",
       "      <th>min</th>\n",
       "      <td>1.000000</td>\n",
       "      <td>0.000000</td>\n",
       "      <td>0.000000</td>\n",
       "      <td>0.333333</td>\n",
       "      <td>1.000000</td>\n",
       "      <td>0.007692</td>\n",
       "      <td>0.000000</td>\n",
       "    </tr>\n",
       "    <tr>\n",
       "      <th>25%</th>\n",
       "      <td>7.000000</td>\n",
       "      <td>0.105263</td>\n",
       "      <td>1.000000</td>\n",
       "      <td>0.666667</td>\n",
       "      <td>1.125000</td>\n",
       "      <td>0.058824</td>\n",
       "      <td>1.000000</td>\n",
       "    </tr>\n",
       "    <tr>\n",
       "      <th>50%</th>\n",
       "      <td>9.000000</td>\n",
       "      <td>0.200000</td>\n",
       "      <td>1.000000</td>\n",
       "      <td>0.800000</td>\n",
       "      <td>1.470588</td>\n",
       "      <td>0.111111</td>\n",
       "      <td>1.000000</td>\n",
       "    </tr>\n",
       "    <tr>\n",
       "      <th>75%</th>\n",
       "      <td>13.000000</td>\n",
       "      <td>0.333333</td>\n",
       "      <td>1.000000</td>\n",
       "      <td>0.894737</td>\n",
       "      <td>2.000000</td>\n",
       "      <td>0.200000</td>\n",
       "      <td>1.000000</td>\n",
       "    </tr>\n",
       "    <tr>\n",
       "      <th>max</th>\n",
       "      <td>62.000000</td>\n",
       "      <td>0.666667</td>\n",
       "      <td>1.000000</td>\n",
       "      <td>1.000000</td>\n",
       "      <td>4.000000</td>\n",
       "      <td>1.000000</td>\n",
       "      <td>1.000000</td>\n",
       "    </tr>\n",
       "  </tbody>\n",
       "</table>\n",
       "</div>"
      ]
     },
     "execution_count": 32,
     "metadata": {},
     "output_type": "execute_result"
    }
   ],
   "execution_count": 32
  },
  {
   "metadata": {},
   "cell_type": "markdown",
   "source": [
    "### Variable module_imports_pct (5/7)\n",
    "Esta variable representa la proporción de import simples del fichero. Como vimos en la descripción de la tabla esta varibale adopta valores en el rango 0.0 - 1.0. Con una media de 0.137."
   ],
   "id": "fb182a156befa75a"
  },
  {
   "metadata": {
    "ExecuteTime": {
     "end_time": "2025-01-27T10:35:31.680399Z",
     "start_time": "2025-01-27T10:35:30.128440Z"
    }
   },
   "cell_type": "code",
   "source": "sns.displot(X['import__module_imports_pct'], bins=[i / 100 for i in range(0, 101)])",
   "id": "8cfc8a56a436ab6d",
   "outputs": [
    {
     "data": {
      "text/plain": [
       "<seaborn.axisgrid.FacetGrid at 0x18c1043ec90>"
      ]
     },
     "execution_count": 33,
     "metadata": {},
     "output_type": "execute_result"
    },
    {
     "data": {
      "text/plain": [
       "<Figure size 500x500 with 1 Axes>"
      ],
      "image/png": "[encoded data removed]"
     },
     "metadata": {},
     "output_type": "display_data"
    }
   ],
   "execution_count": 33
  },
  {
   "metadata": {
    "ExecuteTime": {
     "end_time": "2025-01-27T10:35:31.911750Z",
     "start_time": "2025-01-27T10:35:31.890839Z"
    }
   },
   "cell_type": "code",
   "source": "print_outliers_for_df_column(X, 'import__module_imports_pct')",
   "id": "6d4e07dfc0eea73c",
   "outputs": [
    {
     "name": "stdout",
     "output_type": "stream",
     "text": [
      "El coeficiente MC (Medcouple Coefficient) de balanceo es: 0.5300186509684446\n",
      "Rango valores atípicos extremos (Tukey): [-0.75,1.0]\n",
      "Rango valores atípicos leves (Tukey): [-0.375,0.625]\n",
      "Rango valores atípicos extremos (Fixed BoxPlot): [-0.058666023754557116,3.37440964225086]\n",
      "-3.0IQR: 0 instancias tienen un valor para import__module_imports_pct inferior a -0.75 (Q1-3*IQR) para import__module_imports_pct. Representando un 0.0% del total de instancias.\n",
      "-1.5IQR: 0 instancias tienen un valor para import__module_imports_pct inferior a -0.375 (Q1-1.5*IQR) para import__module_imports_pct. Representando un 0.0% del total de instancias.\n",
      "+1.5IQR: 130 instancias tienen un valor para import__module_imports_pct superior a 0.625 (Q3+1.5*IQR) para import__module_imports_pct. Representando un 3.231% del total de instancias.\n",
      "+3.0IQR: 0 instancias tienen un valor para import__module_imports_pct superior a 1.0 (Q3-3*IQR) para import__module_imports_pct. Representando un 0.0% del total de instancias.\n",
      "L: 0 instancias tienen un valor para import__module_imports_pct inferior a -0.058666023754557116 para import__module_imports_pct. Representando un 0.0% del total de instancias.\n",
      "U: 0 instancias tienen un valor para import__module_imports_pct superior a 3.37440964225086 para import__module_imports_pct. Representando un 0.0% del total de instancias.\n"
     ]
    }
   ],
   "execution_count": 34
  },
  {
   "metadata": {},
   "cell_type": "markdown",
   "source": "Describimos los valores de las variables de la tabla, cuando el valor de la variable es mayor que 0.625 (Con un MC de 53 usamos Tukey)",
   "id": "98f69668863e35d1"
  },
  {
   "metadata": {
    "ExecuteTime": {
     "end_time": "2025-01-27T10:35:33.102285Z",
     "start_time": "2025-01-27T10:35:32.408058Z"
    }
   },
   "cell_type": "code",
   "source": "X[X['import__module_imports_pct'] > 0.625].describe(percentiles=[.25, .50, .75], include = ['object', 'float', 'bool', 'int'])",
   "id": "5c5b54117de99ea5",
   "outputs": [
    {
     "data": {
      "text/plain": [
       "       import__number_imports  import__module_imports_pct  \\\n",
       "count             2274.000000                      2274.0   \n",
       "mean                 3.169745                         0.0   \n",
       "std                  3.421194                         0.0   \n",
       "min                  0.000000                         0.0   \n",
       "25%                  1.000000                         0.0   \n",
       "50%                  2.000000                         0.0   \n",
       "75%                  4.000000                         0.0   \n",
       "max                 43.000000                         0.0   \n",
       "\n",
       "       import__average_imported_modules  import__from_imports_pct  \\\n",
       "count                            2274.0               2274.000000   \n",
       "mean                                0.0                  0.937995   \n",
       "std                                 0.0                  0.241218   \n",
       "min                                 0.0                  0.000000   \n",
       "25%                                 0.0                  1.000000   \n",
       "50%                                 0.0                  1.000000   \n",
       "75%                                 0.0                  1.000000   \n",
       "max                                 0.0                  1.000000   \n",
       "\n",
       "       import__average_from_imported_modules  \\\n",
       "count                            2274.000000   \n",
       "mean                                1.330599   \n",
       "std                                 0.829232   \n",
       "min                                 0.000000   \n",
       "25%                                 1.000000   \n",
       "50%                                 1.000000   \n",
       "75%                                 1.571429   \n",
       "max                                16.000000   \n",
       "\n",
       "       import__average_as_in_imported_modules  import__local_imports_pct  \n",
       "count                             2274.000000                2274.000000  \n",
       "mean                                 0.001795                   0.711192  \n",
       "std                                  0.033667                   0.451916  \n",
       "min                                  0.000000                   0.000000  \n",
       "25%                                  0.000000                   0.000000  \n",
       "50%                                  0.000000                   1.000000  \n",
       "75%                                  0.000000                   1.000000  \n",
       "max                                  1.000000                   1.000000  "
      ],
      "text/html": [
       "<div>\n",
       "<style scoped>\n",
       "    .dataframe tbody tr th:only-of-type {\n",
       "        vertical-align: middle;\n",
       "    }\n",
       "\n",
       "    .dataframe tbody tr th {\n",
       "        vertical-align: top;\n",
       "    }\n",
       "\n",
       "    .dataframe thead th {\n",
       "        text-align: right;\n",
       "    }\n",
       "</style>\n",
       "<table border=\"1\" class=\"dataframe\">\n",
       "  <thead>\n",
       "    <tr style=\"text-align: right;\">\n",
       "      <th></th>\n",
       "      <th>import__number_imports</th>\n",
       "      <th>import__module_imports_pct</th>\n",
       "      <th>import__average_imported_modules</th>\n",
       "      <th>import__from_imports_pct</th>\n",
       "      <th>import__average_from_imported_modules</th>\n",
       "      <th>import__average_as_in_imported_modules</th>\n",
       "      <th>import__local_imports_pct</th>\n",
       "    </tr>\n",
       "  </thead>\n",
       "  <tbody>\n",
       "    <tr>\n",
       "      <th>count</th>\n",
       "      <td>2274.000000</td>\n",
       "      <td>2274.0</td>\n",
       "      <td>2274.0</td>\n",
       "      <td>2274.000000</td>\n",
       "      <td>2274.000000</td>\n",
       "      <td>2274.000000</td>\n",
       "      <td>2274.000000</td>\n",
       "    </tr>\n",
       "    <tr>\n",
       "      <th>mean</th>\n",
       "      <td>3.169745</td>\n",
       "      <td>0.0</td>\n",
       "      <td>0.0</td>\n",
       "      <td>0.937995</td>\n",
       "      <td>1.330599</td>\n",
       "      <td>0.001795</td>\n",
       "      <td>0.711192</td>\n",
       "    </tr>\n",
       "    <tr>\n",
       "      <th>std</th>\n",
       "      <td>3.421194</td>\n",
       "      <td>0.0</td>\n",
       "      <td>0.0</td>\n",
       "      <td>0.241218</td>\n",
       "      <td>0.829232</td>\n",
       "      <td>0.033667</td>\n",
       "      <td>0.451916</td>\n",
       "    </tr>\n",
       "    <tr>\n",
       "      <th>min</th>\n",
       "      <td>0.000000</td>\n",
       "      <td>0.0</td>\n",
       "      <td>0.0</td>\n",
       "      <td>0.000000</td>\n",
       "      <td>0.000000</td>\n",
       "      <td>0.000000</td>\n",
       "      <td>0.000000</td>\n",
       "    </tr>\n",
       "    <tr>\n",
       "      <th>25%</th>\n",
       "      <td>1.000000</td>\n",
       "      <td>0.0</td>\n",
       "      <td>0.0</td>\n",
       "      <td>1.000000</td>\n",
       "      <td>1.000000</td>\n",
       "      <td>0.000000</td>\n",
       "      <td>0.000000</td>\n",
       "    </tr>\n",
       "    <tr>\n",
       "      <th>50%</th>\n",
       "      <td>2.000000</td>\n",
       "      <td>0.0</td>\n",
       "      <td>0.0</td>\n",
       "      <td>1.000000</td>\n",
       "      <td>1.000000</td>\n",
       "      <td>0.000000</td>\n",
       "      <td>1.000000</td>\n",
       "    </tr>\n",
       "    <tr>\n",
       "      <th>75%</th>\n",
       "      <td>4.000000</td>\n",
       "      <td>0.0</td>\n",
       "      <td>0.0</td>\n",
       "      <td>1.000000</td>\n",
       "      <td>1.571429</td>\n",
       "      <td>0.000000</td>\n",
       "      <td>1.000000</td>\n",
       "    </tr>\n",
       "    <tr>\n",
       "      <th>max</th>\n",
       "      <td>43.000000</td>\n",
       "      <td>0.0</td>\n",
       "      <td>0.0</td>\n",
       "      <td>1.000000</td>\n",
       "      <td>16.000000</td>\n",
       "      <td>1.000000</td>\n",
       "      <td>1.000000</td>\n",
       "    </tr>\n",
       "  </tbody>\n",
       "</table>\n",
       "</div>"
      ]
     },
     "execution_count": 35,
     "metadata": {},
     "output_type": "execute_result"
    }
   ],
   "execution_count": 35
  },
  {
   "metadata": {},
   "cell_type": "markdown",
   "source": [
    "### Variable from_imports_pct (6/7)\n",
    "Esta variable representa la proporción de imports que usan la clausula From en el fichero. Como vimos en la descripción de la tabla esta varibale adopta valores en el rango 0.0 - 1.0. Con una media de 0.827.\n"
   ],
   "id": "fbd6e93cca1be4bf"
  },
  {
   "metadata": {
    "ExecuteTime": {
     "end_time": "2025-01-27T10:35:36.316873Z",
     "start_time": "2025-01-27T10:35:33.399557Z"
    }
   },
   "cell_type": "code",
   "source": "sns.displot(X['import__from_imports_pct'], bins=[i / 100 for i in range(0, 101)])",
   "id": "f1b75c25c53f4ad5",
   "outputs": [
    {
     "data": {
      "text/plain": [
       "<seaborn.axisgrid.FacetGrid at 0x18c125a08f0>"
      ]
     },
     "execution_count": 36,
     "metadata": {},
     "output_type": "execute_result"
    },
    {
     "data": {
      "text/plain": [
       "<Figure size 500x500 with 1 Axes>"
      ],
      "image/png": "[encoded data removed]"
     },
     "metadata": {},
     "output_type": "display_data"
    }
   ],
   "execution_count": 36
  },
  {
   "metadata": {
    "ExecuteTime": {
     "end_time": "2025-01-27T10:35:36.585698Z",
     "start_time": "2025-01-27T10:35:36.557288Z"
    }
   },
   "cell_type": "code",
   "source": "print_outliers_for_df_column(X, 'import__from_imports_pct')",
   "id": "d44c212251238f23",
   "outputs": [
    {
     "name": "stdout",
     "output_type": "stream",
     "text": [
      "El coeficiente MC (Medcouple Coefficient) de balanceo es: -0.3096010684967041\n",
      "Rango valores atípicos extremos (Tukey): [0.0,1.75]\n",
      "Rango valores atípicos leves (Tukey): [0.375,1.375]\n",
      "Rango valores atípicos extremos (Fixed BoxPlot): [-0.5437888686420764,1.126890217847873]\n",
      "-3.0IQR: 0 instancias tienen un valor para import__from_imports_pct inferior a 0.0 (Q1-3*IQR) para import__from_imports_pct. Representando un 0.0% del total de instancias.\n",
      "-1.5IQR: 271 instancias tienen un valor para import__from_imports_pct inferior a 0.375 (Q1-1.5*IQR) para import__from_imports_pct. Representando un 6.735% del total de instancias.\n",
      "+1.5IQR: 0 instancias tienen un valor para import__from_imports_pct superior a 1.375 (Q3+1.5*IQR) para import__from_imports_pct. Representando un 0.0% del total de instancias.\n",
      "+3.0IQR: 0 instancias tienen un valor para import__from_imports_pct superior a 1.75 (Q3-3*IQR) para import__from_imports_pct. Representando un 0.0% del total de instancias.\n",
      "L: 0 instancias tienen un valor para import__from_imports_pct inferior a -0.5437888686420764 para import__from_imports_pct. Representando un 0.0% del total de instancias.\n",
      "U: 0 instancias tienen un valor para import__from_imports_pct superior a 1.126890217847873 para import__from_imports_pct. Representando un 0.0% del total de instancias.\n"
     ]
    }
   ],
   "execution_count": 37
  },
  {
   "metadata": {},
   "cell_type": "markdown",
   "source": "IMPORTANTE: Estos valores siguen un distribucion en forma de U (distribucion de Laplace). Con lo que los posibles valores outliers estan en el medio, no en los extremos. No se puede aplicar el metodo de tukey. En este momento, solo vamos a mostrar los valores que hay en el medio.",
   "id": "2105fc1e9e292de7"
  },
  {
   "metadata": {
    "ExecuteTime": {
     "end_time": "2025-01-27T10:35:37.103723Z",
     "start_time": "2025-01-27T10:35:37.038798Z"
    }
   },
   "cell_type": "code",
   "source": "X[(X['import__from_imports_pct'] > 0.0) & (X['import__from_imports_pct'] < 1.0)].describe(percentiles=[.25, .50, .75], include = ['object', 'float', 'bool', 'int'])",
   "id": "b493e3454f34ef9",
   "outputs": [
    {
     "data": {
      "text/plain": [
       "       import__number_imports  import__module_imports_pct  \\\n",
       "count             1711.000000                 1711.000000   \n",
       "mean                 7.583869                    0.300726   \n",
       "std                  4.391893                    0.172831   \n",
       "min                  2.000000                    0.043478   \n",
       "25%                  5.000000                    0.166667   \n",
       "50%                  7.000000                    0.250000   \n",
       "75%                 10.000000                    0.414216   \n",
       "max                 62.000000                    0.857143   \n",
       "\n",
       "       import__average_imported_modules  import__from_imports_pct  \\\n",
       "count                            1711.0               1711.000000   \n",
       "mean                                1.0                  0.699275   \n",
       "std                                 0.0                  0.172831   \n",
       "min                                 1.0                  0.142857   \n",
       "25%                                 1.0                  0.585784   \n",
       "50%                                 1.0                  0.750000   \n",
       "75%                                 1.0                  0.833333   \n",
       "max                                 1.0                  0.956522   \n",
       "\n",
       "       import__average_from_imported_modules  \\\n",
       "count                            1711.000000   \n",
       "mean                                1.751578   \n",
       "std                                 0.755982   \n",
       "min                                 1.000000   \n",
       "25%                                 1.200000   \n",
       "50%                                 1.600000   \n",
       "75%                                 2.000000   \n",
       "max                                 7.000000   \n",
       "\n",
       "       import__average_as_in_imported_modules  import__local_imports_pct  \n",
       "count                             1711.000000                1711.000000  \n",
       "mean                                 0.014775                   0.623023  \n",
       "std                                  0.076383                   0.477344  \n",
       "min                                  0.000000                   0.000000  \n",
       "25%                                  0.000000                   0.000000  \n",
       "50%                                  0.000000                   1.000000  \n",
       "75%                                  0.000000                   1.000000  \n",
       "max                                  1.000000                   1.000000  "
      ],
      "text/html": [
       "<div>\n",
       "<style scoped>\n",
       "    .dataframe tbody tr th:only-of-type {\n",
       "        vertical-align: middle;\n",
       "    }\n",
       "\n",
       "    .dataframe tbody tr th {\n",
       "        vertical-align: top;\n",
       "    }\n",
       "\n",
       "    .dataframe thead th {\n",
       "        text-align: right;\n",
       "    }\n",
       "</style>\n",
       "<table border=\"1\" class=\"dataframe\">\n",
       "  <thead>\n",
       "    <tr style=\"text-align: right;\">\n",
       "      <th></th>\n",
       "      <th>import__number_imports</th>\n",
       "      <th>import__module_imports_pct</th>\n",
       "      <th>import__average_imported_modules</th>\n",
       "      <th>import__from_imports_pct</th>\n",
       "      <th>import__average_from_imported_modules</th>\n",
       "      <th>import__average_as_in_imported_modules</th>\n",
       "      <th>import__local_imports_pct</th>\n",
       "    </tr>\n",
       "  </thead>\n",
       "  <tbody>\n",
       "    <tr>\n",
       "      <th>count</th>\n",
       "      <td>1711.000000</td>\n",
       "      <td>1711.000000</td>\n",
       "      <td>1711.0</td>\n",
       "      <td>1711.000000</td>\n",
       "      <td>1711.000000</td>\n",
       "      <td>1711.000000</td>\n",
       "      <td>1711.000000</td>\n",
       "    </tr>\n",
       "    <tr>\n",
       "      <th>mean</th>\n",
       "      <td>7.583869</td>\n",
       "      <td>0.300726</td>\n",
       "      <td>1.0</td>\n",
       "      <td>0.699275</td>\n",
       "      <td>1.751578</td>\n",
       "      <td>0.014775</td>\n",
       "      <td>0.623023</td>\n",
       "    </tr>\n",
       "    <tr>\n",
       "      <th>std</th>\n",
       "      <td>4.391893</td>\n",
       "      <td>0.172831</td>\n",
       "      <td>0.0</td>\n",
       "      <td>0.172831</td>\n",
       "      <td>0.755982</td>\n",
       "      <td>0.076383</td>\n",
       "      <td>0.477344</td>\n",
       "    </tr>\n",
       "    <tr>\n",
       "      <th>min</th>\n",
       "      <td>2.000000</td>\n",
       "      <td>0.043478</td>\n",
       "      <td>1.0</td>\n",
       "      <td>0.142857</td>\n",
       "      <td>1.000000</td>\n",
       "      <td>0.000000</td>\n",
       "      <td>0.000000</td>\n",
       "    </tr>\n",
       "    <tr>\n",
       "      <th>25%</th>\n",
       "      <td>5.000000</td>\n",
       "      <td>0.166667</td>\n",
       "      <td>1.0</td>\n",
       "      <td>0.585784</td>\n",
       "      <td>1.200000</td>\n",
       "      <td>0.000000</td>\n",
       "      <td>0.000000</td>\n",
       "    </tr>\n",
       "    <tr>\n",
       "      <th>50%</th>\n",
       "      <td>7.000000</td>\n",
       "      <td>0.250000</td>\n",
       "      <td>1.0</td>\n",
       "      <td>0.750000</td>\n",
       "      <td>1.600000</td>\n",
       "      <td>0.000000</td>\n",
       "      <td>1.000000</td>\n",
       "    </tr>\n",
       "    <tr>\n",
       "      <th>75%</th>\n",
       "      <td>10.000000</td>\n",
       "      <td>0.414216</td>\n",
       "      <td>1.0</td>\n",
       "      <td>0.833333</td>\n",
       "      <td>2.000000</td>\n",
       "      <td>0.000000</td>\n",
       "      <td>1.000000</td>\n",
       "    </tr>\n",
       "    <tr>\n",
       "      <th>max</th>\n",
       "      <td>62.000000</td>\n",
       "      <td>0.857143</td>\n",
       "      <td>1.0</td>\n",
       "      <td>0.956522</td>\n",
       "      <td>7.000000</td>\n",
       "      <td>1.000000</td>\n",
       "      <td>1.000000</td>\n",
       "    </tr>\n",
       "  </tbody>\n",
       "</table>\n",
       "</div>"
      ]
     },
     "execution_count": 38,
     "metadata": {},
     "output_type": "execute_result"
    }
   ],
   "execution_count": 38
  },
  {
   "metadata": {},
   "cell_type": "markdown",
   "source": [
    "### Variable local_imports_pct (7/7)\n",
    "Esta variable representa la proporción de imports no escritos al comienzo del fichero. Como vimos en la descripción de la tabla esta varibale adopta valores en el rango 0.0 - 1.0. Con una media de 0.68. "
   ],
   "id": "e3d532376a1f0a16"
  },
  {
   "metadata": {
    "ExecuteTime": {
     "end_time": "2025-01-27T10:35:40.708250Z",
     "start_time": "2025-01-27T10:35:37.491442Z"
    }
   },
   "cell_type": "code",
   "source": "sns.displot(X['import__local_imports_pct'], bins=[i / 100 for i in range(0, 101)])",
   "id": "345260364ebc3bf6",
   "outputs": [
    {
     "data": {
      "text/plain": [
       "<seaborn.axisgrid.FacetGrid at 0x18c1262e570>"
      ]
     },
     "execution_count": 39,
     "metadata": {},
     "output_type": "execute_result"
    },
    {
     "data": {
      "text/plain": [
       "<Figure size 500x500 with 1 Axes>"
      ],
      "image/png": "[encoded data removed]"
     },
     "metadata": {},
     "output_type": "display_data"
    }
   ],
   "execution_count": 39
  },
  {
   "metadata": {
    "ExecuteTime": {
     "end_time": "2025-01-27T10:35:41.116547Z",
     "start_time": "2025-01-27T10:35:40.968616Z"
    }
   },
   "cell_type": "code",
   "source": "print_outliers_for_df_column(X, 'import__local_imports_pct')",
   "id": "974c59b1f655d0f3",
   "outputs": [
    {
     "name": "stdout",
     "output_type": "stream",
     "text": [
      "El coeficiente MC (Medcouple Coefficient) de balanceo es: -0.3930028608807168\n",
      "Rango valores atípicos extremos (Tukey): [-3.0,4.0]\n",
      "Rango valores atípicos leves (Tukey): [-1.5,2.5]\n",
      "Rango valores atípicos extremos (Fixed BoxPlot): [-7.224489337942685,1.3790660157714951]\n",
      "-3.0IQR: 0 instancias tienen un valor para import__local_imports_pct inferior a -3.0 (Q1-3*IQR) para import__local_imports_pct. Representando un 0.0% del total de instancias.\n",
      "-1.5IQR: 0 instancias tienen un valor para import__local_imports_pct inferior a -1.5 (Q1-1.5*IQR) para import__local_imports_pct. Representando un 0.0% del total de instancias.\n",
      "+1.5IQR: 0 instancias tienen un valor para import__local_imports_pct superior a 2.5 (Q3+1.5*IQR) para import__local_imports_pct. Representando un 0.0% del total de instancias.\n",
      "+3.0IQR: 0 instancias tienen un valor para import__local_imports_pct superior a 4.0 (Q3-3*IQR) para import__local_imports_pct. Representando un 0.0% del total de instancias.\n",
      "L: 0 instancias tienen un valor para import__local_imports_pct inferior a -7.224489337942685 para import__local_imports_pct. Representando un 0.0% del total de instancias.\n",
      "U: 0 instancias tienen un valor para import__local_imports_pct superior a 1.3790660157714951 para import__local_imports_pct. Representando un 0.0% del total de instancias.\n"
     ]
    }
   ],
   "execution_count": 40
  },
  {
   "metadata": {},
   "cell_type": "markdown",
   "source": "IMPORTANTE: Estos valores siguen un distribucion en forma de U (distribucion de Laplace). Con lo que los posibles valores outliers estan en el medio, no en los extremos. No se puede aplicar el metodo de tukey. En este momento, solo vamos a mostrar los valores que hay en el medio.",
   "id": "edf865eda2133801"
  },
  {
   "metadata": {
    "ExecuteTime": {
     "end_time": "2025-01-27T10:35:41.446112Z",
     "start_time": "2025-01-27T10:35:41.257170Z"
    }
   },
   "cell_type": "code",
   "source": "X[(X['import__local_imports_pct'] < 1.0) & X['import__local_imports_pct'] > 0.0].describe(percentiles=[.25, .50, .75], include = ['object', 'float', 'bool', 'int'])",
   "id": "fd3d31b12264e45",
   "outputs": [
    {
     "data": {
      "text/plain": [
       "       import__number_imports  import__module_imports_pct  \\\n",
       "count               79.000000                   79.000000   \n",
       "mean                 7.772152                    0.262493   \n",
       "std                  4.883120                    0.223885   \n",
       "min                  3.000000                    0.000000   \n",
       "25%                  5.000000                    0.142857   \n",
       "50%                  6.000000                    0.200000   \n",
       "75%                  9.000000                    0.333333   \n",
       "max                 29.000000                    1.000000   \n",
       "\n",
       "       import__average_imported_modules  import__from_imports_pct  \\\n",
       "count                         79.000000                 79.000000   \n",
       "mean                           0.822785                  0.737507   \n",
       "std                            0.384291                  0.223885   \n",
       "min                            0.000000                  0.000000   \n",
       "25%                            1.000000                  0.666667   \n",
       "50%                            1.000000                  0.800000   \n",
       "75%                            1.000000                  0.857143   \n",
       "max                            1.000000                  1.000000   \n",
       "\n",
       "       import__average_from_imported_modules  \\\n",
       "count                              79.000000   \n",
       "mean                                1.760460   \n",
       "std                                 0.723682   \n",
       "min                                 0.000000   \n",
       "25%                                 1.333333   \n",
       "50%                                 1.500000   \n",
       "75%                                 2.000000   \n",
       "max                                 4.333333   \n",
       "\n",
       "       import__average_as_in_imported_modules  import__local_imports_pct  \n",
       "count                               79.000000                  79.000000  \n",
       "mean                                 0.006235                   0.528384  \n",
       "std                                  0.023321                   0.236256  \n",
       "min                                  0.000000                   0.076923  \n",
       "25%                                  0.000000                   0.375000  \n",
       "50%                                  0.000000                   0.500000  \n",
       "75%                                  0.000000                   0.703297  \n",
       "max                                  0.142857                   0.958333  "
      ],
      "text/html": [
       "<div>\n",
       "<style scoped>\n",
       "    .dataframe tbody tr th:only-of-type {\n",
       "        vertical-align: middle;\n",
       "    }\n",
       "\n",
       "    .dataframe tbody tr th {\n",
       "        vertical-align: top;\n",
       "    }\n",
       "\n",
       "    .dataframe thead th {\n",
       "        text-align: right;\n",
       "    }\n",
       "</style>\n",
       "<table border=\"1\" class=\"dataframe\">\n",
       "  <thead>\n",
       "    <tr style=\"text-align: right;\">\n",
       "      <th></th>\n",
       "      <th>import__number_imports</th>\n",
       "      <th>import__module_imports_pct</th>\n",
       "      <th>import__average_imported_modules</th>\n",
       "      <th>import__from_imports_pct</th>\n",
       "      <th>import__average_from_imported_modules</th>\n",
       "      <th>import__average_as_in_imported_modules</th>\n",
       "      <th>import__local_imports_pct</th>\n",
       "    </tr>\n",
       "  </thead>\n",
       "  <tbody>\n",
       "    <tr>\n",
       "      <th>count</th>\n",
       "      <td>79.000000</td>\n",
       "      <td>79.000000</td>\n",
       "      <td>79.000000</td>\n",
       "      <td>79.000000</td>\n",
       "      <td>79.000000</td>\n",
       "      <td>79.000000</td>\n",
       "      <td>79.000000</td>\n",
       "    </tr>\n",
       "    <tr>\n",
       "      <th>mean</th>\n",
       "      <td>7.772152</td>\n",
       "      <td>0.262493</td>\n",
       "      <td>0.822785</td>\n",
       "      <td>0.737507</td>\n",
       "      <td>1.760460</td>\n",
       "      <td>0.006235</td>\n",
       "      <td>0.528384</td>\n",
       "    </tr>\n",
       "    <tr>\n",
       "      <th>std</th>\n",
       "      <td>4.883120</td>\n",
       "      <td>0.223885</td>\n",
       "      <td>0.384291</td>\n",
       "      <td>0.223885</td>\n",
       "      <td>0.723682</td>\n",
       "      <td>0.023321</td>\n",
       "      <td>0.236256</td>\n",
       "    </tr>\n",
       "    <tr>\n",
       "      <th>min</th>\n",
       "      <td>3.000000</td>\n",
       "      <td>0.000000</td>\n",
       "      <td>0.000000</td>\n",
       "      <td>0.000000</td>\n",
       "      <td>0.000000</td>\n",
       "      <td>0.000000</td>\n",
       "      <td>0.076923</td>\n",
       "    </tr>\n",
       "    <tr>\n",
       "      <th>25%</th>\n",
       "      <td>5.000000</td>\n",
       "      <td>0.142857</td>\n",
       "      <td>1.000000</td>\n",
       "      <td>0.666667</td>\n",
       "      <td>1.333333</td>\n",
       "      <td>0.000000</td>\n",
       "      <td>0.375000</td>\n",
       "    </tr>\n",
       "    <tr>\n",
       "      <th>50%</th>\n",
       "      <td>6.000000</td>\n",
       "      <td>0.200000</td>\n",
       "      <td>1.000000</td>\n",
       "      <td>0.800000</td>\n",
       "      <td>1.500000</td>\n",
       "      <td>0.000000</td>\n",
       "      <td>0.500000</td>\n",
       "    </tr>\n",
       "    <tr>\n",
       "      <th>75%</th>\n",
       "      <td>9.000000</td>\n",
       "      <td>0.333333</td>\n",
       "      <td>1.000000</td>\n",
       "      <td>0.857143</td>\n",
       "      <td>2.000000</td>\n",
       "      <td>0.000000</td>\n",
       "      <td>0.703297</td>\n",
       "    </tr>\n",
       "    <tr>\n",
       "      <th>max</th>\n",
       "      <td>29.000000</td>\n",
       "      <td>1.000000</td>\n",
       "      <td>1.000000</td>\n",
       "      <td>1.000000</td>\n",
       "      <td>4.333333</td>\n",
       "      <td>0.142857</td>\n",
       "      <td>0.958333</td>\n",
       "    </tr>\n",
       "  </tbody>\n",
       "</table>\n",
       "</div>"
      ]
     },
     "execution_count": 41,
     "metadata": {},
     "output_type": "execute_result"
    }
   ],
   "execution_count": 41
  },
  {
   "metadata": {},
   "cell_type": "markdown",
   "source": [
    "### IMPORTANTE\n",
    "El 31% tienen un 0% y el 66% tienen un 100%."
   ],
   "id": "be9f5d1d8d65c88a"
  },
  {
   "cell_type": "markdown",
   "id": "a63c33a981202cfe",
   "metadata": {
    "collapsed": false
   },
   "source": [
    "## Multivariate\n",
    "\n",
    "Isolation forest algorithm"
   ]
  },
  {
   "cell_type": "code",
   "id": "51448304c36d916e",
   "metadata": {
    "collapsed": false,
    "ExecuteTime": {
     "end_time": "2025-01-27T10:35:48.635729Z",
     "start_time": "2025-01-27T10:35:41.710361Z"
    }
   },
   "source": [
    "from sklearn.ensemble import  IsolationForest\n",
    "\n",
    "CONTAMINATION_FACTOR = 0.0012\n",
    "isof_model = IsolationForest(contamination=CONTAMINATION_FACTOR, random_state=0)\n",
    "isof_prediction = isof_model.fit_predict(X.values)\n",
    "mask = isof_prediction == -1\n",
    "full_table.loc[X.index[mask]]"
   ],
   "outputs": [
    {
     "data": {
      "text/plain": [
       "      import__number_imports  import__module_imports_pct  \\\n",
       "186                        4                    1.000000   \n",
       "208                        2                    1.000000   \n",
       "389                        1                    1.000000   \n",
       "2156                       7                    0.857143   \n",
       "3972                       2                    1.000000   \n",
       "\n",
       "      import__average_imported_modules  import__from_imports_pct  \\\n",
       "186                                1.0                  0.000000   \n",
       "208                                1.0                  0.000000   \n",
       "389                                1.0                  0.000000   \n",
       "2156                               1.0                  0.142857   \n",
       "3972                               1.0                  0.000000   \n",
       "\n",
       "      import__average_from_imported_modules  \\\n",
       "186                                     0.0   \n",
       "208                                     0.0   \n",
       "389                                     0.0   \n",
       "2156                                    4.0   \n",
       "3972                                    0.0   \n",
       "\n",
       "      import__average_as_in_imported_modules  import__local_imports_pct  \\\n",
       "186                                      0.0                   0.500000   \n",
       "208                                      0.0                   0.000000   \n",
       "389                                      0.0                   0.000000   \n",
       "2156                                     0.0                   0.142857   \n",
       "3972                                     0.0                   0.000000   \n",
       "\n",
       "     import__expertise_level  \n",
       "186             PROFESSIONAL  \n",
       "208             PROFESSIONAL  \n",
       "389             PROFESSIONAL  \n",
       "2156            PROFESSIONAL  \n",
       "3972            PROFESSIONAL  "
      ],
      "text/html": [
       "<div>\n",
       "<style scoped>\n",
       "    .dataframe tbody tr th:only-of-type {\n",
       "        vertical-align: middle;\n",
       "    }\n",
       "\n",
       "    .dataframe tbody tr th {\n",
       "        vertical-align: top;\n",
       "    }\n",
       "\n",
       "    .dataframe thead th {\n",
       "        text-align: right;\n",
       "    }\n",
       "</style>\n",
       "<table border=\"1\" class=\"dataframe\">\n",
       "  <thead>\n",
       "    <tr style=\"text-align: right;\">\n",
       "      <th></th>\n",
       "      <th>import__number_imports</th>\n",
       "      <th>import__module_imports_pct</th>\n",
       "      <th>import__average_imported_modules</th>\n",
       "      <th>import__from_imports_pct</th>\n",
       "      <th>import__average_from_imported_modules</th>\n",
       "      <th>import__average_as_in_imported_modules</th>\n",
       "      <th>import__local_imports_pct</th>\n",
       "      <th>import__expertise_level</th>\n",
       "    </tr>\n",
       "  </thead>\n",
       "  <tbody>\n",
       "    <tr>\n",
       "      <th>186</th>\n",
       "      <td>4</td>\n",
       "      <td>1.000000</td>\n",
       "      <td>1.0</td>\n",
       "      <td>0.000000</td>\n",
       "      <td>0.0</td>\n",
       "      <td>0.0</td>\n",
       "      <td>0.500000</td>\n",
       "      <td>PROFESSIONAL</td>\n",
       "    </tr>\n",
       "    <tr>\n",
       "      <th>208</th>\n",
       "      <td>2</td>\n",
       "      <td>1.000000</td>\n",
       "      <td>1.0</td>\n",
       "      <td>0.000000</td>\n",
       "      <td>0.0</td>\n",
       "      <td>0.0</td>\n",
       "      <td>0.000000</td>\n",
       "      <td>PROFESSIONAL</td>\n",
       "    </tr>\n",
       "    <tr>\n",
       "      <th>389</th>\n",
       "      <td>1</td>\n",
       "      <td>1.000000</td>\n",
       "      <td>1.0</td>\n",
       "      <td>0.000000</td>\n",
       "      <td>0.0</td>\n",
       "      <td>0.0</td>\n",
       "      <td>0.000000</td>\n",
       "      <td>PROFESSIONAL</td>\n",
       "    </tr>\n",
       "    <tr>\n",
       "      <th>2156</th>\n",
       "      <td>7</td>\n",
       "      <td>0.857143</td>\n",
       "      <td>1.0</td>\n",
       "      <td>0.142857</td>\n",
       "      <td>4.0</td>\n",
       "      <td>0.0</td>\n",
       "      <td>0.142857</td>\n",
       "      <td>PROFESSIONAL</td>\n",
       "    </tr>\n",
       "    <tr>\n",
       "      <th>3972</th>\n",
       "      <td>2</td>\n",
       "      <td>1.000000</td>\n",
       "      <td>1.0</td>\n",
       "      <td>0.000000</td>\n",
       "      <td>0.0</td>\n",
       "      <td>0.0</td>\n",
       "      <td>0.000000</td>\n",
       "      <td>PROFESSIONAL</td>\n",
       "    </tr>\n",
       "  </tbody>\n",
       "</table>\n",
       "</div>"
      ]
     },
     "execution_count": 42,
     "metadata": {},
     "output_type": "execute_result"
    }
   ],
   "execution_count": 42
  },
  {
   "metadata": {},
   "cell_type": "markdown",
   "source": [
    "### IMPORTANTE\n",
    "Revisar las 13 identificadas como outliers."
   ],
   "id": "fc481c479fdf13fd"
  },
  {
   "metadata": {
    "ExecuteTime": {
     "end_time": "2025-01-27T10:35:49.847140Z",
     "start_time": "2025-01-27T10:35:49.383299Z"
    }
   },
   "cell_type": "code",
   "source": [
    "# Non-Outliers\n",
    "np.transpose(X[~mask].describe(percentiles=[.25, .50, .75], include = ['object', 'float', 'bool', 'int']))"
   ],
   "id": "74b84e6af218e1ae",
   "outputs": [
    {
     "data": {
      "text/plain": [
       "                                         count      mean       std  min   25%  \\\n",
       "import__number_imports                  4019.0  5.040308  4.432433  0.0  2.00   \n",
       "import__module_imports_pct              4019.0  0.136523  0.202751  0.0  0.00   \n",
       "import__average_imported_modules        4019.0  0.434188  0.495711  0.0  0.00   \n",
       "import__from_imports_pct                4019.0  0.828394  0.255709  0.0  0.75   \n",
       "import__average_from_imported_modules   4019.0  1.497570  0.832736  0.0  1.00   \n",
       "import__average_as_in_imported_modules  4019.0  0.007306  0.056264  0.0  0.00   \n",
       "import__local_imports_pct               4019.0  0.675566  0.464228  0.0  0.00   \n",
       "\n",
       "                                             50%       75%   max  \n",
       "import__number_imports                  4.000000  7.000000  62.0  \n",
       "import__module_imports_pct              0.000000  0.250000   1.0  \n",
       "import__average_imported_modules        0.000000  1.000000   1.0  \n",
       "import__from_imports_pct                1.000000  1.000000   1.0  \n",
       "import__average_from_imported_modules   1.285714  1.833333  16.0  \n",
       "import__average_as_in_imported_modules  0.000000  0.000000   1.0  \n",
       "import__local_imports_pct               1.000000  1.000000   1.0  "
      ],
      "text/html": [
       "<div>\n",
       "<style scoped>\n",
       "    .dataframe tbody tr th:only-of-type {\n",
       "        vertical-align: middle;\n",
       "    }\n",
       "\n",
       "    .dataframe tbody tr th {\n",
       "        vertical-align: top;\n",
       "    }\n",
       "\n",
       "    .dataframe thead th {\n",
       "        text-align: right;\n",
       "    }\n",
       "</style>\n",
       "<table border=\"1\" class=\"dataframe\">\n",
       "  <thead>\n",
       "    <tr style=\"text-align: right;\">\n",
       "      <th></th>\n",
       "      <th>count</th>\n",
       "      <th>mean</th>\n",
       "      <th>std</th>\n",
       "      <th>min</th>\n",
       "      <th>25%</th>\n",
       "      <th>50%</th>\n",
       "      <th>75%</th>\n",
       "      <th>max</th>\n",
       "    </tr>\n",
       "  </thead>\n",
       "  <tbody>\n",
       "    <tr>\n",
       "      <th>import__number_imports</th>\n",
       "      <td>4019.0</td>\n",
       "      <td>5.040308</td>\n",
       "      <td>4.432433</td>\n",
       "      <td>0.0</td>\n",
       "      <td>2.00</td>\n",
       "      <td>4.000000</td>\n",
       "      <td>7.000000</td>\n",
       "      <td>62.0</td>\n",
       "    </tr>\n",
       "    <tr>\n",
       "      <th>import__module_imports_pct</th>\n",
       "      <td>4019.0</td>\n",
       "      <td>0.136523</td>\n",
       "      <td>0.202751</td>\n",
       "      <td>0.0</td>\n",
       "      <td>0.00</td>\n",
       "      <td>0.000000</td>\n",
       "      <td>0.250000</td>\n",
       "      <td>1.0</td>\n",
       "    </tr>\n",
       "    <tr>\n",
       "      <th>import__average_imported_modules</th>\n",
       "      <td>4019.0</td>\n",
       "      <td>0.434188</td>\n",
       "      <td>0.495711</td>\n",
       "      <td>0.0</td>\n",
       "      <td>0.00</td>\n",
       "      <td>0.000000</td>\n",
       "      <td>1.000000</td>\n",
       "      <td>1.0</td>\n",
       "    </tr>\n",
       "    <tr>\n",
       "      <th>import__from_imports_pct</th>\n",
       "      <td>4019.0</td>\n",
       "      <td>0.828394</td>\n",
       "      <td>0.255709</td>\n",
       "      <td>0.0</td>\n",
       "      <td>0.75</td>\n",
       "      <td>1.000000</td>\n",
       "      <td>1.000000</td>\n",
       "      <td>1.0</td>\n",
       "    </tr>\n",
       "    <tr>\n",
       "      <th>import__average_from_imported_modules</th>\n",
       "      <td>4019.0</td>\n",
       "      <td>1.497570</td>\n",
       "      <td>0.832736</td>\n",
       "      <td>0.0</td>\n",
       "      <td>1.00</td>\n",
       "      <td>1.285714</td>\n",
       "      <td>1.833333</td>\n",
       "      <td>16.0</td>\n",
       "    </tr>\n",
       "    <tr>\n",
       "      <th>import__average_as_in_imported_modules</th>\n",
       "      <td>4019.0</td>\n",
       "      <td>0.007306</td>\n",
       "      <td>0.056264</td>\n",
       "      <td>0.0</td>\n",
       "      <td>0.00</td>\n",
       "      <td>0.000000</td>\n",
       "      <td>0.000000</td>\n",
       "      <td>1.0</td>\n",
       "    </tr>\n",
       "    <tr>\n",
       "      <th>import__local_imports_pct</th>\n",
       "      <td>4019.0</td>\n",
       "      <td>0.675566</td>\n",
       "      <td>0.464228</td>\n",
       "      <td>0.0</td>\n",
       "      <td>0.00</td>\n",
       "      <td>1.000000</td>\n",
       "      <td>1.000000</td>\n",
       "      <td>1.0</td>\n",
       "    </tr>\n",
       "  </tbody>\n",
       "</table>\n",
       "</div>"
      ]
     },
     "execution_count": 43,
     "metadata": {},
     "output_type": "execute_result"
    }
   ],
   "execution_count": 43
  },
  {
   "metadata": {
    "ExecuteTime": {
     "end_time": "2025-01-27T10:35:50.650488Z",
     "start_time": "2025-01-27T10:35:50.413367Z"
    }
   },
   "cell_type": "code",
   "source": [
    "# Outliers\n",
    "np.transpose(X[mask].describe(percentiles=[.25, .50, .75], include = ['object', 'float', 'bool', 'int']))"
   ],
   "id": "35f40d3f07279e35",
   "outputs": [
    {
     "data": {
      "text/plain": [
       "                                        count      mean       std       min  \\\n",
       "import__number_imports                    5.0  3.200000  2.387467  1.000000   \n",
       "import__module_imports_pct                5.0  0.971429  0.063888  0.857143   \n",
       "import__average_imported_modules          5.0  1.000000  0.000000  1.000000   \n",
       "import__from_imports_pct                  5.0  0.028571  0.063888  0.000000   \n",
       "import__average_from_imported_modules     5.0  0.800000  1.788854  0.000000   \n",
       "import__average_as_in_imported_modules    5.0  0.000000  0.000000  0.000000   \n",
       "import__local_imports_pct                 5.0  0.128571  0.216654  0.000000   \n",
       "\n",
       "                                        25%  50%       75%       max  \n",
       "import__number_imports                  2.0  2.0  4.000000  7.000000  \n",
       "import__module_imports_pct              1.0  1.0  1.000000  1.000000  \n",
       "import__average_imported_modules        1.0  1.0  1.000000  1.000000  \n",
       "import__from_imports_pct                0.0  0.0  0.000000  0.142857  \n",
       "import__average_from_imported_modules   0.0  0.0  0.000000  4.000000  \n",
       "import__average_as_in_imported_modules  0.0  0.0  0.000000  0.000000  \n",
       "import__local_imports_pct               0.0  0.0  0.142857  0.500000  "
      ],
      "text/html": [
       "<div>\n",
       "<style scoped>\n",
       "    .dataframe tbody tr th:only-of-type {\n",
       "        vertical-align: middle;\n",
       "    }\n",
       "\n",
       "    .dataframe tbody tr th {\n",
       "        vertical-align: top;\n",
       "    }\n",
       "\n",
       "    .dataframe thead th {\n",
       "        text-align: right;\n",
       "    }\n",
       "</style>\n",
       "<table border=\"1\" class=\"dataframe\">\n",
       "  <thead>\n",
       "    <tr style=\"text-align: right;\">\n",
       "      <th></th>\n",
       "      <th>count</th>\n",
       "      <th>mean</th>\n",
       "      <th>std</th>\n",
       "      <th>min</th>\n",
       "      <th>25%</th>\n",
       "      <th>50%</th>\n",
       "      <th>75%</th>\n",
       "      <th>max</th>\n",
       "    </tr>\n",
       "  </thead>\n",
       "  <tbody>\n",
       "    <tr>\n",
       "      <th>import__number_imports</th>\n",
       "      <td>5.0</td>\n",
       "      <td>3.200000</td>\n",
       "      <td>2.387467</td>\n",
       "      <td>1.000000</td>\n",
       "      <td>2.0</td>\n",
       "      <td>2.0</td>\n",
       "      <td>4.000000</td>\n",
       "      <td>7.000000</td>\n",
       "    </tr>\n",
       "    <tr>\n",
       "      <th>import__module_imports_pct</th>\n",
       "      <td>5.0</td>\n",
       "      <td>0.971429</td>\n",
       "      <td>0.063888</td>\n",
       "      <td>0.857143</td>\n",
       "      <td>1.0</td>\n",
       "      <td>1.0</td>\n",
       "      <td>1.000000</td>\n",
       "      <td>1.000000</td>\n",
       "    </tr>\n",
       "    <tr>\n",
       "      <th>import__average_imported_modules</th>\n",
       "      <td>5.0</td>\n",
       "      <td>1.000000</td>\n",
       "      <td>0.000000</td>\n",
       "      <td>1.000000</td>\n",
       "      <td>1.0</td>\n",
       "      <td>1.0</td>\n",
       "      <td>1.000000</td>\n",
       "      <td>1.000000</td>\n",
       "    </tr>\n",
       "    <tr>\n",
       "      <th>import__from_imports_pct</th>\n",
       "      <td>5.0</td>\n",
       "      <td>0.028571</td>\n",
       "      <td>0.063888</td>\n",
       "      <td>0.000000</td>\n",
       "      <td>0.0</td>\n",
       "      <td>0.0</td>\n",
       "      <td>0.000000</td>\n",
       "      <td>0.142857</td>\n",
       "    </tr>\n",
       "    <tr>\n",
       "      <th>import__average_from_imported_modules</th>\n",
       "      <td>5.0</td>\n",
       "      <td>0.800000</td>\n",
       "      <td>1.788854</td>\n",
       "      <td>0.000000</td>\n",
       "      <td>0.0</td>\n",
       "      <td>0.0</td>\n",
       "      <td>0.000000</td>\n",
       "      <td>4.000000</td>\n",
       "    </tr>\n",
       "    <tr>\n",
       "      <th>import__average_as_in_imported_modules</th>\n",
       "      <td>5.0</td>\n",
       "      <td>0.000000</td>\n",
       "      <td>0.000000</td>\n",
       "      <td>0.000000</td>\n",
       "      <td>0.0</td>\n",
       "      <td>0.0</td>\n",
       "      <td>0.000000</td>\n",
       "      <td>0.000000</td>\n",
       "    </tr>\n",
       "    <tr>\n",
       "      <th>import__local_imports_pct</th>\n",
       "      <td>5.0</td>\n",
       "      <td>0.128571</td>\n",
       "      <td>0.216654</td>\n",
       "      <td>0.000000</td>\n",
       "      <td>0.0</td>\n",
       "      <td>0.0</td>\n",
       "      <td>0.142857</td>\n",
       "      <td>0.500000</td>\n",
       "    </tr>\n",
       "  </tbody>\n",
       "</table>\n",
       "</div>"
      ]
     },
     "execution_count": 44,
     "metadata": {},
     "output_type": "execute_result"
    }
   ],
   "execution_count": 44
  }
 ],
 "metadata": {
  "kernelspec": {
   "display_name": "Python 3 (ipykernel)",
   "language": "python",
   "name": "python3"
  },
  "language_info": {
   "codemirror_mode": {
    "name": "ipython",
    "version": 3
   },
   "file_extension": ".py",
   "mimetype": "text/x-python",
   "name": "python",
   "nbconvert_exporter": "python",
   "pygments_lexer": "ipython3",
   "version": "3.12.2"
  },
  "toc-autonumbering": true,
  "toc-showcode": false,
  "toc-showmarkdowntxt": false,
  "toc-showtags": false
 },
 "nbformat": 4,
 "nbformat_minor": 5
}
