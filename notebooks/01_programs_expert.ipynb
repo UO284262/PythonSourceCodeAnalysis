{
 "cells": [
  {
   "cell_type": "markdown",
   "id": "ea78b212-ff32-40d1-92e1-9e09d847ae78",
   "metadata": {
    "pycharm": {
     "name": "#%% md\n"
    }
   },
   "source": [
    "# Programs EXPERT\n",
    "\n",
    "Esta tabla contiene la información a nivel de programa."
   ]
  },
  {
   "cell_type": "markdown",
   "id": "b862cb2f-c1e0-4074-92c0-004dea379079",
   "metadata": {
    "pycharm": {
     "name": "#%% md\n"
    }
   },
   "source": [
    "## 1 - Obtencion de datos"
   ]
  },
  {
   "cell_type": "code",
   "id": "63793d9c-9473-44fa-bb1d-8e4b32fa1457",
   "metadata": {
    "pycharm": {
     "name": "#%%\n"
    },
    "tags": [],
    "ExecuteTime": {
     "end_time": "2025-01-26T10:11:41.214696Z",
     "start_time": "2025-01-26T10:11:41.197929Z"
    }
   },
   "source": [
    "import matplotlib.pyplot as plt\n",
    "from notebooks_utils import *\n",
    "\n",
    "TARGET_FEATURE = 'program__expertise_level'\n",
    "TARGET_CLASS = 'PROFESSIONAL'\n",
    "full_table = get_data('programs')\n",
    "\n",
    "instances_for_class_low = len(full_table[full_table[TARGET_FEATURE] == \"BEGINNER\"])\n",
    "instances_for_class_high = len(full_table[full_table[TARGET_FEATURE] == \"PROFESSIONAL\"])\n",
    "\n",
    "print(f\"The dataset contains {instances_for_class_low} ({instances_for_class_low/len(full_table)*100:.4}%) instances for BEGINNER class and {instances_for_class_high} ({instances_for_class_high/len(full_table)*100:.4}%) for PROFESSIONAL class.\")"
   ],
   "outputs": [
    {
     "name": "stdout",
     "output_type": "stream",
     "text": [
      "2025-01-26 11:11:41.200113 Data cache files found ...\n",
      "2025-01-26 11:11:41.200113 Data cache files successfully loaded!!\n",
      "The dataset contains 1591 (99.87%) instances for BEGINNER class and 2 (0.1255%) for PROFESSIONAL class.\n"
     ]
    }
   ],
   "execution_count": 12
  },
  {
   "metadata": {
    "ExecuteTime": {
     "end_time": "2025-01-26T10:11:41.584868Z",
     "start_time": "2025-01-26T10:11:41.522482Z"
    }
   },
   "cell_type": "code",
   "source": [
    "full_table = full_table[full_table[TARGET_FEATURE] == TARGET_CLASS]\n",
    "\n",
    "# Table name and features.\n",
    "TABLE_NAME = 'programs'\n",
    "TABLE_FEATURES = ['program__has_sub_dirs_with_code','program__has_packages','program__number_of_modules','program__number_of_sub_dirs_with_code','program__number_of_packages','program__class_defs_pct','program__function_defs_pct','program__enum_defs_pct','program__has_code_root_package','program__average_defs_per_module']\n",
    "\n",
    "# Load features.\n",
    "X = full_table[TABLE_FEATURES]\n",
    "\n",
    "# Print information about the loaded table.\n",
    "print(f' {TARGET_CLASS} CLASS Features shape: {X.shape}')\n",
    "\n",
    "print(f'As we can see the downloaded data contains a total of {X.shape[0]} instances of {TARGET_CLASS}. Each of the instances corresponds to a program. For each program we have {X.shape[1]} attributes.')"
   ],
   "id": "68445c8be4d3db17",
   "outputs": [
    {
     "name": "stdout",
     "output_type": "stream",
     "text": [
      " PROFESSIONAL CLASS Features shape: (2, 10)\n",
      "As we can see the downloaded data contains a total of 2 instances of PROFESSIONAL. Each of the instances corresponds to a program. For each program we have 10 attributes.\n"
     ]
    }
   ],
   "execution_count": 13
  },
  {
   "cell_type": "markdown",
   "id": "3ff70454-366f-4231-831d-723eeb63576b",
   "metadata": {},
   "source": [
    "## 2 - Exploracion de datos\n",
    "\n",
    "Una vez tenemos nuestra tabla en un dataframe el siguiente paso es explorarla para ver qué tipo de información contiene."
   ]
  },
  {
   "cell_type": "code",
   "id": "9b526577-537d-44b0-951b-168278ce7a5c",
   "metadata": {
    "ExecuteTime": {
     "end_time": "2025-01-26T10:11:42.093394Z",
     "start_time": "2025-01-26T10:11:41.985677Z"
    }
   },
   "source": "print(X.info())",
   "outputs": [
    {
     "name": "stdout",
     "output_type": "stream",
     "text": [
      "<class 'pandas.core.frame.DataFrame'>\n",
      "Index: 2 entries, 0 to 1\n",
      "Data columns (total 10 columns):\n",
      " #   Column                                 Non-Null Count  Dtype  \n",
      "---  ------                                 --------------  -----  \n",
      " 0   program__has_sub_dirs_with_code        2 non-null      bool   \n",
      " 1   program__has_packages                  2 non-null      bool   \n",
      " 2   program__number_of_modules             2 non-null      int64  \n",
      " 3   program__number_of_sub_dirs_with_code  2 non-null      int64  \n",
      " 4   program__number_of_packages            2 non-null      int64  \n",
      " 5   program__class_defs_pct                2 non-null      float64\n",
      " 6   program__function_defs_pct             2 non-null      float64\n",
      " 7   program__enum_defs_pct                 2 non-null      float64\n",
      " 8   program__has_code_root_package         2 non-null      bool   \n",
      " 9   program__average_defs_per_module       2 non-null      float64\n",
      "dtypes: bool(3), float64(4), int64(3)\n",
      "memory usage: 134.0 bytes\n",
      "None\n"
     ]
    }
   ],
   "execution_count": 14
  },
  {
   "cell_type": "markdown",
   "id": "cbf77cd4-9819-4da1-9405-44054d2290e1",
   "metadata": {},
   "source": "Cómo podemos ver la tabla está compuesta por 7 variables numéricas, 3 variables boleanas."
  },
  {
   "cell_type": "markdown",
   "id": "31d297c18f157194",
   "metadata": {
    "collapsed": false
   },
   "source": [
    "### 2.1 - Valores Nulos \n",
    "Miramos si alguna de las variables que contiene la tabla contiene algún valor que sea nulo."
   ]
  },
  {
   "cell_type": "code",
   "id": "afeed2ce9080cbbb",
   "metadata": {
    "collapsed": false,
    "ExecuteTime": {
     "end_time": "2025-01-26T10:11:42.889604Z",
     "start_time": "2025-01-26T10:11:42.870529Z"
    }
   },
   "source": [
    "X.isnull().sum()"
   ],
   "outputs": [
    {
     "data": {
      "text/plain": [
       "program__has_sub_dirs_with_code          0\n",
       "program__has_packages                    0\n",
       "program__number_of_modules               0\n",
       "program__number_of_sub_dirs_with_code    0\n",
       "program__number_of_packages              0\n",
       "program__class_defs_pct                  0\n",
       "program__function_defs_pct               0\n",
       "program__enum_defs_pct                   0\n",
       "program__has_code_root_package           0\n",
       "program__average_defs_per_module         0\n",
       "dtype: int64"
      ]
     },
     "execution_count": 15,
     "metadata": {},
     "output_type": "execute_result"
    }
   ],
   "execution_count": 15
  },
  {
   "cell_type": "markdown",
   "id": "1a8e02c0c52edff9",
   "metadata": {
    "collapsed": false
   },
   "source": "Aunque una columna no contenga valores nulos podría ser que contenga valores vacíos."
  },
  {
   "cell_type": "code",
   "id": "73b9dc2f9efc111a",
   "metadata": {
    "collapsed": false,
    "ExecuteTime": {
     "end_time": "2025-01-26T10:11:44.067893Z",
     "start_time": "2025-01-26T10:11:43.730383Z"
    }
   },
   "source": [
    "print_empty_cols(X)"
   ],
   "outputs": [
    {
     "name": "stdout",
     "output_type": "stream",
     "text": [
      "program__has_sub_dirs_with_code\n",
      "-------------------------------\n",
      "0 instancias no tienen un valor para la columna program__has_sub_dirs_with_code\n",
      "\n",
      "\n",
      "program__has_packages\n",
      "---------------------\n",
      "0 instancias no tienen un valor para la columna program__has_packages\n",
      "\n",
      "\n",
      "program__number_of_modules\n",
      "--------------------------\n",
      "0 instancias no tienen un valor para la columna program__number_of_modules\n",
      "\n",
      "\n",
      "program__number_of_sub_dirs_with_code\n",
      "-------------------------------------\n",
      "0 instancias no tienen un valor para la columna program__number_of_sub_dirs_with_code\n",
      "\n",
      "\n",
      "program__number_of_packages\n",
      "---------------------------\n",
      "0 instancias no tienen un valor para la columna program__number_of_packages\n",
      "\n",
      "\n",
      "program__class_defs_pct\n",
      "-----------------------\n",
      "0 instancias no tienen un valor para la columna program__class_defs_pct\n",
      "\n",
      "\n",
      "program__function_defs_pct\n",
      "--------------------------\n",
      "0 instancias no tienen un valor para la columna program__function_defs_pct\n",
      "\n",
      "\n",
      "program__enum_defs_pct\n",
      "----------------------\n",
      "0 instancias no tienen un valor para la columna program__enum_defs_pct\n",
      "\n",
      "\n",
      "program__has_code_root_package\n",
      "------------------------------\n",
      "0 instancias no tienen un valor para la columna program__has_code_root_package\n",
      "\n",
      "\n",
      "program__average_defs_per_module\n",
      "--------------------------------\n",
      "0 instancias no tienen un valor para la columna program__average_defs_per_module\n",
      "\n",
      "\n"
     ]
    }
   ],
   "execution_count": 16
  },
  {
   "cell_type": "markdown",
   "id": "105774ea722bf467",
   "metadata": {
    "collapsed": false
   },
   "source": "### 2.2 - Describimos los valores de las variables de la tabla."
  },
  {
   "cell_type": "code",
   "id": "d3be1e5cec1af46c",
   "metadata": {
    "collapsed": false,
    "ExecuteTime": {
     "end_time": "2025-01-26T10:11:44.522960Z",
     "start_time": "2025-01-26T10:11:44.284731Z"
    }
   },
   "source": [
    "np.transpose(X.describe(percentiles=[.25, .50, .75], include = ['object', 'float', 'bool', 'int']))"
   ],
   "outputs": [
    {
     "data": {
      "text/plain": [
       "                                      count unique   top freq      mean  \\\n",
       "program__has_sub_dirs_with_code           2      1  True    2       NaN   \n",
       "program__has_packages                     2      1  True    2       NaN   \n",
       "program__number_of_modules              2.0    NaN   NaN  NaN    2012.0   \n",
       "program__number_of_sub_dirs_with_code   2.0    NaN   NaN  NaN      58.0   \n",
       "program__number_of_packages             2.0    NaN   NaN  NaN     708.5   \n",
       "program__class_defs_pct                 2.0    NaN   NaN  NaN  0.371767   \n",
       "program__function_defs_pct              2.0    NaN   NaN  NaN  0.614788   \n",
       "program__enum_defs_pct                  2.0    NaN   NaN  NaN  0.013445   \n",
       "program__has_code_root_package            2      2  True    1       NaN   \n",
       "program__average_defs_per_module        2.0    NaN   NaN  NaN  2.580751   \n",
       "\n",
       "                                               std       min       25%  \\\n",
       "program__has_sub_dirs_with_code                NaN       NaN       NaN   \n",
       "program__has_packages                          NaN       NaN       NaN   \n",
       "program__number_of_modules             1813.021787     730.0    1371.0   \n",
       "program__number_of_sub_dirs_with_code    14.142136      48.0      53.0   \n",
       "program__number_of_packages             832.264681     120.0    414.25   \n",
       "program__class_defs_pct                   0.003991  0.368945  0.370356   \n",
       "program__function_defs_pct                0.003975  0.611977  0.613383   \n",
       "program__enum_defs_pct                    0.007966  0.007812  0.010629   \n",
       "program__has_code_root_package                 NaN       NaN       NaN   \n",
       "program__average_defs_per_module           1.06173  1.829994  2.205372   \n",
       "\n",
       "                                            50%       75%       max  \n",
       "program__has_sub_dirs_with_code             NaN       NaN       NaN  \n",
       "program__has_packages                       NaN       NaN       NaN  \n",
       "program__number_of_modules               2012.0    2653.0    3294.0  \n",
       "program__number_of_sub_dirs_with_code      58.0      63.0      68.0  \n",
       "program__number_of_packages               708.5   1002.75    1297.0  \n",
       "program__class_defs_pct                0.371767  0.373178  0.374589  \n",
       "program__function_defs_pct             0.614788  0.616193  0.617599  \n",
       "program__enum_defs_pct                 0.013445  0.016261  0.019078  \n",
       "program__has_code_root_package              NaN       NaN       NaN  \n",
       "program__average_defs_per_module       2.580751  2.956129  3.331507  "
      ],
      "text/html": [
       "<div>\n",
       "<style scoped>\n",
       "    .dataframe tbody tr th:only-of-type {\n",
       "        vertical-align: middle;\n",
       "    }\n",
       "\n",
       "    .dataframe tbody tr th {\n",
       "        vertical-align: top;\n",
       "    }\n",
       "\n",
       "    .dataframe thead th {\n",
       "        text-align: right;\n",
       "    }\n",
       "</style>\n",
       "<table border=\"1\" class=\"dataframe\">\n",
       "  <thead>\n",
       "    <tr style=\"text-align: right;\">\n",
       "      <th></th>\n",
       "      <th>count</th>\n",
       "      <th>unique</th>\n",
       "      <th>top</th>\n",
       "      <th>freq</th>\n",
       "      <th>mean</th>\n",
       "      <th>std</th>\n",
       "      <th>min</th>\n",
       "      <th>25%</th>\n",
       "      <th>50%</th>\n",
       "      <th>75%</th>\n",
       "      <th>max</th>\n",
       "    </tr>\n",
       "  </thead>\n",
       "  <tbody>\n",
       "    <tr>\n",
       "      <th>program__has_sub_dirs_with_code</th>\n",
       "      <td>2</td>\n",
       "      <td>1</td>\n",
       "      <td>True</td>\n",
       "      <td>2</td>\n",
       "      <td>NaN</td>\n",
       "      <td>NaN</td>\n",
       "      <td>NaN</td>\n",
       "      <td>NaN</td>\n",
       "      <td>NaN</td>\n",
       "      <td>NaN</td>\n",
       "      <td>NaN</td>\n",
       "    </tr>\n",
       "    <tr>\n",
       "      <th>program__has_packages</th>\n",
       "      <td>2</td>\n",
       "      <td>1</td>\n",
       "      <td>True</td>\n",
       "      <td>2</td>\n",
       "      <td>NaN</td>\n",
       "      <td>NaN</td>\n",
       "      <td>NaN</td>\n",
       "      <td>NaN</td>\n",
       "      <td>NaN</td>\n",
       "      <td>NaN</td>\n",
       "      <td>NaN</td>\n",
       "    </tr>\n",
       "    <tr>\n",
       "      <th>program__number_of_modules</th>\n",
       "      <td>2.0</td>\n",
       "      <td>NaN</td>\n",
       "      <td>NaN</td>\n",
       "      <td>NaN</td>\n",
       "      <td>2012.0</td>\n",
       "      <td>1813.021787</td>\n",
       "      <td>730.0</td>\n",
       "      <td>1371.0</td>\n",
       "      <td>2012.0</td>\n",
       "      <td>2653.0</td>\n",
       "      <td>3294.0</td>\n",
       "    </tr>\n",
       "    <tr>\n",
       "      <th>program__number_of_sub_dirs_with_code</th>\n",
       "      <td>2.0</td>\n",
       "      <td>NaN</td>\n",
       "      <td>NaN</td>\n",
       "      <td>NaN</td>\n",
       "      <td>58.0</td>\n",
       "      <td>14.142136</td>\n",
       "      <td>48.0</td>\n",
       "      <td>53.0</td>\n",
       "      <td>58.0</td>\n",
       "      <td>63.0</td>\n",
       "      <td>68.0</td>\n",
       "    </tr>\n",
       "    <tr>\n",
       "      <th>program__number_of_packages</th>\n",
       "      <td>2.0</td>\n",
       "      <td>NaN</td>\n",
       "      <td>NaN</td>\n",
       "      <td>NaN</td>\n",
       "      <td>708.5</td>\n",
       "      <td>832.264681</td>\n",
       "      <td>120.0</td>\n",
       "      <td>414.25</td>\n",
       "      <td>708.5</td>\n",
       "      <td>1002.75</td>\n",
       "      <td>1297.0</td>\n",
       "    </tr>\n",
       "    <tr>\n",
       "      <th>program__class_defs_pct</th>\n",
       "      <td>2.0</td>\n",
       "      <td>NaN</td>\n",
       "      <td>NaN</td>\n",
       "      <td>NaN</td>\n",
       "      <td>0.371767</td>\n",
       "      <td>0.003991</td>\n",
       "      <td>0.368945</td>\n",
       "      <td>0.370356</td>\n",
       "      <td>0.371767</td>\n",
       "      <td>0.373178</td>\n",
       "      <td>0.374589</td>\n",
       "    </tr>\n",
       "    <tr>\n",
       "      <th>program__function_defs_pct</th>\n",
       "      <td>2.0</td>\n",
       "      <td>NaN</td>\n",
       "      <td>NaN</td>\n",
       "      <td>NaN</td>\n",
       "      <td>0.614788</td>\n",
       "      <td>0.003975</td>\n",
       "      <td>0.611977</td>\n",
       "      <td>0.613383</td>\n",
       "      <td>0.614788</td>\n",
       "      <td>0.616193</td>\n",
       "      <td>0.617599</td>\n",
       "    </tr>\n",
       "    <tr>\n",
       "      <th>program__enum_defs_pct</th>\n",
       "      <td>2.0</td>\n",
       "      <td>NaN</td>\n",
       "      <td>NaN</td>\n",
       "      <td>NaN</td>\n",
       "      <td>0.013445</td>\n",
       "      <td>0.007966</td>\n",
       "      <td>0.007812</td>\n",
       "      <td>0.010629</td>\n",
       "      <td>0.013445</td>\n",
       "      <td>0.016261</td>\n",
       "      <td>0.019078</td>\n",
       "    </tr>\n",
       "    <tr>\n",
       "      <th>program__has_code_root_package</th>\n",
       "      <td>2</td>\n",
       "      <td>2</td>\n",
       "      <td>True</td>\n",
       "      <td>1</td>\n",
       "      <td>NaN</td>\n",
       "      <td>NaN</td>\n",
       "      <td>NaN</td>\n",
       "      <td>NaN</td>\n",
       "      <td>NaN</td>\n",
       "      <td>NaN</td>\n",
       "      <td>NaN</td>\n",
       "    </tr>\n",
       "    <tr>\n",
       "      <th>program__average_defs_per_module</th>\n",
       "      <td>2.0</td>\n",
       "      <td>NaN</td>\n",
       "      <td>NaN</td>\n",
       "      <td>NaN</td>\n",
       "      <td>2.580751</td>\n",
       "      <td>1.06173</td>\n",
       "      <td>1.829994</td>\n",
       "      <td>2.205372</td>\n",
       "      <td>2.580751</td>\n",
       "      <td>2.956129</td>\n",
       "      <td>3.331507</td>\n",
       "    </tr>\n",
       "  </tbody>\n",
       "</table>\n",
       "</div>"
      ]
     },
     "execution_count": 17,
     "metadata": {},
     "output_type": "execute_result"
    }
   ],
   "execution_count": 17
  },
  {
   "cell_type": "markdown",
   "id": "b9f859b03e8083f1",
   "metadata": {
    "collapsed": false
   },
   "source": "Vamos a discretizar las variables numericas, agrupando conjuntos de valores en categorias, para hacer un análisis de los datos. Para cada variable es necesaario ver la distribucion de lo valores para hacer los bins (categorias)."
  },
  {
   "metadata": {},
   "cell_type": "markdown",
   "source": [
    "### IMPORTANTE\n",
    "Revisar programa con 3k modulos y 1k paquetes."
   ],
   "id": "fad88b24e9d93284"
  },
  {
   "cell_type": "code",
   "id": "b7cf5fae0fd0e5ef",
   "metadata": {
    "collapsed": false,
    "ExecuteTime": {
     "end_time": "2025-01-26T10:11:45.177677Z",
     "start_time": "2025-01-26T10:11:44.835019Z"
    }
   },
   "source": [
    "# DISCRETIZATION\n",
    "X_copy = X.copy()\n",
    "\n",
    "discretized_columns = {\n",
    "    \"program__class_defs_pct\": [(0.0, 0.0), (0.0, inf)],  # min: 0.0 max: 1.0\n",
    "    \"program__function_defs_pct\": [(0.0, 0.0),(0.0, 1.0), (1.0, 1.0)],  # min: 0.0 max: 1.0\n",
    "    \"program__enum_defs_pct\": [(0.0, 0.0), (0.0, inf)],  # min: 0.0 max: 0.19\n",
    "    \"program__number_of_modules\": [(1, 1), (2,2), (3,3), (4,inf)],  # min: 1 max: 3294\n",
    "    \"program__number_of_sub_dirs_with_code\": [(0, 0), (0, inf)], # min: 0 max: 238\n",
    "    \"program__number_of_packages\": [(0, 0), (0, inf)], # min: 0 max: 1297\n",
    "    \"program__average_defs_per_module\": [(0, 0), (0, 1), (1, 3), (3, inf)], # min: 0 max: 26    \n",
    "}\n",
    "\n",
    "discretize_columns(X_copy, discretized_columns)\n",
    "    \n",
    "# SINGLE FEATURE\n",
    "print(\"--- SINGLE FEATURE ---\")\n",
    "print(get_statistics(X_copy, ['program__has_sub_dirs_with_code'], 10))\n",
    "print(get_statistics(X_copy, ['program__has_packages'], 10))\n",
    "print(get_statistics(X_copy, ['program__has_code_root_package'], 10))\n",
    "print(get_statistics(X_copy, ['program__class_defs_pct'], 10))\n",
    "print(get_statistics(X_copy, ['program__function_defs_pct'], 10))\n",
    "print(get_statistics(X_copy, ['program__enum_defs_pct'], 10))\n",
    "print(get_statistics(X_copy, ['program__number_of_sub_dirs_with_code'], 10))\n",
    "print(get_statistics(X_copy, ['program__number_of_modules'], 10))\n",
    "print(get_statistics(X_copy, ['program__number_of_packages'], 10))\n",
    "print(get_statistics(X_copy, ['program__average_defs_per_module'], 10))\n",
    "\n",
    "# 2 FEATURES\n",
    "print(\"--- TWO FEATURES ---\")\n",
    "print(get_statistics(X_copy, ['program__has_sub_dirs_with_code', 'program__has_packages'], 10))\n",
    "print(get_statistics(X_copy, ['program__has_sub_dirs_with_code', 'program__has_code_root_package'], 10))\n",
    "print(get_statistics(X_copy, ['program__has_packages', 'program__has_code_root_package'], 10))\n",
    "print(get_statistics(X_copy, ['program__class_defs_pct', 'program__function_defs_pct'], 10))\n",
    "print(get_statistics(X_copy, ['program__class_defs_pct', 'program__enum_defs_pct'], 10))\n",
    "print(get_statistics(X_copy, ['program__function_defs_pct', 'program__enum_defs_pct'], 10))\n",
    "print(get_statistics(X_copy, ['program__number_of_sub_dirs_with_code', 'program__number_of_modules'], 10))\n",
    "print(get_statistics(X_copy, ['program__number_of_sub_dirs_with_code', 'program__number_of_packages'], 10))\n",
    "print(get_statistics(X_copy, ['program__number_of_modules', 'program__number_of_packages'], 10))\n",
    "\n",
    "# 3 FEATURES\n",
    "print(\"--- THREE FEATURES ---\")\n",
    "print(get_statistics(X_copy, ['program__has_sub_dirs_with_code', 'program__has_packages', 'program__has_code_root_package'], 10))\n",
    "print(get_statistics(X_copy, ['program__class_defs_pct', 'program__function_defs_pct', 'program__enum_defs_pct'], 10))\n",
    "print(get_statistics(X_copy, ['program__number_of_sub_dirs_with_code', 'program__number_of_modules', 'program__number_of_packages'], 10))"
   ],
   "outputs": [
    {
     "name": "stdout",
     "output_type": "stream",
     "text": [
      "--- SINGLE FEATURE ---\n",
      " program__has_sub_dirs_with_code  count  percentage\n",
      "                            True      2       100.0\n",
      "\n",
      " program__has_packages  count  percentage\n",
      "                  True      2       100.0\n",
      "\n",
      " program__has_code_root_package  count  percentage\n",
      "                          False      1        50.0\n",
      "                           True      1        50.0\n",
      "\n",
      "program__class_defs_pct  count  percentage\n",
      "              [0.0_inf]      2       100.0\n",
      "\n",
      "program__function_defs_pct  count  percentage\n",
      "                 [0.0_1.0)      2       100.0\n",
      "\n",
      "program__enum_defs_pct  count  percentage\n",
      "             [0.0_inf]      2       100.0\n",
      "\n",
      "program__number_of_sub_dirs_with_code  count  percentage\n",
      "                              [0_inf]      2       100.0\n",
      "\n",
      "program__number_of_modules  count  percentage\n",
      "                   [4_inf]      2       100.0\n",
      "\n",
      "program__number_of_packages  count  percentage\n",
      "                    [0_inf]      2       100.0\n",
      "\n",
      "program__average_defs_per_module  count  percentage\n",
      "                           [1_3)      1        50.0\n",
      "                         [3_inf]      1        50.0\n",
      "\n",
      "--- TWO FEATURES ---\n",
      " program__has_sub_dirs_with_code  program__has_packages  count  percentage\n",
      "                            True                   True      2       100.0\n",
      "\n",
      " program__has_sub_dirs_with_code  program__has_code_root_package  count  percentage\n",
      "                            True                           False      1        50.0\n",
      "                            True                            True      1        50.0\n",
      "\n",
      " program__has_packages  program__has_code_root_package  count  percentage\n",
      "                  True                           False      1        50.0\n",
      "                  True                            True      1        50.0\n",
      "\n",
      "program__class_defs_pct program__function_defs_pct  count  percentage\n",
      "              [0.0_inf]                  [0.0_1.0)      2       100.0\n",
      "\n",
      "program__class_defs_pct program__enum_defs_pct  count  percentage\n",
      "              [0.0_inf]              [0.0_inf]      2       100.0\n",
      "\n",
      "program__function_defs_pct program__enum_defs_pct  count  percentage\n",
      "                 [0.0_1.0)              [0.0_inf]      2       100.0\n",
      "\n",
      "program__number_of_sub_dirs_with_code program__number_of_modules  count  percentage\n",
      "                              [0_inf]                    [4_inf]      2       100.0\n",
      "\n",
      "program__number_of_sub_dirs_with_code program__number_of_packages  count  percentage\n",
      "                              [0_inf]                     [0_inf]      2       100.0\n",
      "\n",
      "program__number_of_modules program__number_of_packages  count  percentage\n",
      "                   [4_inf]                     [0_inf]      2       100.0\n",
      "\n",
      "--- THREE FEATURES ---\n",
      " program__has_sub_dirs_with_code  program__has_packages  program__has_code_root_package  count  percentage\n",
      "                            True                   True                           False      1        50.0\n",
      "                            True                   True                            True      1        50.0\n",
      "\n",
      "program__class_defs_pct program__function_defs_pct program__enum_defs_pct  count  percentage\n",
      "              [0.0_inf]                  [0.0_1.0)              [0.0_inf]      2       100.0\n",
      "\n",
      "program__number_of_sub_dirs_with_code program__number_of_modules program__number_of_packages  count  percentage\n",
      "                              [0_inf]                    [4_inf]                     [0_inf]      2       100.0\n",
      "\n"
     ]
    }
   ],
   "execution_count": 18
  },
  {
   "cell_type": "code",
   "id": "1ca9a43e-6db6-44a7-aaab-65f00d1ea79e",
   "metadata": {
    "pycharm": {
     "name": "#%%\n"
    },
    "tags": [],
    "ExecuteTime": {
     "end_time": "2025-01-26T10:11:45.627377Z",
     "start_time": "2025-01-26T10:11:45.614640Z"
    }
   },
   "source": [
    "def normalize_datatypes(X:pd.DataFrame) -> (pd.DataFrame, [str]):\n",
    "    X = pd.get_dummies(X)\n",
    "    X = X.astype('float32')        \n",
    "    columns_names = X.columns.tolist()\n",
    "    return X, columns_names\n",
    "\n",
    "X, TABLE_FEATURES = normalize_datatypes(X)\n",
    "# Print information about the loaded table\n",
    "print(f'Features shape: {X.shape}')"
   ],
   "outputs": [
    {
     "name": "stdout",
     "output_type": "stream",
     "text": [
      "Features shape: (2, 10)\n"
     ]
    }
   ],
   "execution_count": 19
  },
  {
   "cell_type": "markdown",
   "id": "e9fc6a7d9acd9a9e",
   "metadata": {
    "collapsed": false
   },
   "source": "#### Muestra la matriz de correlación de Spearman entre las variables de la tabla."
  },
  {
   "cell_type": "code",
   "id": "70af048034c80af1",
   "metadata": {
    "collapsed": false,
    "ExecuteTime": {
     "end_time": "2025-01-26T10:11:49.011165Z",
     "start_time": "2025-01-26T10:11:45.902153Z"
    }
   },
   "source": "sns.heatmap(X.corr(method='spearman'), annot=True)",
   "outputs": [
    {
     "data": {
      "text/plain": [
       "<Axes: >"
      ]
     },
     "execution_count": 20,
     "metadata": {},
     "output_type": "execute_result"
    },
    {
     "data": {
      "text/plain": [
       "<Figure size 640x480 with 2 Axes>"
      ],
      "image/png": "[encoded data removed]"
     },
     "metadata": {},
     "output_type": "display_data"
    }
   ],
   "execution_count": 20
  },
  {
   "cell_type": "markdown",
   "id": "9a47cdd4cc2b3fae",
   "metadata": {
    "collapsed": false
   },
   "source": [
    "## 3 - Detección de valores atípicos (outliers)\n",
    "## Univariate\n",
    "## Analisis detallado de variables\n",
    "Para cada una de las 10 variable (3 booleanas, 4 porcentuales y 3 numericas) se hara un analisis detallado"
   ]
  },
  {
   "cell_type": "markdown",
   "source": [
    "### Variable has_sub_dirs_with_code (1/10)\n",
    "Esta variable es de tipo booleano y representa si el programa contiene algún subdirectorio con código."
   ],
   "metadata": {
    "collapsed": false
   },
   "id": "59c216b40cd37670"
  },
  {
   "cell_type": "code",
   "id": "1b756a3a68d1ff37",
   "metadata": {
    "collapsed": false,
    "ExecuteTime": {
     "end_time": "2025-01-26T10:11:49.787411Z",
     "start_time": "2025-01-26T10:11:49.048810Z"
    }
   },
   "source": [
    "plt.xticks([0, 1], ['False', 'True'])\n",
    "sns.histplot(X['program__has_sub_dirs_with_code'], discrete=True)"
   ],
   "outputs": [
    {
     "data": {
      "text/plain": [
       "<Axes: xlabel='program__has_sub_dirs_with_code', ylabel='Count'>"
      ]
     },
     "execution_count": 21,
     "metadata": {},
     "output_type": "execute_result"
    },
    {
     "data": {
      "text/plain": [
       "<Figure size 640x480 with 1 Axes>"
      ],
      "image/png": "[encoded data removed]"
     },
     "metadata": {},
     "output_type": "display_data"
    }
   ],
   "execution_count": 21
  },
  {
   "cell_type": "code",
   "id": "199172bf4c3e2333",
   "metadata": {
    "collapsed": false,
    "ExecuteTime": {
     "end_time": "2025-01-26T10:11:50.017182Z",
     "start_time": "2025-01-26T10:11:49.983502Z"
    }
   },
   "source": [
    "num_true_values = len(X[X['program__has_sub_dirs_with_code'] == True])\n",
    "num_false_values = len(X[X['program__has_sub_dirs_with_code'] == False])\n",
    "std = X['program__has_sub_dirs_with_code'].std()\n",
    "freq_true = len(X[X['program__has_sub_dirs_with_code'] == True]) / len(X['program__has_sub_dirs_with_code'])\n",
    "freq_false = len(X[X['program__has_sub_dirs_with_code'] == False]) / len(X['program__has_sub_dirs_with_code'])\n",
    "print(f'La variable has_sub_dirs_with_code contiene {num_true_values} valores verdaderos y {num_false_values} valores falsos. Y, la desviación típica es de {std}')\n",
    "print(f'La frecuencia con la que programa puede tener la variable has_sub_dirs_with_code a True es {freq_true}.')\n",
    "print(f'La frecuencia con la que programa puede tener la variable has_sub_dirs_with_code a False es {freq_false}.')"
   ],
   "outputs": [
    {
     "name": "stdout",
     "output_type": "stream",
     "text": [
      "La variable has_sub_dirs_with_code contiene 2 valores verdaderos y 0 valores falsos. Y, la desviación típica es de 0.0\n",
      "La frecuencia con la que programa puede tener la variable has_sub_dirs_with_code a True es 1.0.\n",
      "La frecuencia con la que programa puede tener la variable has_sub_dirs_with_code a False es 0.0.\n"
     ]
    }
   ],
   "execution_count": 22
  },
  {
   "cell_type": "code",
   "id": "3fe7f5c8b29b89ec",
   "metadata": {
    "collapsed": false,
    "ExecuteTime": {
     "end_time": "2025-01-26T10:11:50.257120Z",
     "start_time": "2025-01-26T10:11:50.232219Z"
    }
   },
   "source": [
    "possible_values = [True, False]\n",
    "print_frequency_anal_for_cat_var(X, 'program__has_sub_dirs_with_code', possible_values)"
   ],
   "outputs": [
    {
     "name": "stdout",
     "output_type": "stream",
     "text": [
      "La variable program__has_sub_dirs_with_code contiene 2 valores distintos.\n",
      "El umbral de outlier es de 0.1%\n",
      "La variable program__has_sub_dirs_with_code toma el valor de 1.0 en un 100.0% de los items.\n",
      "La variable program__has_sub_dirs_with_code toma el valor de False en un 0.0% de los items. [OUTLIER]\n"
     ]
    }
   ],
   "execution_count": 23
  },
  {
   "cell_type": "markdown",
   "id": "47601e9fcd859220",
   "metadata": {
    "collapsed": false
   },
   "source": "Describimos los valores de las variables de la tabla, cuando la variable tiene el valor a False."
  },
  {
   "cell_type": "code",
   "id": "79c6ac73f901d5dc",
   "metadata": {
    "collapsed": false,
    "ExecuteTime": {
     "end_time": "2025-01-26T10:11:50.585370Z",
     "start_time": "2025-01-26T10:11:50.499182Z"
    }
   },
   "source": "X[X['program__has_sub_dirs_with_code'] == False].describe(percentiles=[.25, .50, .75], include = ['object', 'float', 'bool', 'int'])",
   "outputs": [
    {
     "data": {
      "text/plain": [
       "       program__has_sub_dirs_with_code  program__has_packages  \\\n",
       "count                              0.0                    0.0   \n",
       "mean                               NaN                    NaN   \n",
       "std                                NaN                    NaN   \n",
       "min                                NaN                    NaN   \n",
       "25%                                NaN                    NaN   \n",
       "50%                                NaN                    NaN   \n",
       "75%                                NaN                    NaN   \n",
       "max                                NaN                    NaN   \n",
       "\n",
       "       program__number_of_modules  program__number_of_sub_dirs_with_code  \\\n",
       "count                         0.0                                    0.0   \n",
       "mean                          NaN                                    NaN   \n",
       "std                           NaN                                    NaN   \n",
       "min                           NaN                                    NaN   \n",
       "25%                           NaN                                    NaN   \n",
       "50%                           NaN                                    NaN   \n",
       "75%                           NaN                                    NaN   \n",
       "max                           NaN                                    NaN   \n",
       "\n",
       "       program__number_of_packages  program__class_defs_pct  \\\n",
       "count                          0.0                      0.0   \n",
       "mean                           NaN                      NaN   \n",
       "std                            NaN                      NaN   \n",
       "min                            NaN                      NaN   \n",
       "25%                            NaN                      NaN   \n",
       "50%                            NaN                      NaN   \n",
       "75%                            NaN                      NaN   \n",
       "max                            NaN                      NaN   \n",
       "\n",
       "       program__function_defs_pct  program__enum_defs_pct  \\\n",
       "count                         0.0                     0.0   \n",
       "mean                          NaN                     NaN   \n",
       "std                           NaN                     NaN   \n",
       "min                           NaN                     NaN   \n",
       "25%                           NaN                     NaN   \n",
       "50%                           NaN                     NaN   \n",
       "75%                           NaN                     NaN   \n",
       "max                           NaN                     NaN   \n",
       "\n",
       "       program__has_code_root_package  program__average_defs_per_module  \n",
       "count                             0.0                               0.0  \n",
       "mean                              NaN                               NaN  \n",
       "std                               NaN                               NaN  \n",
       "min                               NaN                               NaN  \n",
       "25%                               NaN                               NaN  \n",
       "50%                               NaN                               NaN  \n",
       "75%                               NaN                               NaN  \n",
       "max                               NaN                               NaN  "
      ],
      "text/html": [
       "<div>\n",
       "<style scoped>\n",
       "    .dataframe tbody tr th:only-of-type {\n",
       "        vertical-align: middle;\n",
       "    }\n",
       "\n",
       "    .dataframe tbody tr th {\n",
       "        vertical-align: top;\n",
       "    }\n",
       "\n",
       "    .dataframe thead th {\n",
       "        text-align: right;\n",
       "    }\n",
       "</style>\n",
       "<table border=\"1\" class=\"dataframe\">\n",
       "  <thead>\n",
       "    <tr style=\"text-align: right;\">\n",
       "      <th></th>\n",
       "      <th>program__has_sub_dirs_with_code</th>\n",
       "      <th>program__has_packages</th>\n",
       "      <th>program__number_of_modules</th>\n",
       "      <th>program__number_of_sub_dirs_with_code</th>\n",
       "      <th>program__number_of_packages</th>\n",
       "      <th>program__class_defs_pct</th>\n",
       "      <th>program__function_defs_pct</th>\n",
       "      <th>program__enum_defs_pct</th>\n",
       "      <th>program__has_code_root_package</th>\n",
       "      <th>program__average_defs_per_module</th>\n",
       "    </tr>\n",
       "  </thead>\n",
       "  <tbody>\n",
       "    <tr>\n",
       "      <th>count</th>\n",
       "      <td>0.0</td>\n",
       "      <td>0.0</td>\n",
       "      <td>0.0</td>\n",
       "      <td>0.0</td>\n",
       "      <td>0.0</td>\n",
       "      <td>0.0</td>\n",
       "      <td>0.0</td>\n",
       "      <td>0.0</td>\n",
       "      <td>0.0</td>\n",
       "      <td>0.0</td>\n",
       "    </tr>\n",
       "    <tr>\n",
       "      <th>mean</th>\n",
       "      <td>NaN</td>\n",
       "      <td>NaN</td>\n",
       "      <td>NaN</td>\n",
       "      <td>NaN</td>\n",
       "      <td>NaN</td>\n",
       "      <td>NaN</td>\n",
       "      <td>NaN</td>\n",
       "      <td>NaN</td>\n",
       "      <td>NaN</td>\n",
       "      <td>NaN</td>\n",
       "    </tr>\n",
       "    <tr>\n",
       "      <th>std</th>\n",
       "      <td>NaN</td>\n",
       "      <td>NaN</td>\n",
       "      <td>NaN</td>\n",
       "      <td>NaN</td>\n",
       "      <td>NaN</td>\n",
       "      <td>NaN</td>\n",
       "      <td>NaN</td>\n",
       "      <td>NaN</td>\n",
       "      <td>NaN</td>\n",
       "      <td>NaN</td>\n",
       "    </tr>\n",
       "    <tr>\n",
       "      <th>min</th>\n",
       "      <td>NaN</td>\n",
       "      <td>NaN</td>\n",
       "      <td>NaN</td>\n",
       "      <td>NaN</td>\n",
       "      <td>NaN</td>\n",
       "      <td>NaN</td>\n",
       "      <td>NaN</td>\n",
       "      <td>NaN</td>\n",
       "      <td>NaN</td>\n",
       "      <td>NaN</td>\n",
       "    </tr>\n",
       "    <tr>\n",
       "      <th>25%</th>\n",
       "      <td>NaN</td>\n",
       "      <td>NaN</td>\n",
       "      <td>NaN</td>\n",
       "      <td>NaN</td>\n",
       "      <td>NaN</td>\n",
       "      <td>NaN</td>\n",
       "      <td>NaN</td>\n",
       "      <td>NaN</td>\n",
       "      <td>NaN</td>\n",
       "      <td>NaN</td>\n",
       "    </tr>\n",
       "    <tr>\n",
       "      <th>50%</th>\n",
       "      <td>NaN</td>\n",
       "      <td>NaN</td>\n",
       "      <td>NaN</td>\n",
       "      <td>NaN</td>\n",
       "      <td>NaN</td>\n",
       "      <td>NaN</td>\n",
       "      <td>NaN</td>\n",
       "      <td>NaN</td>\n",
       "      <td>NaN</td>\n",
       "      <td>NaN</td>\n",
       "    </tr>\n",
       "    <tr>\n",
       "      <th>75%</th>\n",
       "      <td>NaN</td>\n",
       "      <td>NaN</td>\n",
       "      <td>NaN</td>\n",
       "      <td>NaN</td>\n",
       "      <td>NaN</td>\n",
       "      <td>NaN</td>\n",
       "      <td>NaN</td>\n",
       "      <td>NaN</td>\n",
       "      <td>NaN</td>\n",
       "      <td>NaN</td>\n",
       "    </tr>\n",
       "    <tr>\n",
       "      <th>max</th>\n",
       "      <td>NaN</td>\n",
       "      <td>NaN</td>\n",
       "      <td>NaN</td>\n",
       "      <td>NaN</td>\n",
       "      <td>NaN</td>\n",
       "      <td>NaN</td>\n",
       "      <td>NaN</td>\n",
       "      <td>NaN</td>\n",
       "      <td>NaN</td>\n",
       "      <td>NaN</td>\n",
       "    </tr>\n",
       "  </tbody>\n",
       "</table>\n",
       "</div>"
      ]
     },
     "execution_count": 24,
     "metadata": {},
     "output_type": "execute_result"
    }
   ],
   "execution_count": 24
  },
  {
   "cell_type": "markdown",
   "id": "9fda3aab7303f0d4",
   "metadata": {
    "collapsed": false
   },
   "source": [
    "### Variable has_packages (2/10)\n",
    "Esta variable es de tipo booleano y representa si el programa contiene algún paquete. "
   ]
  },
  {
   "cell_type": "code",
   "id": "921614f9",
   "metadata": {
    "ExecuteTime": {
     "end_time": "2025-01-26T10:11:53.468251Z",
     "start_time": "2025-01-26T10:11:51.020450Z"
    }
   },
   "source": [
    "plt.xticks([0, 1], ['False', 'True'])\n",
    "sns.histplot(X['program__has_packages'], discrete=True)"
   ],
   "outputs": [
    {
     "data": {
      "text/plain": [
       "<Axes: xlabel='program__has_packages', ylabel='Count'>"
      ]
     },
     "execution_count": 25,
     "metadata": {},
     "output_type": "execute_result"
    },
    {
     "data": {
      "text/plain": [
       "<Figure size 640x480 with 1 Axes>"
      ],
      "image/png": "[encoded data removed]"
     },
     "metadata": {},
     "output_type": "display_data"
    }
   ],
   "execution_count": 25
  },
  {
   "cell_type": "code",
   "id": "3d974464",
   "metadata": {
    "ExecuteTime": {
     "end_time": "2025-01-26T10:11:55.298380Z",
     "start_time": "2025-01-26T10:11:55.243767Z"
    }
   },
   "source": [
    "#ANALISIS DE DISTRIBUCIÓN DE DATOS\n",
    "num_true_values = len(X[X['program__has_packages'] == True])\n",
    "num_false_values = len(X[X['program__has_packages'] == False])\n",
    "std = X['program__has_packages'].std()\n",
    "freq_true = len(X[X['program__has_packages'] == True]) / len(X['program__has_packages'])\n",
    "freq_false = len(X[X['program__has_packages'] == False]) / len(X['program__has_packages'])\n",
    "print(f'La variable program__has_packages contiene {num_true_values} valores verdaderos y {num_false_values} valores falsos. Y, la desviación típica es de {std}')\n",
    "print(f'La frecuencia con la que programa puede tener la variable program__has_packages a True es {freq_true}.')\n",
    "print(f'La frecuencia con la que programa puede tener la variable program__has_packages a False es {freq_false}.')"
   ],
   "outputs": [
    {
     "name": "stdout",
     "output_type": "stream",
     "text": [
      "La variable program__has_packages contiene 2 valores verdaderos y 0 valores falsos. Y, la desviación típica es de 0.0\n",
      "La frecuencia con la que programa puede tener la variable program__has_packages a True es 1.0.\n",
      "La frecuencia con la que programa puede tener la variable program__has_packages a False es 0.0.\n"
     ]
    }
   ],
   "execution_count": 26
  },
  {
   "cell_type": "code",
   "id": "d9b3f5b6",
   "metadata": {
    "ExecuteTime": {
     "end_time": "2025-01-26T10:11:55.558568Z",
     "start_time": "2025-01-26T10:11:55.531989Z"
    }
   },
   "source": [
    "#PROBABILIDAD DE VALORES\n",
    "possible_values = [True, False]\n",
    "print_frequency_anal_for_cat_var(X, 'program__has_packages', possible_values)"
   ],
   "outputs": [
    {
     "name": "stdout",
     "output_type": "stream",
     "text": [
      "La variable program__has_packages contiene 2 valores distintos.\n",
      "El umbral de outlier es de 0.1%\n",
      "La variable program__has_packages toma el valor de 1.0 en un 100.0% de los items.\n",
      "La variable program__has_packages toma el valor de False en un 0.0% de los items. [OUTLIER]\n"
     ]
    }
   ],
   "execution_count": 27
  },
  {
   "cell_type": "code",
   "id": "045fd34e",
   "metadata": {
    "ExecuteTime": {
     "end_time": "2025-01-26T10:11:55.846421Z",
     "start_time": "2025-01-26T10:11:55.764779Z"
    }
   },
   "source": "X[X['program__has_packages'] == False].describe(percentiles=[.25, .50, .75], include = ['object', 'float', 'bool', 'int'])",
   "outputs": [
    {
     "data": {
      "text/plain": [
       "       program__has_sub_dirs_with_code  program__has_packages  \\\n",
       "count                              0.0                    0.0   \n",
       "mean                               NaN                    NaN   \n",
       "std                                NaN                    NaN   \n",
       "min                                NaN                    NaN   \n",
       "25%                                NaN                    NaN   \n",
       "50%                                NaN                    NaN   \n",
       "75%                                NaN                    NaN   \n",
       "max                                NaN                    NaN   \n",
       "\n",
       "       program__number_of_modules  program__number_of_sub_dirs_with_code  \\\n",
       "count                         0.0                                    0.0   \n",
       "mean                          NaN                                    NaN   \n",
       "std                           NaN                                    NaN   \n",
       "min                           NaN                                    NaN   \n",
       "25%                           NaN                                    NaN   \n",
       "50%                           NaN                                    NaN   \n",
       "75%                           NaN                                    NaN   \n",
       "max                           NaN                                    NaN   \n",
       "\n",
       "       program__number_of_packages  program__class_defs_pct  \\\n",
       "count                          0.0                      0.0   \n",
       "mean                           NaN                      NaN   \n",
       "std                            NaN                      NaN   \n",
       "min                            NaN                      NaN   \n",
       "25%                            NaN                      NaN   \n",
       "50%                            NaN                      NaN   \n",
       "75%                            NaN                      NaN   \n",
       "max                            NaN                      NaN   \n",
       "\n",
       "       program__function_defs_pct  program__enum_defs_pct  \\\n",
       "count                         0.0                     0.0   \n",
       "mean                          NaN                     NaN   \n",
       "std                           NaN                     NaN   \n",
       "min                           NaN                     NaN   \n",
       "25%                           NaN                     NaN   \n",
       "50%                           NaN                     NaN   \n",
       "75%                           NaN                     NaN   \n",
       "max                           NaN                     NaN   \n",
       "\n",
       "       program__has_code_root_package  program__average_defs_per_module  \n",
       "count                             0.0                               0.0  \n",
       "mean                              NaN                               NaN  \n",
       "std                               NaN                               NaN  \n",
       "min                               NaN                               NaN  \n",
       "25%                               NaN                               NaN  \n",
       "50%                               NaN                               NaN  \n",
       "75%                               NaN                               NaN  \n",
       "max                               NaN                               NaN  "
      ],
      "text/html": [
       "<div>\n",
       "<style scoped>\n",
       "    .dataframe tbody tr th:only-of-type {\n",
       "        vertical-align: middle;\n",
       "    }\n",
       "\n",
       "    .dataframe tbody tr th {\n",
       "        vertical-align: top;\n",
       "    }\n",
       "\n",
       "    .dataframe thead th {\n",
       "        text-align: right;\n",
       "    }\n",
       "</style>\n",
       "<table border=\"1\" class=\"dataframe\">\n",
       "  <thead>\n",
       "    <tr style=\"text-align: right;\">\n",
       "      <th></th>\n",
       "      <th>program__has_sub_dirs_with_code</th>\n",
       "      <th>program__has_packages</th>\n",
       "      <th>program__number_of_modules</th>\n",
       "      <th>program__number_of_sub_dirs_with_code</th>\n",
       "      <th>program__number_of_packages</th>\n",
       "      <th>program__class_defs_pct</th>\n",
       "      <th>program__function_defs_pct</th>\n",
       "      <th>program__enum_defs_pct</th>\n",
       "      <th>program__has_code_root_package</th>\n",
       "      <th>program__average_defs_per_module</th>\n",
       "    </tr>\n",
       "  </thead>\n",
       "  <tbody>\n",
       "    <tr>\n",
       "      <th>count</th>\n",
       "      <td>0.0</td>\n",
       "      <td>0.0</td>\n",
       "      <td>0.0</td>\n",
       "      <td>0.0</td>\n",
       "      <td>0.0</td>\n",
       "      <td>0.0</td>\n",
       "      <td>0.0</td>\n",
       "      <td>0.0</td>\n",
       "      <td>0.0</td>\n",
       "      <td>0.0</td>\n",
       "    </tr>\n",
       "    <tr>\n",
       "      <th>mean</th>\n",
       "      <td>NaN</td>\n",
       "      <td>NaN</td>\n",
       "      <td>NaN</td>\n",
       "      <td>NaN</td>\n",
       "      <td>NaN</td>\n",
       "      <td>NaN</td>\n",
       "      <td>NaN</td>\n",
       "      <td>NaN</td>\n",
       "      <td>NaN</td>\n",
       "      <td>NaN</td>\n",
       "    </tr>\n",
       "    <tr>\n",
       "      <th>std</th>\n",
       "      <td>NaN</td>\n",
       "      <td>NaN</td>\n",
       "      <td>NaN</td>\n",
       "      <td>NaN</td>\n",
       "      <td>NaN</td>\n",
       "      <td>NaN</td>\n",
       "      <td>NaN</td>\n",
       "      <td>NaN</td>\n",
       "      <td>NaN</td>\n",
       "      <td>NaN</td>\n",
       "    </tr>\n",
       "    <tr>\n",
       "      <th>min</th>\n",
       "      <td>NaN</td>\n",
       "      <td>NaN</td>\n",
       "      <td>NaN</td>\n",
       "      <td>NaN</td>\n",
       "      <td>NaN</td>\n",
       "      <td>NaN</td>\n",
       "      <td>NaN</td>\n",
       "      <td>NaN</td>\n",
       "      <td>NaN</td>\n",
       "      <td>NaN</td>\n",
       "    </tr>\n",
       "    <tr>\n",
       "      <th>25%</th>\n",
       "      <td>NaN</td>\n",
       "      <td>NaN</td>\n",
       "      <td>NaN</td>\n",
       "      <td>NaN</td>\n",
       "      <td>NaN</td>\n",
       "      <td>NaN</td>\n",
       "      <td>NaN</td>\n",
       "      <td>NaN</td>\n",
       "      <td>NaN</td>\n",
       "      <td>NaN</td>\n",
       "    </tr>\n",
       "    <tr>\n",
       "      <th>50%</th>\n",
       "      <td>NaN</td>\n",
       "      <td>NaN</td>\n",
       "      <td>NaN</td>\n",
       "      <td>NaN</td>\n",
       "      <td>NaN</td>\n",
       "      <td>NaN</td>\n",
       "      <td>NaN</td>\n",
       "      <td>NaN</td>\n",
       "      <td>NaN</td>\n",
       "      <td>NaN</td>\n",
       "    </tr>\n",
       "    <tr>\n",
       "      <th>75%</th>\n",
       "      <td>NaN</td>\n",
       "      <td>NaN</td>\n",
       "      <td>NaN</td>\n",
       "      <td>NaN</td>\n",
       "      <td>NaN</td>\n",
       "      <td>NaN</td>\n",
       "      <td>NaN</td>\n",
       "      <td>NaN</td>\n",
       "      <td>NaN</td>\n",
       "      <td>NaN</td>\n",
       "    </tr>\n",
       "    <tr>\n",
       "      <th>max</th>\n",
       "      <td>NaN</td>\n",
       "      <td>NaN</td>\n",
       "      <td>NaN</td>\n",
       "      <td>NaN</td>\n",
       "      <td>NaN</td>\n",
       "      <td>NaN</td>\n",
       "      <td>NaN</td>\n",
       "      <td>NaN</td>\n",
       "      <td>NaN</td>\n",
       "      <td>NaN</td>\n",
       "    </tr>\n",
       "  </tbody>\n",
       "</table>\n",
       "</div>"
      ]
     },
     "execution_count": 28,
     "metadata": {},
     "output_type": "execute_result"
    }
   ],
   "execution_count": 28
  },
  {
   "metadata": {},
   "cell_type": "markdown",
   "source": [
    "### Variable has_code_root_packages (3/10)\n",
    "Esta variable es de tipo booleano y representa si el programa contiene código en el directorio root."
   ],
   "id": "cc2230d89c1d901"
  },
  {
   "metadata": {
    "ExecuteTime": {
     "end_time": "2025-01-26T10:11:57.403179Z",
     "start_time": "2025-01-26T10:11:56.172717Z"
    }
   },
   "cell_type": "code",
   "source": [
    "plt.xticks([0, 1], ['False', 'True'])\n",
    "sns.histplot(X['program__has_code_root_package'], discrete=True)"
   ],
   "id": "fc2c509d5dd80feb",
   "outputs": [
    {
     "data": {
      "text/plain": [
       "<Axes: xlabel='program__has_code_root_package', ylabel='Count'>"
      ]
     },
     "execution_count": 29,
     "metadata": {},
     "output_type": "execute_result"
    },
    {
     "data": {
      "text/plain": [
       "<Figure size 640x480 with 1 Axes>"
      ],
      "image/png": "[encoded data removed]"
     },
     "metadata": {},
     "output_type": "display_data"
    }
   ],
   "execution_count": 29
  },
  {
   "metadata": {
    "ExecuteTime": {
     "end_time": "2025-01-26T10:11:57.802388Z",
     "start_time": "2025-01-26T10:11:57.755255Z"
    }
   },
   "cell_type": "code",
   "source": [
    "#ANALISIS DE DISTRIBUCIÓN DE DATOS\n",
    "num_true_values = len(X[X['program__has_code_root_package'] == True])\n",
    "num_false_values = len(X[X['program__has_code_root_package'] == False])\n",
    "std = X['program__has_code_root_package'].std()\n",
    "freq_true = len(X[X['program__has_code_root_package'] == True]) / len(X['program__has_code_root_package'])\n",
    "freq_false = len(X[X['program__has_code_root_package'] == False]) / len(X['program__has_code_root_package'])\n",
    "print(f'La variable program__has_code_root_package contiene {num_true_values} valores verdaderos y {num_false_values} valores falsos. Y, la desviación típica es de {std}')\n",
    "print(f'La frecuencia con la que programa puede tener la variable program__has_code_root_package a True es {freq_true}.')\n",
    "print(f'La frecuencia con la que programa puede tener la variable program__has_code_root_package a False es {freq_false}.')"
   ],
   "id": "e4ac7fd947513444",
   "outputs": [
    {
     "name": "stdout",
     "output_type": "stream",
     "text": [
      "La variable program__has_code_root_package contiene 1 valores verdaderos y 1 valores falsos. Y, la desviación típica es de 0.7071067690849304\n",
      "La frecuencia con la que programa puede tener la variable program__has_code_root_package a True es 0.5.\n",
      "La frecuencia con la que programa puede tener la variable program__has_code_root_package a False es 0.5.\n"
     ]
    }
   ],
   "execution_count": 30
  },
  {
   "metadata": {
    "ExecuteTime": {
     "end_time": "2025-01-26T10:11:58.027505Z",
     "start_time": "2025-01-26T10:11:58.017904Z"
    }
   },
   "cell_type": "code",
   "source": [
    "#PROBABILIDAD DE VALORES\n",
    "possible_values = [True, False]\n",
    "print_frequency_anal_for_cat_var(X, 'program__has_code_root_package', possible_values)"
   ],
   "id": "6eda444c15afc88f",
   "outputs": [
    {
     "name": "stdout",
     "output_type": "stream",
     "text": [
      "La variable program__has_code_root_package contiene 2 valores distintos.\n",
      "El umbral de outlier es de 0.1%\n",
      "La variable program__has_code_root_package toma el valor de 0.0 en un 50.0% de los items.\n",
      "La variable program__has_code_root_package toma el valor de 1.0 en un 50.0% de los items.\n"
     ]
    }
   ],
   "execution_count": 31
  },
  {
   "metadata": {
    "ExecuteTime": {
     "end_time": "2025-01-26T10:11:58.310710Z",
     "start_time": "2025-01-26T10:11:58.209216Z"
    }
   },
   "cell_type": "code",
   "source": "X[X['program__has_code_root_package'] == False].describe(percentiles=[.25, .50, .75], include = ['object', 'float', 'bool', 'int'])",
   "id": "a5fc73b1d742f01a",
   "outputs": [
    {
     "data": {
      "text/plain": [
       "       program__has_sub_dirs_with_code  program__has_packages  \\\n",
       "count                              1.0                    1.0   \n",
       "mean                               1.0                    1.0   \n",
       "std                                NaN                    NaN   \n",
       "min                                1.0                    1.0   \n",
       "25%                                1.0                    1.0   \n",
       "50%                                1.0                    1.0   \n",
       "75%                                1.0                    1.0   \n",
       "max                                1.0                    1.0   \n",
       "\n",
       "       program__number_of_modules  program__number_of_sub_dirs_with_code  \\\n",
       "count                         1.0                                    1.0   \n",
       "mean                       3294.0                                   68.0   \n",
       "std                           NaN                                    NaN   \n",
       "min                        3294.0                                   68.0   \n",
       "25%                        3294.0                                   68.0   \n",
       "50%                        3294.0                                   68.0   \n",
       "75%                        3294.0                                   68.0   \n",
       "max                        3294.0                                   68.0   \n",
       "\n",
       "       program__number_of_packages  program__class_defs_pct  \\\n",
       "count                          1.0                 1.000000   \n",
       "mean                        1297.0                 0.368945   \n",
       "std                            NaN                      NaN   \n",
       "min                         1297.0                 0.368945   \n",
       "25%                         1297.0                 0.368945   \n",
       "50%                         1297.0                 0.368945   \n",
       "75%                         1297.0                 0.368945   \n",
       "max                         1297.0                 0.368945   \n",
       "\n",
       "       program__function_defs_pct  program__enum_defs_pct  \\\n",
       "count                    1.000000                1.000000   \n",
       "mean                     0.611977                0.019078   \n",
       "std                           NaN                     NaN   \n",
       "min                      0.611977                0.019078   \n",
       "25%                      0.611977                0.019078   \n",
       "50%                      0.611977                0.019078   \n",
       "75%                      0.611977                0.019078   \n",
       "max                      0.611977                0.019078   \n",
       "\n",
       "       program__has_code_root_package  program__average_defs_per_module  \n",
       "count                             1.0                          1.000000  \n",
       "mean                              0.0                          1.829994  \n",
       "std                               NaN                               NaN  \n",
       "min                               0.0                          1.829994  \n",
       "25%                               0.0                          1.829994  \n",
       "50%                               0.0                          1.829994  \n",
       "75%                               0.0                          1.829994  \n",
       "max                               0.0                          1.829994  "
      ],
      "text/html": [
       "<div>\n",
       "<style scoped>\n",
       "    .dataframe tbody tr th:only-of-type {\n",
       "        vertical-align: middle;\n",
       "    }\n",
       "\n",
       "    .dataframe tbody tr th {\n",
       "        vertical-align: top;\n",
       "    }\n",
       "\n",
       "    .dataframe thead th {\n",
       "        text-align: right;\n",
       "    }\n",
       "</style>\n",
       "<table border=\"1\" class=\"dataframe\">\n",
       "  <thead>\n",
       "    <tr style=\"text-align: right;\">\n",
       "      <th></th>\n",
       "      <th>program__has_sub_dirs_with_code</th>\n",
       "      <th>program__has_packages</th>\n",
       "      <th>program__number_of_modules</th>\n",
       "      <th>program__number_of_sub_dirs_with_code</th>\n",
       "      <th>program__number_of_packages</th>\n",
       "      <th>program__class_defs_pct</th>\n",
       "      <th>program__function_defs_pct</th>\n",
       "      <th>program__enum_defs_pct</th>\n",
       "      <th>program__has_code_root_package</th>\n",
       "      <th>program__average_defs_per_module</th>\n",
       "    </tr>\n",
       "  </thead>\n",
       "  <tbody>\n",
       "    <tr>\n",
       "      <th>count</th>\n",
       "      <td>1.0</td>\n",
       "      <td>1.0</td>\n",
       "      <td>1.0</td>\n",
       "      <td>1.0</td>\n",
       "      <td>1.0</td>\n",
       "      <td>1.000000</td>\n",
       "      <td>1.000000</td>\n",
       "      <td>1.000000</td>\n",
       "      <td>1.0</td>\n",
       "      <td>1.000000</td>\n",
       "    </tr>\n",
       "    <tr>\n",
       "      <th>mean</th>\n",
       "      <td>1.0</td>\n",
       "      <td>1.0</td>\n",
       "      <td>3294.0</td>\n",
       "      <td>68.0</td>\n",
       "      <td>1297.0</td>\n",
       "      <td>0.368945</td>\n",
       "      <td>0.611977</td>\n",
       "      <td>0.019078</td>\n",
       "      <td>0.0</td>\n",
       "      <td>1.829994</td>\n",
       "    </tr>\n",
       "    <tr>\n",
       "      <th>std</th>\n",
       "      <td>NaN</td>\n",
       "      <td>NaN</td>\n",
       "      <td>NaN</td>\n",
       "      <td>NaN</td>\n",
       "      <td>NaN</td>\n",
       "      <td>NaN</td>\n",
       "      <td>NaN</td>\n",
       "      <td>NaN</td>\n",
       "      <td>NaN</td>\n",
       "      <td>NaN</td>\n",
       "    </tr>\n",
       "    <tr>\n",
       "      <th>min</th>\n",
       "      <td>1.0</td>\n",
       "      <td>1.0</td>\n",
       "      <td>3294.0</td>\n",
       "      <td>68.0</td>\n",
       "      <td>1297.0</td>\n",
       "      <td>0.368945</td>\n",
       "      <td>0.611977</td>\n",
       "      <td>0.019078</td>\n",
       "      <td>0.0</td>\n",
       "      <td>1.829994</td>\n",
       "    </tr>\n",
       "    <tr>\n",
       "      <th>25%</th>\n",
       "      <td>1.0</td>\n",
       "      <td>1.0</td>\n",
       "      <td>3294.0</td>\n",
       "      <td>68.0</td>\n",
       "      <td>1297.0</td>\n",
       "      <td>0.368945</td>\n",
       "      <td>0.611977</td>\n",
       "      <td>0.019078</td>\n",
       "      <td>0.0</td>\n",
       "      <td>1.829994</td>\n",
       "    </tr>\n",
       "    <tr>\n",
       "      <th>50%</th>\n",
       "      <td>1.0</td>\n",
       "      <td>1.0</td>\n",
       "      <td>3294.0</td>\n",
       "      <td>68.0</td>\n",
       "      <td>1297.0</td>\n",
       "      <td>0.368945</td>\n",
       "      <td>0.611977</td>\n",
       "      <td>0.019078</td>\n",
       "      <td>0.0</td>\n",
       "      <td>1.829994</td>\n",
       "    </tr>\n",
       "    <tr>\n",
       "      <th>75%</th>\n",
       "      <td>1.0</td>\n",
       "      <td>1.0</td>\n",
       "      <td>3294.0</td>\n",
       "      <td>68.0</td>\n",
       "      <td>1297.0</td>\n",
       "      <td>0.368945</td>\n",
       "      <td>0.611977</td>\n",
       "      <td>0.019078</td>\n",
       "      <td>0.0</td>\n",
       "      <td>1.829994</td>\n",
       "    </tr>\n",
       "    <tr>\n",
       "      <th>max</th>\n",
       "      <td>1.0</td>\n",
       "      <td>1.0</td>\n",
       "      <td>3294.0</td>\n",
       "      <td>68.0</td>\n",
       "      <td>1297.0</td>\n",
       "      <td>0.368945</td>\n",
       "      <td>0.611977</td>\n",
       "      <td>0.019078</td>\n",
       "      <td>0.0</td>\n",
       "      <td>1.829994</td>\n",
       "    </tr>\n",
       "  </tbody>\n",
       "</table>\n",
       "</div>"
      ]
     },
     "execution_count": 32,
     "metadata": {},
     "output_type": "execute_result"
    }
   ],
   "execution_count": 32
  },
  {
   "metadata": {},
   "cell_type": "markdown",
   "source": [
    "### Variable number_of_modules (4/10)\n",
    "Esta variable es de tipo numérica y nos indica el número de modulos definidos en el programa. Como vimos en la descripción de la tabla esta varibale adopta valores en el rango 730 - 3294. Con una media de 2012."
   ],
   "id": "b8ac28118b9c7e95"
  },
  {
   "metadata": {
    "ExecuteTime": {
     "end_time": "2025-01-26T10:11:59.547668Z",
     "start_time": "2025-01-26T10:11:58.798523Z"
    }
   },
   "cell_type": "code",
   "source": "sns.stripplot(X['program__number_of_modules'])",
   "id": "5eacddae8fc77a62",
   "outputs": [
    {
     "data": {
      "text/plain": [
       "<Axes: ylabel='program__number_of_modules'>"
      ]
     },
     "execution_count": 33,
     "metadata": {},
     "output_type": "execute_result"
    },
    {
     "data": {
      "text/plain": [
       "<Figure size 640x480 with 1 Axes>"
      ],
      "image/png": "[encoded data removed]"
     },
     "metadata": {},
     "output_type": "display_data"
    }
   ],
   "execution_count": 33
  },
  {
   "metadata": {},
   "cell_type": "markdown",
   "source": [
    "### IMPORTANTE\n",
    "Los dos valores máximos están muy alejados de los otros."
   ],
   "id": "f789e36433cc16d9"
  },
  {
   "metadata": {
    "ExecuteTime": {
     "end_time": "2025-01-26T10:11:59.808848Z",
     "start_time": "2025-01-26T10:11:59.743263Z"
    }
   },
   "cell_type": "code",
   "source": "print_outliers_for_df_column(X, 'program__number_of_modules')",
   "id": "cfc7351841dbaeeb",
   "outputs": [
    {
     "name": "stdout",
     "output_type": "stream",
     "text": [
      "El coeficiente MC (Medcouple Coefficient) de balanceo es: -0.19527984086992153\n",
      "Rango valores atípicos extremos (Tukey): [-2475.0,6499.0]\n",
      "Rango valores atípicos leves (Tukey): [-552.0,4576.0]\n",
      "Rango valores atípicos extremos (Fixed BoxPlot): [-2828.669493152248,3623.8406081431]\n",
      "-3.0IQR: 0 instancias tienen un valor para program__number_of_modules inferior a -2475.0 (Q1-3*IQR) para program__number_of_modules. Representando un 0.0% del total de instancias.\n",
      "-1.5IQR: 0 instancias tienen un valor para program__number_of_modules inferior a -552.0 (Q1-1.5*IQR) para program__number_of_modules. Representando un 0.0% del total de instancias.\n",
      "+1.5IQR: 0 instancias tienen un valor para program__number_of_modules superior a 4576.0 (Q3+1.5*IQR) para program__number_of_modules. Representando un 0.0% del total de instancias.\n",
      "+3.0IQR: 0 instancias tienen un valor para program__number_of_modules superior a 6499.0 (Q3-3*IQR) para program__number_of_modules. Representando un 0.0% del total de instancias.\n",
      "L: 0 instancias tienen un valor para program__number_of_modules inferior a -2828.669493152248 para program__number_of_modules. Representando un 0.0% del total de instancias.\n",
      "U: 0 instancias tienen un valor para program__number_of_modules superior a 3623.8406081431 para program__number_of_modules. Representando un 0.0% del total de instancias.\n"
     ]
    }
   ],
   "execution_count": 34
  },
  {
   "metadata": {},
   "cell_type": "markdown",
   "source": "Describimos los valores de las variables de la tabla, cuando el valor de la variable es mayor que 3623 (Con un MC de -0.19 usamos U)",
   "id": "843b1a6a63a56fb9"
  },
  {
   "metadata": {
    "ExecuteTime": {
     "end_time": "2025-01-26T10:12:00.177777Z",
     "start_time": "2025-01-26T10:12:00.079883Z"
    }
   },
   "cell_type": "code",
   "source": "X[X['program__number_of_modules'] > 3623].describe(percentiles=[.25, .50, .75], include = ['object', 'float', 'bool', 'int'])",
   "id": "689c534bf17a722e",
   "outputs": [
    {
     "data": {
      "text/plain": [
       "       program__has_sub_dirs_with_code  program__has_packages  \\\n",
       "count                              1.0                    1.0   \n",
       "mean                               1.0                    1.0   \n",
       "std                                NaN                    NaN   \n",
       "min                                1.0                    1.0   \n",
       "25%                                1.0                    1.0   \n",
       "50%                                1.0                    1.0   \n",
       "75%                                1.0                    1.0   \n",
       "max                                1.0                    1.0   \n",
       "\n",
       "       program__number_of_modules  program__number_of_sub_dirs_with_code  \\\n",
       "count                         1.0                                    1.0   \n",
       "mean                       3294.0                                   68.0   \n",
       "std                           NaN                                    NaN   \n",
       "min                        3294.0                                   68.0   \n",
       "25%                        3294.0                                   68.0   \n",
       "50%                        3294.0                                   68.0   \n",
       "75%                        3294.0                                   68.0   \n",
       "max                        3294.0                                   68.0   \n",
       "\n",
       "       program__number_of_packages  program__class_defs_pct  \\\n",
       "count                          1.0                 1.000000   \n",
       "mean                        1297.0                 0.368945   \n",
       "std                            NaN                      NaN   \n",
       "min                         1297.0                 0.368945   \n",
       "25%                         1297.0                 0.368945   \n",
       "50%                         1297.0                 0.368945   \n",
       "75%                         1297.0                 0.368945   \n",
       "max                         1297.0                 0.368945   \n",
       "\n",
       "       program__function_defs_pct  program__enum_defs_pct  \\\n",
       "count                    1.000000                1.000000   \n",
       "mean                     0.611977                0.019078   \n",
       "std                           NaN                     NaN   \n",
       "min                      0.611977                0.019078   \n",
       "25%                      0.611977                0.019078   \n",
       "50%                      0.611977                0.019078   \n",
       "75%                      0.611977                0.019078   \n",
       "max                      0.611977                0.019078   \n",
       "\n",
       "       program__has_code_root_package  program__average_defs_per_module  \n",
       "count                             1.0                          1.000000  \n",
       "mean                              0.0                          1.829994  \n",
       "std                               NaN                               NaN  \n",
       "min                               0.0                          1.829994  \n",
       "25%                               0.0                          1.829994  \n",
       "50%                               0.0                          1.829994  \n",
       "75%                               0.0                          1.829994  \n",
       "max                               0.0                          1.829994  "
      ],
      "text/html": [
       "<div>\n",
       "<style scoped>\n",
       "    .dataframe tbody tr th:only-of-type {\n",
       "        vertical-align: middle;\n",
       "    }\n",
       "\n",
       "    .dataframe tbody tr th {\n",
       "        vertical-align: top;\n",
       "    }\n",
       "\n",
       "    .dataframe thead th {\n",
       "        text-align: right;\n",
       "    }\n",
       "</style>\n",
       "<table border=\"1\" class=\"dataframe\">\n",
       "  <thead>\n",
       "    <tr style=\"text-align: right;\">\n",
       "      <th></th>\n",
       "      <th>program__has_sub_dirs_with_code</th>\n",
       "      <th>program__has_packages</th>\n",
       "      <th>program__number_of_modules</th>\n",
       "      <th>program__number_of_sub_dirs_with_code</th>\n",
       "      <th>program__number_of_packages</th>\n",
       "      <th>program__class_defs_pct</th>\n",
       "      <th>program__function_defs_pct</th>\n",
       "      <th>program__enum_defs_pct</th>\n",
       "      <th>program__has_code_root_package</th>\n",
       "      <th>program__average_defs_per_module</th>\n",
       "    </tr>\n",
       "  </thead>\n",
       "  <tbody>\n",
       "    <tr>\n",
       "      <th>count</th>\n",
       "      <td>1.0</td>\n",
       "      <td>1.0</td>\n",
       "      <td>1.0</td>\n",
       "      <td>1.0</td>\n",
       "      <td>1.0</td>\n",
       "      <td>1.000000</td>\n",
       "      <td>1.000000</td>\n",
       "      <td>1.000000</td>\n",
       "      <td>1.0</td>\n",
       "      <td>1.000000</td>\n",
       "    </tr>\n",
       "    <tr>\n",
       "      <th>mean</th>\n",
       "      <td>1.0</td>\n",
       "      <td>1.0</td>\n",
       "      <td>3294.0</td>\n",
       "      <td>68.0</td>\n",
       "      <td>1297.0</td>\n",
       "      <td>0.368945</td>\n",
       "      <td>0.611977</td>\n",
       "      <td>0.019078</td>\n",
       "      <td>0.0</td>\n",
       "      <td>1.829994</td>\n",
       "    </tr>\n",
       "    <tr>\n",
       "      <th>std</th>\n",
       "      <td>NaN</td>\n",
       "      <td>NaN</td>\n",
       "      <td>NaN</td>\n",
       "      <td>NaN</td>\n",
       "      <td>NaN</td>\n",
       "      <td>NaN</td>\n",
       "      <td>NaN</td>\n",
       "      <td>NaN</td>\n",
       "      <td>NaN</td>\n",
       "      <td>NaN</td>\n",
       "    </tr>\n",
       "    <tr>\n",
       "      <th>min</th>\n",
       "      <td>1.0</td>\n",
       "      <td>1.0</td>\n",
       "      <td>3294.0</td>\n",
       "      <td>68.0</td>\n",
       "      <td>1297.0</td>\n",
       "      <td>0.368945</td>\n",
       "      <td>0.611977</td>\n",
       "      <td>0.019078</td>\n",
       "      <td>0.0</td>\n",
       "      <td>1.829994</td>\n",
       "    </tr>\n",
       "    <tr>\n",
       "      <th>25%</th>\n",
       "      <td>1.0</td>\n",
       "      <td>1.0</td>\n",
       "      <td>3294.0</td>\n",
       "      <td>68.0</td>\n",
       "      <td>1297.0</td>\n",
       "      <td>0.368945</td>\n",
       "      <td>0.611977</td>\n",
       "      <td>0.019078</td>\n",
       "      <td>0.0</td>\n",
       "      <td>1.829994</td>\n",
       "    </tr>\n",
       "    <tr>\n",
       "      <th>50%</th>\n",
       "      <td>1.0</td>\n",
       "      <td>1.0</td>\n",
       "      <td>3294.0</td>\n",
       "      <td>68.0</td>\n",
       "      <td>1297.0</td>\n",
       "      <td>0.368945</td>\n",
       "      <td>0.611977</td>\n",
       "      <td>0.019078</td>\n",
       "      <td>0.0</td>\n",
       "      <td>1.829994</td>\n",
       "    </tr>\n",
       "    <tr>\n",
       "      <th>75%</th>\n",
       "      <td>1.0</td>\n",
       "      <td>1.0</td>\n",
       "      <td>3294.0</td>\n",
       "      <td>68.0</td>\n",
       "      <td>1297.0</td>\n",
       "      <td>0.368945</td>\n",
       "      <td>0.611977</td>\n",
       "      <td>0.019078</td>\n",
       "      <td>0.0</td>\n",
       "      <td>1.829994</td>\n",
       "    </tr>\n",
       "    <tr>\n",
       "      <th>max</th>\n",
       "      <td>1.0</td>\n",
       "      <td>1.0</td>\n",
       "      <td>3294.0</td>\n",
       "      <td>68.0</td>\n",
       "      <td>1297.0</td>\n",
       "      <td>0.368945</td>\n",
       "      <td>0.611977</td>\n",
       "      <td>0.019078</td>\n",
       "      <td>0.0</td>\n",
       "      <td>1.829994</td>\n",
       "    </tr>\n",
       "  </tbody>\n",
       "</table>\n",
       "</div>"
      ]
     },
     "execution_count": 35,
     "metadata": {},
     "output_type": "execute_result"
    }
   ],
   "execution_count": 35
  },
  {
   "metadata": {},
   "cell_type": "markdown",
   "source": [
    "### Variable number_of_sub_dirs_with_code (5/10)\n",
    "Esta variable representa el número de subdirectorios con ficheros python pero sin un __init__.py en ellos. Como vimos en la descripción de la tabla esta varibale adopta valores en el rango 48 - 68. Con una media de 58."
   ],
   "id": "8f8a651cfdff0bcd"
  },
  {
   "metadata": {
    "ExecuteTime": {
     "end_time": "2025-01-26T10:12:01.915770Z",
     "start_time": "2025-01-26T10:12:00.472921Z"
    }
   },
   "cell_type": "code",
   "source": "sns.stripplot(X['program__number_of_sub_dirs_with_code'])",
   "id": "1ebb40d57c0b140",
   "outputs": [
    {
     "data": {
      "text/plain": [
       "<Axes: ylabel='program__number_of_sub_dirs_with_code'>"
      ]
     },
     "execution_count": 36,
     "metadata": {},
     "output_type": "execute_result"
    },
    {
     "data": {
      "text/plain": [
       "<Figure size 640x480 with 1 Axes>"
      ],
      "image/png": "[encoded data removed]"
     },
     "metadata": {},
     "output_type": "display_data"
    }
   ],
   "execution_count": 36
  },
  {
   "metadata": {},
   "cell_type": "markdown",
   "source": "El valor máximo está muy alejado del siguiente. ",
   "id": "921f450151cf85e1"
  },
  {
   "metadata": {
    "ExecuteTime": {
     "end_time": "2025-01-26T10:12:02.393048Z",
     "start_time": "2025-01-26T10:12:02.300894Z"
    }
   },
   "cell_type": "code",
   "source": "print_outliers_for_df_column(X, 'program__number_of_sub_dirs_with_code')",
   "id": "6a0f48c2e0e6cff",
   "outputs": [
    {
     "name": "stdout",
     "output_type": "stream",
     "text": [
      "El coeficiente MC (Medcouple Coefficient) de balanceo es: -0.5179076186194074\n",
      "Rango valores atípicos extremos (Tukey): [23.0,93.0]\n",
      "Rango valores atípicos leves (Tukey): [38.0,78.0]\n",
      "Rango valores atípicos extremos (Fixed BoxPlot): [-66.06632318907215,65.44825012808147]\n",
      "-3.0IQR: 0 instancias tienen un valor para program__number_of_sub_dirs_with_code inferior a 23.0 (Q1-3*IQR) para program__number_of_sub_dirs_with_code. Representando un 0.0% del total de instancias.\n",
      "-1.5IQR: 0 instancias tienen un valor para program__number_of_sub_dirs_with_code inferior a 38.0 (Q1-1.5*IQR) para program__number_of_sub_dirs_with_code. Representando un 0.0% del total de instancias.\n",
      "+1.5IQR: 0 instancias tienen un valor para program__number_of_sub_dirs_with_code superior a 78.0 (Q3+1.5*IQR) para program__number_of_sub_dirs_with_code. Representando un 0.0% del total de instancias.\n",
      "+3.0IQR: 0 instancias tienen un valor para program__number_of_sub_dirs_with_code superior a 93.0 (Q3-3*IQR) para program__number_of_sub_dirs_with_code. Representando un 0.0% del total de instancias.\n",
      "L: 0 instancias tienen un valor para program__number_of_sub_dirs_with_code inferior a -66.06632318907215 para program__number_of_sub_dirs_with_code. Representando un 0.0% del total de instancias.\n",
      "U: 1 instancias tienen un valor para program__number_of_sub_dirs_with_code superior a 65.44825012808147 para program__number_of_sub_dirs_with_code. Representando un 50.0% del total de instancias.\n"
     ]
    }
   ],
   "execution_count": 37
  },
  {
   "metadata": {},
   "cell_type": "markdown",
   "source": "Describimos los valores de las variables de la tabla, cuando el valor de la variable es mayor que 65 (Con un MC de -0.51 usamos U)",
   "id": "962e0e1a198b468f"
  },
  {
   "metadata": {
    "ExecuteTime": {
     "end_time": "2025-01-26T10:15:56.787314Z",
     "start_time": "2025-01-26T10:15:56.552389Z"
    }
   },
   "cell_type": "code",
   "source": "X[X['program__number_of_sub_dirs_with_code'] > 65].describe(percentiles=[.25, .50, .75], include = ['object', 'float', 'bool', 'int'])",
   "id": "87724eeca9c29f75",
   "outputs": [
    {
     "data": {
      "text/plain": [
       "       program__has_sub_dirs_with_code  program__has_packages  \\\n",
       "count                              1.0                    1.0   \n",
       "mean                               1.0                    1.0   \n",
       "std                                NaN                    NaN   \n",
       "min                                1.0                    1.0   \n",
       "25%                                1.0                    1.0   \n",
       "50%                                1.0                    1.0   \n",
       "75%                                1.0                    1.0   \n",
       "max                                1.0                    1.0   \n",
       "\n",
       "       program__number_of_modules  program__number_of_sub_dirs_with_code  \\\n",
       "count                         1.0                                    1.0   \n",
       "mean                       3294.0                                   68.0   \n",
       "std                           NaN                                    NaN   \n",
       "min                        3294.0                                   68.0   \n",
       "25%                        3294.0                                   68.0   \n",
       "50%                        3294.0                                   68.0   \n",
       "75%                        3294.0                                   68.0   \n",
       "max                        3294.0                                   68.0   \n",
       "\n",
       "       program__number_of_packages  program__class_defs_pct  \\\n",
       "count                          1.0                 1.000000   \n",
       "mean                        1297.0                 0.368945   \n",
       "std                            NaN                      NaN   \n",
       "min                         1297.0                 0.368945   \n",
       "25%                         1297.0                 0.368945   \n",
       "50%                         1297.0                 0.368945   \n",
       "75%                         1297.0                 0.368945   \n",
       "max                         1297.0                 0.368945   \n",
       "\n",
       "       program__function_defs_pct  program__enum_defs_pct  \\\n",
       "count                    1.000000                1.000000   \n",
       "mean                     0.611977                0.019078   \n",
       "std                           NaN                     NaN   \n",
       "min                      0.611977                0.019078   \n",
       "25%                      0.611977                0.019078   \n",
       "50%                      0.611977                0.019078   \n",
       "75%                      0.611977                0.019078   \n",
       "max                      0.611977                0.019078   \n",
       "\n",
       "       program__has_code_root_package  program__average_defs_per_module  \n",
       "count                             1.0                          1.000000  \n",
       "mean                              0.0                          1.829994  \n",
       "std                               NaN                               NaN  \n",
       "min                               0.0                          1.829994  \n",
       "25%                               0.0                          1.829994  \n",
       "50%                               0.0                          1.829994  \n",
       "75%                               0.0                          1.829994  \n",
       "max                               0.0                          1.829994  "
      ],
      "text/html": [
       "<div>\n",
       "<style scoped>\n",
       "    .dataframe tbody tr th:only-of-type {\n",
       "        vertical-align: middle;\n",
       "    }\n",
       "\n",
       "    .dataframe tbody tr th {\n",
       "        vertical-align: top;\n",
       "    }\n",
       "\n",
       "    .dataframe thead th {\n",
       "        text-align: right;\n",
       "    }\n",
       "</style>\n",
       "<table border=\"1\" class=\"dataframe\">\n",
       "  <thead>\n",
       "    <tr style=\"text-align: right;\">\n",
       "      <th></th>\n",
       "      <th>program__has_sub_dirs_with_code</th>\n",
       "      <th>program__has_packages</th>\n",
       "      <th>program__number_of_modules</th>\n",
       "      <th>program__number_of_sub_dirs_with_code</th>\n",
       "      <th>program__number_of_packages</th>\n",
       "      <th>program__class_defs_pct</th>\n",
       "      <th>program__function_defs_pct</th>\n",
       "      <th>program__enum_defs_pct</th>\n",
       "      <th>program__has_code_root_package</th>\n",
       "      <th>program__average_defs_per_module</th>\n",
       "    </tr>\n",
       "  </thead>\n",
       "  <tbody>\n",
       "    <tr>\n",
       "      <th>count</th>\n",
       "      <td>1.0</td>\n",
       "      <td>1.0</td>\n",
       "      <td>1.0</td>\n",
       "      <td>1.0</td>\n",
       "      <td>1.0</td>\n",
       "      <td>1.000000</td>\n",
       "      <td>1.000000</td>\n",
       "      <td>1.000000</td>\n",
       "      <td>1.0</td>\n",
       "      <td>1.000000</td>\n",
       "    </tr>\n",
       "    <tr>\n",
       "      <th>mean</th>\n",
       "      <td>1.0</td>\n",
       "      <td>1.0</td>\n",
       "      <td>3294.0</td>\n",
       "      <td>68.0</td>\n",
       "      <td>1297.0</td>\n",
       "      <td>0.368945</td>\n",
       "      <td>0.611977</td>\n",
       "      <td>0.019078</td>\n",
       "      <td>0.0</td>\n",
       "      <td>1.829994</td>\n",
       "    </tr>\n",
       "    <tr>\n",
       "      <th>std</th>\n",
       "      <td>NaN</td>\n",
       "      <td>NaN</td>\n",
       "      <td>NaN</td>\n",
       "      <td>NaN</td>\n",
       "      <td>NaN</td>\n",
       "      <td>NaN</td>\n",
       "      <td>NaN</td>\n",
       "      <td>NaN</td>\n",
       "      <td>NaN</td>\n",
       "      <td>NaN</td>\n",
       "    </tr>\n",
       "    <tr>\n",
       "      <th>min</th>\n",
       "      <td>1.0</td>\n",
       "      <td>1.0</td>\n",
       "      <td>3294.0</td>\n",
       "      <td>68.0</td>\n",
       "      <td>1297.0</td>\n",
       "      <td>0.368945</td>\n",
       "      <td>0.611977</td>\n",
       "      <td>0.019078</td>\n",
       "      <td>0.0</td>\n",
       "      <td>1.829994</td>\n",
       "    </tr>\n",
       "    <tr>\n",
       "      <th>25%</th>\n",
       "      <td>1.0</td>\n",
       "      <td>1.0</td>\n",
       "      <td>3294.0</td>\n",
       "      <td>68.0</td>\n",
       "      <td>1297.0</td>\n",
       "      <td>0.368945</td>\n",
       "      <td>0.611977</td>\n",
       "      <td>0.019078</td>\n",
       "      <td>0.0</td>\n",
       "      <td>1.829994</td>\n",
       "    </tr>\n",
       "    <tr>\n",
       "      <th>50%</th>\n",
       "      <td>1.0</td>\n",
       "      <td>1.0</td>\n",
       "      <td>3294.0</td>\n",
       "      <td>68.0</td>\n",
       "      <td>1297.0</td>\n",
       "      <td>0.368945</td>\n",
       "      <td>0.611977</td>\n",
       "      <td>0.019078</td>\n",
       "      <td>0.0</td>\n",
       "      <td>1.829994</td>\n",
       "    </tr>\n",
       "    <tr>\n",
       "      <th>75%</th>\n",
       "      <td>1.0</td>\n",
       "      <td>1.0</td>\n",
       "      <td>3294.0</td>\n",
       "      <td>68.0</td>\n",
       "      <td>1297.0</td>\n",
       "      <td>0.368945</td>\n",
       "      <td>0.611977</td>\n",
       "      <td>0.019078</td>\n",
       "      <td>0.0</td>\n",
       "      <td>1.829994</td>\n",
       "    </tr>\n",
       "    <tr>\n",
       "      <th>max</th>\n",
       "      <td>1.0</td>\n",
       "      <td>1.0</td>\n",
       "      <td>3294.0</td>\n",
       "      <td>68.0</td>\n",
       "      <td>1297.0</td>\n",
       "      <td>0.368945</td>\n",
       "      <td>0.611977</td>\n",
       "      <td>0.019078</td>\n",
       "      <td>0.0</td>\n",
       "      <td>1.829994</td>\n",
       "    </tr>\n",
       "  </tbody>\n",
       "</table>\n",
       "</div>"
      ]
     },
     "execution_count": 57,
     "metadata": {},
     "output_type": "execute_result"
    }
   ],
   "execution_count": 57
  },
  {
   "metadata": {},
   "cell_type": "markdown",
   "source": [
    "### Variable number_of_packages (6/10)\n",
    "Esta variable representa el número de subdirectorios con ficheros python pero sin un __init__.py en ellos. Como vimos en la descripción de la tabla esta varibale adopta valores en el rango 120 - 1297. Con una media de 708,5."
   ],
   "id": "2a00f5be59e6d4a9"
  },
  {
   "metadata": {
    "ExecuteTime": {
     "end_time": "2025-01-26T10:12:04.304270Z",
     "start_time": "2025-01-26T10:12:03.553880Z"
    }
   },
   "cell_type": "code",
   "source": "sns.stripplot(X['program__number_of_packages'])",
   "id": "bcf42c4ca6fb0146",
   "outputs": [
    {
     "data": {
      "text/plain": [
       "<Axes: ylabel='program__number_of_packages'>"
      ]
     },
     "execution_count": 39,
     "metadata": {},
     "output_type": "execute_result"
    },
    {
     "data": {
      "text/plain": [
       "<Figure size 640x480 with 1 Axes>"
      ],
      "image/png": "[encoded data removed]"
     },
     "metadata": {},
     "output_type": "display_data"
    }
   ],
   "execution_count": 39
  },
  {
   "metadata": {
    "ExecuteTime": {
     "end_time": "2025-01-26T10:12:05.024171Z",
     "start_time": "2025-01-26T10:12:04.996900Z"
    }
   },
   "cell_type": "code",
   "source": "print_outliers_for_df_column(X, 'program__number_of_packages')",
   "id": "2be67c4ab421c8b0",
   "outputs": [
    {
     "name": "stdout",
     "output_type": "stream",
     "text": [
      "El coeficiente MC (Medcouple Coefficient) de balanceo es: -0.09111969111969112\n",
      "Rango valores atípicos extremos (Tukey): [-1351.25,2768.25]\n",
      "Rango valores atípicos leves (Tukey): [-468.5,1885.5]\n",
      "Rango valores atípicos extremos (Fixed BoxPlot): [-856.701103152895,1644.4514188856836]\n",
      "-3.0IQR: 0 instancias tienen un valor para program__number_of_packages inferior a -1351.25 (Q1-3*IQR) para program__number_of_packages. Representando un 0.0% del total de instancias.\n",
      "-1.5IQR: 0 instancias tienen un valor para program__number_of_packages inferior a -468.5 (Q1-1.5*IQR) para program__number_of_packages. Representando un 0.0% del total de instancias.\n",
      "+1.5IQR: 0 instancias tienen un valor para program__number_of_packages superior a 1885.5 (Q3+1.5*IQR) para program__number_of_packages. Representando un 0.0% del total de instancias.\n",
      "+3.0IQR: 0 instancias tienen un valor para program__number_of_packages superior a 2768.25 (Q3-3*IQR) para program__number_of_packages. Representando un 0.0% del total de instancias.\n",
      "L: 0 instancias tienen un valor para program__number_of_packages inferior a -856.701103152895 para program__number_of_packages. Representando un 0.0% del total de instancias.\n",
      "U: 0 instancias tienen un valor para program__number_of_packages superior a 1644.4514188856836 para program__number_of_packages. Representando un 0.0% del total de instancias.\n"
     ]
    }
   ],
   "execution_count": 40
  },
  {
   "metadata": {},
   "cell_type": "markdown",
   "source": "Describimos los valores de las variables de la tabla, cuando el valor de la variable es mayor que 1644 (Con un MC de -0.09 usamos U)",
   "id": "8ab1963e1c253a34"
  },
  {
   "metadata": {
    "ExecuteTime": {
     "end_time": "2025-01-26T10:17:50.084759Z",
     "start_time": "2025-01-26T10:17:50.006997Z"
    }
   },
   "cell_type": "code",
   "source": "X[X['program__number_of_packages'] > 1644].describe(percentiles=[.25, .50, .75], include = ['object', 'float', 'bool', 'int'])",
   "id": "ad1049f623d1e003",
   "outputs": [
    {
     "data": {
      "text/plain": [
       "       program__has_sub_dirs_with_code  program__has_packages  \\\n",
       "count                              0.0                    0.0   \n",
       "mean                               NaN                    NaN   \n",
       "std                                NaN                    NaN   \n",
       "min                                NaN                    NaN   \n",
       "25%                                NaN                    NaN   \n",
       "50%                                NaN                    NaN   \n",
       "75%                                NaN                    NaN   \n",
       "max                                NaN                    NaN   \n",
       "\n",
       "       program__number_of_modules  program__number_of_sub_dirs_with_code  \\\n",
       "count                         0.0                                    0.0   \n",
       "mean                          NaN                                    NaN   \n",
       "std                           NaN                                    NaN   \n",
       "min                           NaN                                    NaN   \n",
       "25%                           NaN                                    NaN   \n",
       "50%                           NaN                                    NaN   \n",
       "75%                           NaN                                    NaN   \n",
       "max                           NaN                                    NaN   \n",
       "\n",
       "       program__number_of_packages  program__class_defs_pct  \\\n",
       "count                          0.0                      0.0   \n",
       "mean                           NaN                      NaN   \n",
       "std                            NaN                      NaN   \n",
       "min                            NaN                      NaN   \n",
       "25%                            NaN                      NaN   \n",
       "50%                            NaN                      NaN   \n",
       "75%                            NaN                      NaN   \n",
       "max                            NaN                      NaN   \n",
       "\n",
       "       program__function_defs_pct  program__enum_defs_pct  \\\n",
       "count                         0.0                     0.0   \n",
       "mean                          NaN                     NaN   \n",
       "std                           NaN                     NaN   \n",
       "min                           NaN                     NaN   \n",
       "25%                           NaN                     NaN   \n",
       "50%                           NaN                     NaN   \n",
       "75%                           NaN                     NaN   \n",
       "max                           NaN                     NaN   \n",
       "\n",
       "       program__has_code_root_package  program__average_defs_per_module  \n",
       "count                             0.0                               0.0  \n",
       "mean                              NaN                               NaN  \n",
       "std                               NaN                               NaN  \n",
       "min                               NaN                               NaN  \n",
       "25%                               NaN                               NaN  \n",
       "50%                               NaN                               NaN  \n",
       "75%                               NaN                               NaN  \n",
       "max                               NaN                               NaN  "
      ],
      "text/html": [
       "<div>\n",
       "<style scoped>\n",
       "    .dataframe tbody tr th:only-of-type {\n",
       "        vertical-align: middle;\n",
       "    }\n",
       "\n",
       "    .dataframe tbody tr th {\n",
       "        vertical-align: top;\n",
       "    }\n",
       "\n",
       "    .dataframe thead th {\n",
       "        text-align: right;\n",
       "    }\n",
       "</style>\n",
       "<table border=\"1\" class=\"dataframe\">\n",
       "  <thead>\n",
       "    <tr style=\"text-align: right;\">\n",
       "      <th></th>\n",
       "      <th>program__has_sub_dirs_with_code</th>\n",
       "      <th>program__has_packages</th>\n",
       "      <th>program__number_of_modules</th>\n",
       "      <th>program__number_of_sub_dirs_with_code</th>\n",
       "      <th>program__number_of_packages</th>\n",
       "      <th>program__class_defs_pct</th>\n",
       "      <th>program__function_defs_pct</th>\n",
       "      <th>program__enum_defs_pct</th>\n",
       "      <th>program__has_code_root_package</th>\n",
       "      <th>program__average_defs_per_module</th>\n",
       "    </tr>\n",
       "  </thead>\n",
       "  <tbody>\n",
       "    <tr>\n",
       "      <th>count</th>\n",
       "      <td>0.0</td>\n",
       "      <td>0.0</td>\n",
       "      <td>0.0</td>\n",
       "      <td>0.0</td>\n",
       "      <td>0.0</td>\n",
       "      <td>0.0</td>\n",
       "      <td>0.0</td>\n",
       "      <td>0.0</td>\n",
       "      <td>0.0</td>\n",
       "      <td>0.0</td>\n",
       "    </tr>\n",
       "    <tr>\n",
       "      <th>mean</th>\n",
       "      <td>NaN</td>\n",
       "      <td>NaN</td>\n",
       "      <td>NaN</td>\n",
       "      <td>NaN</td>\n",
       "      <td>NaN</td>\n",
       "      <td>NaN</td>\n",
       "      <td>NaN</td>\n",
       "      <td>NaN</td>\n",
       "      <td>NaN</td>\n",
       "      <td>NaN</td>\n",
       "    </tr>\n",
       "    <tr>\n",
       "      <th>std</th>\n",
       "      <td>NaN</td>\n",
       "      <td>NaN</td>\n",
       "      <td>NaN</td>\n",
       "      <td>NaN</td>\n",
       "      <td>NaN</td>\n",
       "      <td>NaN</td>\n",
       "      <td>NaN</td>\n",
       "      <td>NaN</td>\n",
       "      <td>NaN</td>\n",
       "      <td>NaN</td>\n",
       "    </tr>\n",
       "    <tr>\n",
       "      <th>min</th>\n",
       "      <td>NaN</td>\n",
       "      <td>NaN</td>\n",
       "      <td>NaN</td>\n",
       "      <td>NaN</td>\n",
       "      <td>NaN</td>\n",
       "      <td>NaN</td>\n",
       "      <td>NaN</td>\n",
       "      <td>NaN</td>\n",
       "      <td>NaN</td>\n",
       "      <td>NaN</td>\n",
       "    </tr>\n",
       "    <tr>\n",
       "      <th>25%</th>\n",
       "      <td>NaN</td>\n",
       "      <td>NaN</td>\n",
       "      <td>NaN</td>\n",
       "      <td>NaN</td>\n",
       "      <td>NaN</td>\n",
       "      <td>NaN</td>\n",
       "      <td>NaN</td>\n",
       "      <td>NaN</td>\n",
       "      <td>NaN</td>\n",
       "      <td>NaN</td>\n",
       "    </tr>\n",
       "    <tr>\n",
       "      <th>50%</th>\n",
       "      <td>NaN</td>\n",
       "      <td>NaN</td>\n",
       "      <td>NaN</td>\n",
       "      <td>NaN</td>\n",
       "      <td>NaN</td>\n",
       "      <td>NaN</td>\n",
       "      <td>NaN</td>\n",
       "      <td>NaN</td>\n",
       "      <td>NaN</td>\n",
       "      <td>NaN</td>\n",
       "    </tr>\n",
       "    <tr>\n",
       "      <th>75%</th>\n",
       "      <td>NaN</td>\n",
       "      <td>NaN</td>\n",
       "      <td>NaN</td>\n",
       "      <td>NaN</td>\n",
       "      <td>NaN</td>\n",
       "      <td>NaN</td>\n",
       "      <td>NaN</td>\n",
       "      <td>NaN</td>\n",
       "      <td>NaN</td>\n",
       "      <td>NaN</td>\n",
       "    </tr>\n",
       "    <tr>\n",
       "      <th>max</th>\n",
       "      <td>NaN</td>\n",
       "      <td>NaN</td>\n",
       "      <td>NaN</td>\n",
       "      <td>NaN</td>\n",
       "      <td>NaN</td>\n",
       "      <td>NaN</td>\n",
       "      <td>NaN</td>\n",
       "      <td>NaN</td>\n",
       "      <td>NaN</td>\n",
       "      <td>NaN</td>\n",
       "    </tr>\n",
       "  </tbody>\n",
       "</table>\n",
       "</div>"
      ]
     },
     "execution_count": 58,
     "metadata": {},
     "output_type": "execute_result"
    }
   ],
   "execution_count": 58
  },
  {
   "metadata": {},
   "cell_type": "markdown",
   "source": [
    "### Variable average_defs_per_module (7/10)\n",
    "Esta variable es de tipo numérica y nos indica el número medio de definiciones en un módulo. Como vimos en la descripción de la tabla esta varibale adopta valores en el rango 1.82 - 3.33. Con una media de 2.58."
   ],
   "id": "37d55a98f9df4be"
  },
  {
   "metadata": {
    "ExecuteTime": {
     "end_time": "2025-01-26T10:12:06.613943Z",
     "start_time": "2025-01-26T10:12:05.812625Z"
    }
   },
   "cell_type": "code",
   "source": [
    "sns.stripplot(X['program__average_defs_per_module'])"
   ],
   "id": "8d7027a78ac296ed",
   "outputs": [
    {
     "data": {
      "text/plain": [
       "<Axes: ylabel='program__average_defs_per_module'>"
      ]
     },
     "execution_count": 42,
     "metadata": {},
     "output_type": "execute_result"
    },
    {
     "data": {
      "text/plain": [
       "<Figure size 640x480 with 1 Axes>"
      ],
      "image/png": "[encoded data removed]"
     },
     "metadata": {},
     "output_type": "display_data"
    }
   ],
   "execution_count": 42
  },
  {
   "metadata": {
    "ExecuteTime": {
     "end_time": "2025-01-26T10:12:06.870507Z",
     "start_time": "2025-01-26T10:12:06.849845Z"
    }
   },
   "cell_type": "code",
   "source": [
    "print_outliers_for_df_column(X, 'program__average_defs_per_module')"
   ],
   "id": "98d831dcd0eeee02",
   "outputs": [
    {
     "name": "stdout",
     "output_type": "stream",
     "text": [
      "El coeficiente MC (Medcouple Coefficient) de balanceo es: -0.08654720161779227\n",
      "Rango valores atípicos extremos (Tukey): [-0.046897292137145996,5.208398222923279]\n",
      "Rango valores atípicos leves (Tukey): [1.079237461090088,4.082263469696045]\n",
      "Rango valores atípicos extremos (Fixed BoxPlot): [0.6133898601459158,3.7879613593015042]\n",
      "-3.0IQR: 0 instancias tienen un valor para program__average_defs_per_module inferior a -0.046897292137145996 (Q1-3*IQR) para program__average_defs_per_module. Representando un 0.0% del total de instancias.\n",
      "-1.5IQR: 0 instancias tienen un valor para program__average_defs_per_module inferior a 1.079237461090088 (Q1-1.5*IQR) para program__average_defs_per_module. Representando un 0.0% del total de instancias.\n",
      "+1.5IQR: 0 instancias tienen un valor para program__average_defs_per_module superior a 4.082263469696045 (Q3+1.5*IQR) para program__average_defs_per_module. Representando un 0.0% del total de instancias.\n",
      "+3.0IQR: 0 instancias tienen un valor para program__average_defs_per_module superior a 5.208398222923279 (Q3-3*IQR) para program__average_defs_per_module. Representando un 0.0% del total de instancias.\n",
      "L: 0 instancias tienen un valor para program__average_defs_per_module inferior a 0.6133898601459158 para program__average_defs_per_module. Representando un 0.0% del total de instancias.\n",
      "U: 0 instancias tienen un valor para program__average_defs_per_module superior a 3.7879613593015042 para program__average_defs_per_module. Representando un 0.0% del total de instancias.\n"
     ]
    }
   ],
   "execution_count": 43
  },
  {
   "metadata": {},
   "cell_type": "markdown",
   "source": "Describimos los valores de las variables de la tabla, cuando el valor de la variable es menor que 3.78 (Con un MC de -0.086 usamos U)",
   "id": "2c11d847843e2a9a"
  },
  {
   "metadata": {
    "ExecuteTime": {
     "end_time": "2025-01-26T10:12:07.444009Z",
     "start_time": "2025-01-26T10:12:07.363457Z"
    }
   },
   "cell_type": "code",
   "source": "X[X['program__average_defs_per_module'] < 3.78].describe(percentiles=[.25, .50, .75], include = ['object', 'float', 'bool', 'int'])",
   "id": "74dd9804c97aef00",
   "outputs": [
    {
     "data": {
      "text/plain": [
       "       program__has_sub_dirs_with_code  program__has_packages  \\\n",
       "count                              0.0                    0.0   \n",
       "mean                               NaN                    NaN   \n",
       "std                                NaN                    NaN   \n",
       "min                                NaN                    NaN   \n",
       "25%                                NaN                    NaN   \n",
       "50%                                NaN                    NaN   \n",
       "75%                                NaN                    NaN   \n",
       "max                                NaN                    NaN   \n",
       "\n",
       "       program__number_of_modules  program__number_of_sub_dirs_with_code  \\\n",
       "count                         0.0                                    0.0   \n",
       "mean                          NaN                                    NaN   \n",
       "std                           NaN                                    NaN   \n",
       "min                           NaN                                    NaN   \n",
       "25%                           NaN                                    NaN   \n",
       "50%                           NaN                                    NaN   \n",
       "75%                           NaN                                    NaN   \n",
       "max                           NaN                                    NaN   \n",
       "\n",
       "       program__number_of_packages  program__class_defs_pct  \\\n",
       "count                          0.0                      0.0   \n",
       "mean                           NaN                      NaN   \n",
       "std                            NaN                      NaN   \n",
       "min                            NaN                      NaN   \n",
       "25%                            NaN                      NaN   \n",
       "50%                            NaN                      NaN   \n",
       "75%                            NaN                      NaN   \n",
       "max                            NaN                      NaN   \n",
       "\n",
       "       program__function_defs_pct  program__enum_defs_pct  \\\n",
       "count                         0.0                     0.0   \n",
       "mean                          NaN                     NaN   \n",
       "std                           NaN                     NaN   \n",
       "min                           NaN                     NaN   \n",
       "25%                           NaN                     NaN   \n",
       "50%                           NaN                     NaN   \n",
       "75%                           NaN                     NaN   \n",
       "max                           NaN                     NaN   \n",
       "\n",
       "       program__has_code_root_package  program__average_defs_per_module  \n",
       "count                             0.0                               0.0  \n",
       "mean                              NaN                               NaN  \n",
       "std                               NaN                               NaN  \n",
       "min                               NaN                               NaN  \n",
       "25%                               NaN                               NaN  \n",
       "50%                               NaN                               NaN  \n",
       "75%                               NaN                               NaN  \n",
       "max                               NaN                               NaN  "
      ],
      "text/html": [
       "<div>\n",
       "<style scoped>\n",
       "    .dataframe tbody tr th:only-of-type {\n",
       "        vertical-align: middle;\n",
       "    }\n",
       "\n",
       "    .dataframe tbody tr th {\n",
       "        vertical-align: top;\n",
       "    }\n",
       "\n",
       "    .dataframe thead th {\n",
       "        text-align: right;\n",
       "    }\n",
       "</style>\n",
       "<table border=\"1\" class=\"dataframe\">\n",
       "  <thead>\n",
       "    <tr style=\"text-align: right;\">\n",
       "      <th></th>\n",
       "      <th>program__has_sub_dirs_with_code</th>\n",
       "      <th>program__has_packages</th>\n",
       "      <th>program__number_of_modules</th>\n",
       "      <th>program__number_of_sub_dirs_with_code</th>\n",
       "      <th>program__number_of_packages</th>\n",
       "      <th>program__class_defs_pct</th>\n",
       "      <th>program__function_defs_pct</th>\n",
       "      <th>program__enum_defs_pct</th>\n",
       "      <th>program__has_code_root_package</th>\n",
       "      <th>program__average_defs_per_module</th>\n",
       "    </tr>\n",
       "  </thead>\n",
       "  <tbody>\n",
       "    <tr>\n",
       "      <th>count</th>\n",
       "      <td>0.0</td>\n",
       "      <td>0.0</td>\n",
       "      <td>0.0</td>\n",
       "      <td>0.0</td>\n",
       "      <td>0.0</td>\n",
       "      <td>0.0</td>\n",
       "      <td>0.0</td>\n",
       "      <td>0.0</td>\n",
       "      <td>0.0</td>\n",
       "      <td>0.0</td>\n",
       "    </tr>\n",
       "    <tr>\n",
       "      <th>mean</th>\n",
       "      <td>NaN</td>\n",
       "      <td>NaN</td>\n",
       "      <td>NaN</td>\n",
       "      <td>NaN</td>\n",
       "      <td>NaN</td>\n",
       "      <td>NaN</td>\n",
       "      <td>NaN</td>\n",
       "      <td>NaN</td>\n",
       "      <td>NaN</td>\n",
       "      <td>NaN</td>\n",
       "    </tr>\n",
       "    <tr>\n",
       "      <th>std</th>\n",
       "      <td>NaN</td>\n",
       "      <td>NaN</td>\n",
       "      <td>NaN</td>\n",
       "      <td>NaN</td>\n",
       "      <td>NaN</td>\n",
       "      <td>NaN</td>\n",
       "      <td>NaN</td>\n",
       "      <td>NaN</td>\n",
       "      <td>NaN</td>\n",
       "      <td>NaN</td>\n",
       "    </tr>\n",
       "    <tr>\n",
       "      <th>min</th>\n",
       "      <td>NaN</td>\n",
       "      <td>NaN</td>\n",
       "      <td>NaN</td>\n",
       "      <td>NaN</td>\n",
       "      <td>NaN</td>\n",
       "      <td>NaN</td>\n",
       "      <td>NaN</td>\n",
       "      <td>NaN</td>\n",
       "      <td>NaN</td>\n",
       "      <td>NaN</td>\n",
       "    </tr>\n",
       "    <tr>\n",
       "      <th>25%</th>\n",
       "      <td>NaN</td>\n",
       "      <td>NaN</td>\n",
       "      <td>NaN</td>\n",
       "      <td>NaN</td>\n",
       "      <td>NaN</td>\n",
       "      <td>NaN</td>\n",
       "      <td>NaN</td>\n",
       "      <td>NaN</td>\n",
       "      <td>NaN</td>\n",
       "      <td>NaN</td>\n",
       "    </tr>\n",
       "    <tr>\n",
       "      <th>50%</th>\n",
       "      <td>NaN</td>\n",
       "      <td>NaN</td>\n",
       "      <td>NaN</td>\n",
       "      <td>NaN</td>\n",
       "      <td>NaN</td>\n",
       "      <td>NaN</td>\n",
       "      <td>NaN</td>\n",
       "      <td>NaN</td>\n",
       "      <td>NaN</td>\n",
       "      <td>NaN</td>\n",
       "    </tr>\n",
       "    <tr>\n",
       "      <th>75%</th>\n",
       "      <td>NaN</td>\n",
       "      <td>NaN</td>\n",
       "      <td>NaN</td>\n",
       "      <td>NaN</td>\n",
       "      <td>NaN</td>\n",
       "      <td>NaN</td>\n",
       "      <td>NaN</td>\n",
       "      <td>NaN</td>\n",
       "      <td>NaN</td>\n",
       "      <td>NaN</td>\n",
       "    </tr>\n",
       "    <tr>\n",
       "      <th>max</th>\n",
       "      <td>NaN</td>\n",
       "      <td>NaN</td>\n",
       "      <td>NaN</td>\n",
       "      <td>NaN</td>\n",
       "      <td>NaN</td>\n",
       "      <td>NaN</td>\n",
       "      <td>NaN</td>\n",
       "      <td>NaN</td>\n",
       "      <td>NaN</td>\n",
       "      <td>NaN</td>\n",
       "    </tr>\n",
       "  </tbody>\n",
       "</table>\n",
       "</div>"
      ]
     },
     "execution_count": 44,
     "metadata": {},
     "output_type": "execute_result"
    }
   ],
   "execution_count": 44
  },
  {
   "metadata": {},
   "cell_type": "markdown",
   "source": [
    "### Variable class_defs_pct (8/10)\n",
    "Esta variable representa el porcentage de las definiciones de un programa que son clases. Como vimos en la descripción de la tabla esta varibale adopta valores en el rango 0.3689 - 0.3745. Con una media de 0.3717."
   ],
   "id": "fb182a156befa75a"
  },
  {
   "metadata": {
    "ExecuteTime": {
     "end_time": "2025-01-26T10:12:11.709518Z",
     "start_time": "2025-01-26T10:12:07.835537Z"
    }
   },
   "cell_type": "code",
   "source": "sns.displot(X['program__class_defs_pct'], bins=[i / 100 for i in range(0, 101)])",
   "id": "8cfc8a56a436ab6d",
   "outputs": [
    {
     "data": {
      "text/plain": [
       "<seaborn.axisgrid.FacetGrid at 0x229ae93b9b0>"
      ]
     },
     "execution_count": 45,
     "metadata": {},
     "output_type": "execute_result"
    },
    {
     "data": {
      "text/plain": [
       "<Figure size 500x500 with 1 Axes>"
      ],
      "image/png": "[encoded data removed]"
     },
     "metadata": {},
     "output_type": "display_data"
    }
   ],
   "execution_count": 45
  },
  {
   "metadata": {
    "ExecuteTime": {
     "end_time": "2025-01-26T10:12:12.052823Z",
     "start_time": "2025-01-26T10:12:12.029992Z"
    }
   },
   "cell_type": "code",
   "source": "print_outliers_for_df_column(X, 'program__class_defs_pct')",
   "id": "6d4e07dfc0eea73c",
   "outputs": [
    {
     "name": "stdout",
     "output_type": "stream",
     "text": [
      "El coeficiente MC (Medcouple Coefficient) de balanceo es: 0.0\n",
      "Rango valores atípicos extremos (Tukey): [0.3618900328874588,0.38164369761943817]\n",
      "Rango valores atípicos leves (Tukey): [0.3661229610443115,0.37741076946258545]\n",
      "Rango valores atípicos extremos (Fixed BoxPlot): [0.3661229610443115,0.37741076946258545]\n",
      "-3.0IQR: 0 instancias tienen un valor para program__class_defs_pct inferior a 0.3618900328874588 (Q1-3*IQR) para program__class_defs_pct. Representando un 0.0% del total de instancias.\n",
      "-1.5IQR: 0 instancias tienen un valor para program__class_defs_pct inferior a 0.3661229610443115 (Q1-1.5*IQR) para program__class_defs_pct. Representando un 0.0% del total de instancias.\n",
      "+1.5IQR: 0 instancias tienen un valor para program__class_defs_pct superior a 0.37741076946258545 (Q3+1.5*IQR) para program__class_defs_pct. Representando un 0.0% del total de instancias.\n",
      "+3.0IQR: 0 instancias tienen un valor para program__class_defs_pct superior a 0.38164369761943817 (Q3-3*IQR) para program__class_defs_pct. Representando un 0.0% del total de instancias.\n",
      "L: 0 instancias tienen un valor para program__class_defs_pct inferior a 0.3661229610443115 para program__class_defs_pct. Representando un 0.0% del total de instancias.\n",
      "U: 0 instancias tienen un valor para program__class_defs_pct superior a 0.37741076946258545 para program__class_defs_pct. Representando un 0.0% del total de instancias.\n"
     ]
    }
   ],
   "execution_count": 46
  },
  {
   "metadata": {},
   "cell_type": "markdown",
   "source": "No hace falta analizar los valores que estan en los extremos, ya que no hay valores que se salgan de la distribución.",
   "id": "15c387775fc887d6"
  },
  {
   "metadata": {
    "ExecuteTime": {
     "end_time": "2025-01-26T10:12:12.314144Z",
     "start_time": "2025-01-26T10:12:12.146294Z"
    }
   },
   "cell_type": "code",
   "source": "X[X['program__class_defs_pct'] > 0].describe(percentiles=[.25, .50, .75], include = ['object', 'float', 'bool', 'int'])",
   "id": "5c5b54117de99ea5",
   "outputs": [
    {
     "data": {
      "text/plain": [
       "       program__has_sub_dirs_with_code  program__has_packages  \\\n",
       "count                              2.0                    2.0   \n",
       "mean                               1.0                    1.0   \n",
       "std                                0.0                    0.0   \n",
       "min                                1.0                    1.0   \n",
       "25%                                1.0                    1.0   \n",
       "50%                                1.0                    1.0   \n",
       "75%                                1.0                    1.0   \n",
       "max                                1.0                    1.0   \n",
       "\n",
       "       program__number_of_modules  program__number_of_sub_dirs_with_code  \\\n",
       "count                    2.000000                               2.000000   \n",
       "mean                  2012.000000                              58.000000   \n",
       "std                   1813.021729                              14.142136   \n",
       "min                    730.000000                              48.000000   \n",
       "25%                   1371.000000                              53.000000   \n",
       "50%                   2012.000000                              58.000000   \n",
       "75%                   2653.000000                              63.000000   \n",
       "max                   3294.000000                              68.000000   \n",
       "\n",
       "       program__number_of_packages  program__class_defs_pct  \\\n",
       "count                     2.000000                 2.000000   \n",
       "mean                    708.500000                 0.371767   \n",
       "std                     832.264709                 0.003991   \n",
       "min                     120.000000                 0.368945   \n",
       "25%                     414.250000                 0.370356   \n",
       "50%                     708.500000                 0.371767   \n",
       "75%                    1002.750000                 0.373178   \n",
       "max                    1297.000000                 0.374589   \n",
       "\n",
       "       program__function_defs_pct  program__enum_defs_pct  \\\n",
       "count                    2.000000                2.000000   \n",
       "mean                     0.614788                0.013445   \n",
       "std                      0.003975                0.007966   \n",
       "min                      0.611977                0.007812   \n",
       "25%                      0.613383                0.010629   \n",
       "50%                      0.614788                0.013445   \n",
       "75%                      0.616193                0.016261   \n",
       "max                      0.617599                0.019078   \n",
       "\n",
       "       program__has_code_root_package  program__average_defs_per_module  \n",
       "count                        2.000000                          2.000000  \n",
       "mean                         0.500000                          2.580750  \n",
       "std                          0.707107                          1.061730  \n",
       "min                          0.000000                          1.829994  \n",
       "25%                          0.250000                          2.205372  \n",
       "50%                          0.500000                          2.580750  \n",
       "75%                          0.750000                          2.956129  \n",
       "max                          1.000000                          3.331507  "
      ],
      "text/html": [
       "<div>\n",
       "<style scoped>\n",
       "    .dataframe tbody tr th:only-of-type {\n",
       "        vertical-align: middle;\n",
       "    }\n",
       "\n",
       "    .dataframe tbody tr th {\n",
       "        vertical-align: top;\n",
       "    }\n",
       "\n",
       "    .dataframe thead th {\n",
       "        text-align: right;\n",
       "    }\n",
       "</style>\n",
       "<table border=\"1\" class=\"dataframe\">\n",
       "  <thead>\n",
       "    <tr style=\"text-align: right;\">\n",
       "      <th></th>\n",
       "      <th>program__has_sub_dirs_with_code</th>\n",
       "      <th>program__has_packages</th>\n",
       "      <th>program__number_of_modules</th>\n",
       "      <th>program__number_of_sub_dirs_with_code</th>\n",
       "      <th>program__number_of_packages</th>\n",
       "      <th>program__class_defs_pct</th>\n",
       "      <th>program__function_defs_pct</th>\n",
       "      <th>program__enum_defs_pct</th>\n",
       "      <th>program__has_code_root_package</th>\n",
       "      <th>program__average_defs_per_module</th>\n",
       "    </tr>\n",
       "  </thead>\n",
       "  <tbody>\n",
       "    <tr>\n",
       "      <th>count</th>\n",
       "      <td>2.0</td>\n",
       "      <td>2.0</td>\n",
       "      <td>2.000000</td>\n",
       "      <td>2.000000</td>\n",
       "      <td>2.000000</td>\n",
       "      <td>2.000000</td>\n",
       "      <td>2.000000</td>\n",
       "      <td>2.000000</td>\n",
       "      <td>2.000000</td>\n",
       "      <td>2.000000</td>\n",
       "    </tr>\n",
       "    <tr>\n",
       "      <th>mean</th>\n",
       "      <td>1.0</td>\n",
       "      <td>1.0</td>\n",
       "      <td>2012.000000</td>\n",
       "      <td>58.000000</td>\n",
       "      <td>708.500000</td>\n",
       "      <td>0.371767</td>\n",
       "      <td>0.614788</td>\n",
       "      <td>0.013445</td>\n",
       "      <td>0.500000</td>\n",
       "      <td>2.580750</td>\n",
       "    </tr>\n",
       "    <tr>\n",
       "      <th>std</th>\n",
       "      <td>0.0</td>\n",
       "      <td>0.0</td>\n",
       "      <td>1813.021729</td>\n",
       "      <td>14.142136</td>\n",
       "      <td>832.264709</td>\n",
       "      <td>0.003991</td>\n",
       "      <td>0.003975</td>\n",
       "      <td>0.007966</td>\n",
       "      <td>0.707107</td>\n",
       "      <td>1.061730</td>\n",
       "    </tr>\n",
       "    <tr>\n",
       "      <th>min</th>\n",
       "      <td>1.0</td>\n",
       "      <td>1.0</td>\n",
       "      <td>730.000000</td>\n",
       "      <td>48.000000</td>\n",
       "      <td>120.000000</td>\n",
       "      <td>0.368945</td>\n",
       "      <td>0.611977</td>\n",
       "      <td>0.007812</td>\n",
       "      <td>0.000000</td>\n",
       "      <td>1.829994</td>\n",
       "    </tr>\n",
       "    <tr>\n",
       "      <th>25%</th>\n",
       "      <td>1.0</td>\n",
       "      <td>1.0</td>\n",
       "      <td>1371.000000</td>\n",
       "      <td>53.000000</td>\n",
       "      <td>414.250000</td>\n",
       "      <td>0.370356</td>\n",
       "      <td>0.613383</td>\n",
       "      <td>0.010629</td>\n",
       "      <td>0.250000</td>\n",
       "      <td>2.205372</td>\n",
       "    </tr>\n",
       "    <tr>\n",
       "      <th>50%</th>\n",
       "      <td>1.0</td>\n",
       "      <td>1.0</td>\n",
       "      <td>2012.000000</td>\n",
       "      <td>58.000000</td>\n",
       "      <td>708.500000</td>\n",
       "      <td>0.371767</td>\n",
       "      <td>0.614788</td>\n",
       "      <td>0.013445</td>\n",
       "      <td>0.500000</td>\n",
       "      <td>2.580750</td>\n",
       "    </tr>\n",
       "    <tr>\n",
       "      <th>75%</th>\n",
       "      <td>1.0</td>\n",
       "      <td>1.0</td>\n",
       "      <td>2653.000000</td>\n",
       "      <td>63.000000</td>\n",
       "      <td>1002.750000</td>\n",
       "      <td>0.373178</td>\n",
       "      <td>0.616193</td>\n",
       "      <td>0.016261</td>\n",
       "      <td>0.750000</td>\n",
       "      <td>2.956129</td>\n",
       "    </tr>\n",
       "    <tr>\n",
       "      <th>max</th>\n",
       "      <td>1.0</td>\n",
       "      <td>1.0</td>\n",
       "      <td>3294.000000</td>\n",
       "      <td>68.000000</td>\n",
       "      <td>1297.000000</td>\n",
       "      <td>0.374589</td>\n",
       "      <td>0.617599</td>\n",
       "      <td>0.019078</td>\n",
       "      <td>1.000000</td>\n",
       "      <td>3.331507</td>\n",
       "    </tr>\n",
       "  </tbody>\n",
       "</table>\n",
       "</div>"
      ]
     },
     "execution_count": 47,
     "metadata": {},
     "output_type": "execute_result"
    }
   ],
   "execution_count": 47
  },
  {
   "metadata": {},
   "cell_type": "markdown",
   "source": [
    "### Variable function_defs_pct (9/10)\n",
    "Esta variable representa el porcentage de las definiciones de un programa que son clases. Como vimos en la descripción de la tabla esta varibale adopta valores en el rango 0.612 - 0.617. Con una media de 0,6148.\n"
   ],
   "id": "fbd6e93cca1be4bf"
  },
  {
   "metadata": {
    "ExecuteTime": {
     "end_time": "2025-01-26T10:12:14.930808Z",
     "start_time": "2025-01-26T10:12:12.736484Z"
    }
   },
   "cell_type": "code",
   "source": "sns.displot(X['program__function_defs_pct'], bins=[i / 100 for i in range(0, 101)])",
   "id": "f1b75c25c53f4ad5",
   "outputs": [
    {
     "data": {
      "text/plain": [
       "<seaborn.axisgrid.FacetGrid at 0x229b28d9ca0>"
      ]
     },
     "execution_count": 48,
     "metadata": {},
     "output_type": "execute_result"
    },
    {
     "data": {
      "text/plain": [
       "<Figure size 500x500 with 1 Axes>"
      ],
      "image/png": "[encoded data removed]"
     },
     "metadata": {},
     "output_type": "display_data"
    }
   ],
   "execution_count": 48
  },
  {
   "metadata": {
    "ExecuteTime": {
     "end_time": "2025-01-26T10:12:15.741734Z",
     "start_time": "2025-01-26T10:12:15.712453Z"
    }
   },
   "cell_type": "code",
   "source": "print_outliers_for_df_column(X, 'program__function_defs_pct')",
   "id": "d44c212251238f23",
   "outputs": [
    {
     "name": "stdout",
     "output_type": "stream",
     "text": [
      "El coeficiente MC (Medcouple Coefficient) de balanceo es: 7.952581407925012e-06\n",
      "Rango valores atípicos extremos (Tukey): [0.6049508899450302,0.6246252804994583]\n",
      "Rango valores atípicos leves (Tukey): [0.609166830778122,0.6204093396663666]\n",
      "Rango valores atípicos extremos (Fixed BoxPlot): [0.6091669481231332,0.6204094737789504]\n",
      "-3.0IQR: 0 instancias tienen un valor para program__function_defs_pct inferior a 0.6049508899450302 (Q1-3*IQR) para program__function_defs_pct. Representando un 0.0% del total de instancias.\n",
      "-1.5IQR: 0 instancias tienen un valor para program__function_defs_pct inferior a 0.609166830778122 (Q1-1.5*IQR) para program__function_defs_pct. Representando un 0.0% del total de instancias.\n",
      "+1.5IQR: 0 instancias tienen un valor para program__function_defs_pct superior a 0.6204093396663666 (Q3+1.5*IQR) para program__function_defs_pct. Representando un 0.0% del total de instancias.\n",
      "+3.0IQR: 0 instancias tienen un valor para program__function_defs_pct superior a 0.6246252804994583 (Q3-3*IQR) para program__function_defs_pct. Representando un 0.0% del total de instancias.\n",
      "L: 0 instancias tienen un valor para program__function_defs_pct inferior a 0.6091669481231332 para program__function_defs_pct. Representando un 0.0% del total de instancias.\n",
      "U: 0 instancias tienen un valor para program__function_defs_pct superior a 0.6204094737789504 para program__function_defs_pct. Representando un 0.0% del total de instancias.\n"
     ]
    }
   ],
   "execution_count": 49
  },
  {
   "metadata": {},
   "cell_type": "markdown",
   "source": "Describimos los valores de las variables de la tabla, cuando el valor de la variable es mayor que 0.62 (Con un MC de 8 usamos U)",
   "id": "5b44b3fe5e71d3c5"
  },
  {
   "metadata": {
    "ExecuteTime": {
     "end_time": "2025-01-26T10:12:16.081867Z",
     "start_time": "2025-01-26T10:12:15.983837Z"
    }
   },
   "cell_type": "code",
   "source": "X[X['program__function_defs_pct'] > 0.62].describe(percentiles=[.25, .50, .75], include = ['object', 'float', 'bool', 'int'])",
   "id": "b493e3454f34ef9",
   "outputs": [
    {
     "data": {
      "text/plain": [
       "       program__has_sub_dirs_with_code  program__has_packages  \\\n",
       "count                              0.0                    0.0   \n",
       "mean                               NaN                    NaN   \n",
       "std                                NaN                    NaN   \n",
       "min                                NaN                    NaN   \n",
       "25%                                NaN                    NaN   \n",
       "50%                                NaN                    NaN   \n",
       "75%                                NaN                    NaN   \n",
       "max                                NaN                    NaN   \n",
       "\n",
       "       program__number_of_modules  program__number_of_sub_dirs_with_code  \\\n",
       "count                         0.0                                    0.0   \n",
       "mean                          NaN                                    NaN   \n",
       "std                           NaN                                    NaN   \n",
       "min                           NaN                                    NaN   \n",
       "25%                           NaN                                    NaN   \n",
       "50%                           NaN                                    NaN   \n",
       "75%                           NaN                                    NaN   \n",
       "max                           NaN                                    NaN   \n",
       "\n",
       "       program__number_of_packages  program__class_defs_pct  \\\n",
       "count                          0.0                      0.0   \n",
       "mean                           NaN                      NaN   \n",
       "std                            NaN                      NaN   \n",
       "min                            NaN                      NaN   \n",
       "25%                            NaN                      NaN   \n",
       "50%                            NaN                      NaN   \n",
       "75%                            NaN                      NaN   \n",
       "max                            NaN                      NaN   \n",
       "\n",
       "       program__function_defs_pct  program__enum_defs_pct  \\\n",
       "count                         0.0                     0.0   \n",
       "mean                          NaN                     NaN   \n",
       "std                           NaN                     NaN   \n",
       "min                           NaN                     NaN   \n",
       "25%                           NaN                     NaN   \n",
       "50%                           NaN                     NaN   \n",
       "75%                           NaN                     NaN   \n",
       "max                           NaN                     NaN   \n",
       "\n",
       "       program__has_code_root_package  program__average_defs_per_module  \n",
       "count                             0.0                               0.0  \n",
       "mean                              NaN                               NaN  \n",
       "std                               NaN                               NaN  \n",
       "min                               NaN                               NaN  \n",
       "25%                               NaN                               NaN  \n",
       "50%                               NaN                               NaN  \n",
       "75%                               NaN                               NaN  \n",
       "max                               NaN                               NaN  "
      ],
      "text/html": [
       "<div>\n",
       "<style scoped>\n",
       "    .dataframe tbody tr th:only-of-type {\n",
       "        vertical-align: middle;\n",
       "    }\n",
       "\n",
       "    .dataframe tbody tr th {\n",
       "        vertical-align: top;\n",
       "    }\n",
       "\n",
       "    .dataframe thead th {\n",
       "        text-align: right;\n",
       "    }\n",
       "</style>\n",
       "<table border=\"1\" class=\"dataframe\">\n",
       "  <thead>\n",
       "    <tr style=\"text-align: right;\">\n",
       "      <th></th>\n",
       "      <th>program__has_sub_dirs_with_code</th>\n",
       "      <th>program__has_packages</th>\n",
       "      <th>program__number_of_modules</th>\n",
       "      <th>program__number_of_sub_dirs_with_code</th>\n",
       "      <th>program__number_of_packages</th>\n",
       "      <th>program__class_defs_pct</th>\n",
       "      <th>program__function_defs_pct</th>\n",
       "      <th>program__enum_defs_pct</th>\n",
       "      <th>program__has_code_root_package</th>\n",
       "      <th>program__average_defs_per_module</th>\n",
       "    </tr>\n",
       "  </thead>\n",
       "  <tbody>\n",
       "    <tr>\n",
       "      <th>count</th>\n",
       "      <td>0.0</td>\n",
       "      <td>0.0</td>\n",
       "      <td>0.0</td>\n",
       "      <td>0.0</td>\n",
       "      <td>0.0</td>\n",
       "      <td>0.0</td>\n",
       "      <td>0.0</td>\n",
       "      <td>0.0</td>\n",
       "      <td>0.0</td>\n",
       "      <td>0.0</td>\n",
       "    </tr>\n",
       "    <tr>\n",
       "      <th>mean</th>\n",
       "      <td>NaN</td>\n",
       "      <td>NaN</td>\n",
       "      <td>NaN</td>\n",
       "      <td>NaN</td>\n",
       "      <td>NaN</td>\n",
       "      <td>NaN</td>\n",
       "      <td>NaN</td>\n",
       "      <td>NaN</td>\n",
       "      <td>NaN</td>\n",
       "      <td>NaN</td>\n",
       "    </tr>\n",
       "    <tr>\n",
       "      <th>std</th>\n",
       "      <td>NaN</td>\n",
       "      <td>NaN</td>\n",
       "      <td>NaN</td>\n",
       "      <td>NaN</td>\n",
       "      <td>NaN</td>\n",
       "      <td>NaN</td>\n",
       "      <td>NaN</td>\n",
       "      <td>NaN</td>\n",
       "      <td>NaN</td>\n",
       "      <td>NaN</td>\n",
       "    </tr>\n",
       "    <tr>\n",
       "      <th>min</th>\n",
       "      <td>NaN</td>\n",
       "      <td>NaN</td>\n",
       "      <td>NaN</td>\n",
       "      <td>NaN</td>\n",
       "      <td>NaN</td>\n",
       "      <td>NaN</td>\n",
       "      <td>NaN</td>\n",
       "      <td>NaN</td>\n",
       "      <td>NaN</td>\n",
       "      <td>NaN</td>\n",
       "    </tr>\n",
       "    <tr>\n",
       "      <th>25%</th>\n",
       "      <td>NaN</td>\n",
       "      <td>NaN</td>\n",
       "      <td>NaN</td>\n",
       "      <td>NaN</td>\n",
       "      <td>NaN</td>\n",
       "      <td>NaN</td>\n",
       "      <td>NaN</td>\n",
       "      <td>NaN</td>\n",
       "      <td>NaN</td>\n",
       "      <td>NaN</td>\n",
       "    </tr>\n",
       "    <tr>\n",
       "      <th>50%</th>\n",
       "      <td>NaN</td>\n",
       "      <td>NaN</td>\n",
       "      <td>NaN</td>\n",
       "      <td>NaN</td>\n",
       "      <td>NaN</td>\n",
       "      <td>NaN</td>\n",
       "      <td>NaN</td>\n",
       "      <td>NaN</td>\n",
       "      <td>NaN</td>\n",
       "      <td>NaN</td>\n",
       "    </tr>\n",
       "    <tr>\n",
       "      <th>75%</th>\n",
       "      <td>NaN</td>\n",
       "      <td>NaN</td>\n",
       "      <td>NaN</td>\n",
       "      <td>NaN</td>\n",
       "      <td>NaN</td>\n",
       "      <td>NaN</td>\n",
       "      <td>NaN</td>\n",
       "      <td>NaN</td>\n",
       "      <td>NaN</td>\n",
       "      <td>NaN</td>\n",
       "    </tr>\n",
       "    <tr>\n",
       "      <th>max</th>\n",
       "      <td>NaN</td>\n",
       "      <td>NaN</td>\n",
       "      <td>NaN</td>\n",
       "      <td>NaN</td>\n",
       "      <td>NaN</td>\n",
       "      <td>NaN</td>\n",
       "      <td>NaN</td>\n",
       "      <td>NaN</td>\n",
       "      <td>NaN</td>\n",
       "      <td>NaN</td>\n",
       "    </tr>\n",
       "  </tbody>\n",
       "</table>\n",
       "</div>"
      ]
     },
     "execution_count": 50,
     "metadata": {},
     "output_type": "execute_result"
    }
   ],
   "execution_count": 50
  },
  {
   "metadata": {},
   "cell_type": "markdown",
   "source": [
    "### Variable enum_defs_pct (10/10)\n",
    "Esta variable representa el porcentage de las definiciones de un programa que son clases. Como vimos en la descripción de la tabla esta varibale adopta valores en el rango 0.0078 - 0.019. Con un maximo de 0.013"
   ],
   "id": "e3d532376a1f0a16"
  },
  {
   "metadata": {
    "ExecuteTime": {
     "end_time": "2025-01-26T10:12:19.090042Z",
     "start_time": "2025-01-26T10:12:16.372859Z"
    }
   },
   "cell_type": "code",
   "source": "sns.displot(X['program__enum_defs_pct'], bins=[i / 100 for i in range(0, 101)])",
   "id": "345260364ebc3bf6",
   "outputs": [
    {
     "data": {
      "text/plain": [
       "<seaborn.axisgrid.FacetGrid at 0x229b2b2dc40>"
      ]
     },
     "execution_count": 51,
     "metadata": {},
     "output_type": "execute_result"
    },
    {
     "data": {
      "text/plain": [
       "<Figure size 500x500 with 1 Axes>"
      ],
      "image/png": "[encoded data removed]"
     },
     "metadata": {},
     "output_type": "display_data"
    }
   ],
   "execution_count": 51
  },
  {
   "metadata": {
    "ExecuteTime": {
     "end_time": "2025-01-26T10:12:19.789268Z",
     "start_time": "2025-01-26T10:12:19.761897Z"
    }
   },
   "cell_type": "code",
   "source": "print_outliers_for_df_column(X, 'program__enum_defs_pct')",
   "id": "974c59b1f655d0f3",
   "outputs": [
    {
     "name": "stdout",
     "output_type": "stream",
     "text": [
      "El coeficiente MC (Medcouple Coefficient) de balanceo es: 0.0\n",
      "Rango valores atípicos extremos (Tukey): [-0.006268922705203295,0.03315906086936593]\n",
      "Rango valores atípicos leves (Tukey): [0.002179930917918682,0.024710207246243954]\n",
      "Rango valores atípicos extremos (Fixed BoxPlot): [0.002179930917918682,0.024710207246243954]\n",
      "-3.0IQR: 0 instancias tienen un valor para program__enum_defs_pct inferior a -0.006268922705203295 (Q1-3*IQR) para program__enum_defs_pct. Representando un 0.0% del total de instancias.\n",
      "-1.5IQR: 0 instancias tienen un valor para program__enum_defs_pct inferior a 0.002179930917918682 (Q1-1.5*IQR) para program__enum_defs_pct. Representando un 0.0% del total de instancias.\n",
      "+1.5IQR: 0 instancias tienen un valor para program__enum_defs_pct superior a 0.024710207246243954 (Q3+1.5*IQR) para program__enum_defs_pct. Representando un 0.0% del total de instancias.\n",
      "+3.0IQR: 0 instancias tienen un valor para program__enum_defs_pct superior a 0.03315906086936593 (Q3-3*IQR) para program__enum_defs_pct. Representando un 0.0% del total de instancias.\n",
      "L: 0 instancias tienen un valor para program__enum_defs_pct inferior a 0.002179930917918682 para program__enum_defs_pct. Representando un 0.0% del total de instancias.\n",
      "U: 0 instancias tienen un valor para program__enum_defs_pct superior a 0.024710207246243954 para program__enum_defs_pct. Representando un 0.0% del total de instancias.\n"
     ]
    }
   ],
   "execution_count": 52
  },
  {
   "metadata": {},
   "cell_type": "markdown",
   "source": "Describimos los valores de las variables de la tabla, cuando el valor de la variable es mayor que 0.0247 (Con un MC de 0 usamos U)",
   "id": "2afb50e748f44e8d"
  },
  {
   "metadata": {
    "ExecuteTime": {
     "end_time": "2025-01-26T10:12:20.530322Z",
     "start_time": "2025-01-26T10:12:20.164112Z"
    }
   },
   "cell_type": "code",
   "source": "X[X['program__enum_defs_pct'] > 0.0247].describe(percentiles=[.25, .50, .75], include = ['object', 'float', 'bool', 'int'])",
   "id": "fd3d31b12264e45",
   "outputs": [
    {
     "data": {
      "text/plain": [
       "       program__has_sub_dirs_with_code  program__has_packages  \\\n",
       "count                              1.0                    1.0   \n",
       "mean                               1.0                    1.0   \n",
       "std                                NaN                    NaN   \n",
       "min                                1.0                    1.0   \n",
       "25%                                1.0                    1.0   \n",
       "50%                                1.0                    1.0   \n",
       "75%                                1.0                    1.0   \n",
       "max                                1.0                    1.0   \n",
       "\n",
       "       program__number_of_modules  program__number_of_sub_dirs_with_code  \\\n",
       "count                         1.0                                    1.0   \n",
       "mean                       3294.0                                   68.0   \n",
       "std                           NaN                                    NaN   \n",
       "min                        3294.0                                   68.0   \n",
       "25%                        3294.0                                   68.0   \n",
       "50%                        3294.0                                   68.0   \n",
       "75%                        3294.0                                   68.0   \n",
       "max                        3294.0                                   68.0   \n",
       "\n",
       "       program__number_of_packages  program__class_defs_pct  \\\n",
       "count                          1.0                 1.000000   \n",
       "mean                        1297.0                 0.368945   \n",
       "std                            NaN                      NaN   \n",
       "min                         1297.0                 0.368945   \n",
       "25%                         1297.0                 0.368945   \n",
       "50%                         1297.0                 0.368945   \n",
       "75%                         1297.0                 0.368945   \n",
       "max                         1297.0                 0.368945   \n",
       "\n",
       "       program__function_defs_pct  program__enum_defs_pct  \\\n",
       "count                    1.000000                1.000000   \n",
       "mean                     0.611977                0.019078   \n",
       "std                           NaN                     NaN   \n",
       "min                      0.611977                0.019078   \n",
       "25%                      0.611977                0.019078   \n",
       "50%                      0.611977                0.019078   \n",
       "75%                      0.611977                0.019078   \n",
       "max                      0.611977                0.019078   \n",
       "\n",
       "       program__has_code_root_package  program__average_defs_per_module  \n",
       "count                             1.0                          1.000000  \n",
       "mean                              0.0                          1.829994  \n",
       "std                               NaN                               NaN  \n",
       "min                               0.0                          1.829994  \n",
       "25%                               0.0                          1.829994  \n",
       "50%                               0.0                          1.829994  \n",
       "75%                               0.0                          1.829994  \n",
       "max                               0.0                          1.829994  "
      ],
      "text/html": [
       "<div>\n",
       "<style scoped>\n",
       "    .dataframe tbody tr th:only-of-type {\n",
       "        vertical-align: middle;\n",
       "    }\n",
       "\n",
       "    .dataframe tbody tr th {\n",
       "        vertical-align: top;\n",
       "    }\n",
       "\n",
       "    .dataframe thead th {\n",
       "        text-align: right;\n",
       "    }\n",
       "</style>\n",
       "<table border=\"1\" class=\"dataframe\">\n",
       "  <thead>\n",
       "    <tr style=\"text-align: right;\">\n",
       "      <th></th>\n",
       "      <th>program__has_sub_dirs_with_code</th>\n",
       "      <th>program__has_packages</th>\n",
       "      <th>program__number_of_modules</th>\n",
       "      <th>program__number_of_sub_dirs_with_code</th>\n",
       "      <th>program__number_of_packages</th>\n",
       "      <th>program__class_defs_pct</th>\n",
       "      <th>program__function_defs_pct</th>\n",
       "      <th>program__enum_defs_pct</th>\n",
       "      <th>program__has_code_root_package</th>\n",
       "      <th>program__average_defs_per_module</th>\n",
       "    </tr>\n",
       "  </thead>\n",
       "  <tbody>\n",
       "    <tr>\n",
       "      <th>count</th>\n",
       "      <td>1.0</td>\n",
       "      <td>1.0</td>\n",
       "      <td>1.0</td>\n",
       "      <td>1.0</td>\n",
       "      <td>1.0</td>\n",
       "      <td>1.000000</td>\n",
       "      <td>1.000000</td>\n",
       "      <td>1.000000</td>\n",
       "      <td>1.0</td>\n",
       "      <td>1.000000</td>\n",
       "    </tr>\n",
       "    <tr>\n",
       "      <th>mean</th>\n",
       "      <td>1.0</td>\n",
       "      <td>1.0</td>\n",
       "      <td>3294.0</td>\n",
       "      <td>68.0</td>\n",
       "      <td>1297.0</td>\n",
       "      <td>0.368945</td>\n",
       "      <td>0.611977</td>\n",
       "      <td>0.019078</td>\n",
       "      <td>0.0</td>\n",
       "      <td>1.829994</td>\n",
       "    </tr>\n",
       "    <tr>\n",
       "      <th>std</th>\n",
       "      <td>NaN</td>\n",
       "      <td>NaN</td>\n",
       "      <td>NaN</td>\n",
       "      <td>NaN</td>\n",
       "      <td>NaN</td>\n",
       "      <td>NaN</td>\n",
       "      <td>NaN</td>\n",
       "      <td>NaN</td>\n",
       "      <td>NaN</td>\n",
       "      <td>NaN</td>\n",
       "    </tr>\n",
       "    <tr>\n",
       "      <th>min</th>\n",
       "      <td>1.0</td>\n",
       "      <td>1.0</td>\n",
       "      <td>3294.0</td>\n",
       "      <td>68.0</td>\n",
       "      <td>1297.0</td>\n",
       "      <td>0.368945</td>\n",
       "      <td>0.611977</td>\n",
       "      <td>0.019078</td>\n",
       "      <td>0.0</td>\n",
       "      <td>1.829994</td>\n",
       "    </tr>\n",
       "    <tr>\n",
       "      <th>25%</th>\n",
       "      <td>1.0</td>\n",
       "      <td>1.0</td>\n",
       "      <td>3294.0</td>\n",
       "      <td>68.0</td>\n",
       "      <td>1297.0</td>\n",
       "      <td>0.368945</td>\n",
       "      <td>0.611977</td>\n",
       "      <td>0.019078</td>\n",
       "      <td>0.0</td>\n",
       "      <td>1.829994</td>\n",
       "    </tr>\n",
       "    <tr>\n",
       "      <th>50%</th>\n",
       "      <td>1.0</td>\n",
       "      <td>1.0</td>\n",
       "      <td>3294.0</td>\n",
       "      <td>68.0</td>\n",
       "      <td>1297.0</td>\n",
       "      <td>0.368945</td>\n",
       "      <td>0.611977</td>\n",
       "      <td>0.019078</td>\n",
       "      <td>0.0</td>\n",
       "      <td>1.829994</td>\n",
       "    </tr>\n",
       "    <tr>\n",
       "      <th>75%</th>\n",
       "      <td>1.0</td>\n",
       "      <td>1.0</td>\n",
       "      <td>3294.0</td>\n",
       "      <td>68.0</td>\n",
       "      <td>1297.0</td>\n",
       "      <td>0.368945</td>\n",
       "      <td>0.611977</td>\n",
       "      <td>0.019078</td>\n",
       "      <td>0.0</td>\n",
       "      <td>1.829994</td>\n",
       "    </tr>\n",
       "    <tr>\n",
       "      <th>max</th>\n",
       "      <td>1.0</td>\n",
       "      <td>1.0</td>\n",
       "      <td>3294.0</td>\n",
       "      <td>68.0</td>\n",
       "      <td>1297.0</td>\n",
       "      <td>0.368945</td>\n",
       "      <td>0.611977</td>\n",
       "      <td>0.019078</td>\n",
       "      <td>0.0</td>\n",
       "      <td>1.829994</td>\n",
       "    </tr>\n",
       "  </tbody>\n",
       "</table>\n",
       "</div>"
      ]
     },
     "execution_count": 53,
     "metadata": {},
     "output_type": "execute_result"
    }
   ],
   "execution_count": 53
  },
  {
   "metadata": {},
   "cell_type": "markdown",
   "source": [
    "### IMPORTANTE\n",
    "\n",
    "Hay 1 programa que tiene un porcentaje de definiciones de enumerados muy elevado, comparado con el resto."
   ],
   "id": "b228159dc52b79dc"
  },
  {
   "cell_type": "markdown",
   "id": "a63c33a981202cfe",
   "metadata": {
    "collapsed": false
   },
   "source": [
    "## Multivariate\n",
    "\n",
    "Isolation forest algorithm"
   ]
  },
  {
   "cell_type": "code",
   "id": "51448304c36d916e",
   "metadata": {
    "collapsed": false,
    "ExecuteTime": {
     "end_time": "2025-01-26T10:12:24.619567Z",
     "start_time": "2025-01-26T10:12:21.073670Z"
    }
   },
   "source": [
    "from sklearn.ensemble import  IsolationForest\n",
    "\n",
    "CONTAMINATION_FACTOR = 0.0012\n",
    "isof_model = IsolationForest(contamination=CONTAMINATION_FACTOR, random_state=0)\n",
    "isof_prediction = isof_model.fit_predict(X.values)\n",
    "mask = isof_prediction == -1\n",
    "full_table.loc[X.index[mask]]"
   ],
   "outputs": [
    {
     "data": {
      "text/plain": [
       "Empty DataFrame\n",
       "Columns: [program__program_id, program__has_sub_dirs_with_code, program__has_packages, program__number_of_modules, program__number_of_sub_dirs_with_code, program__number_of_packages, program__class_defs_pct, program__function_defs_pct, program__enum_defs_pct, program__has_code_root_package, program__average_defs_per_module, program__expertise_level]\n",
       "Index: []"
      ],
      "text/html": [
       "<div>\n",
       "<style scoped>\n",
       "    .dataframe tbody tr th:only-of-type {\n",
       "        vertical-align: middle;\n",
       "    }\n",
       "\n",
       "    .dataframe tbody tr th {\n",
       "        vertical-align: top;\n",
       "    }\n",
       "\n",
       "    .dataframe thead th {\n",
       "        text-align: right;\n",
       "    }\n",
       "</style>\n",
       "<table border=\"1\" class=\"dataframe\">\n",
       "  <thead>\n",
       "    <tr style=\"text-align: right;\">\n",
       "      <th></th>\n",
       "      <th>program__program_id</th>\n",
       "      <th>program__has_sub_dirs_with_code</th>\n",
       "      <th>program__has_packages</th>\n",
       "      <th>program__number_of_modules</th>\n",
       "      <th>program__number_of_sub_dirs_with_code</th>\n",
       "      <th>program__number_of_packages</th>\n",
       "      <th>program__class_defs_pct</th>\n",
       "      <th>program__function_defs_pct</th>\n",
       "      <th>program__enum_defs_pct</th>\n",
       "      <th>program__has_code_root_package</th>\n",
       "      <th>program__average_defs_per_module</th>\n",
       "      <th>program__expertise_level</th>\n",
       "    </tr>\n",
       "  </thead>\n",
       "  <tbody>\n",
       "  </tbody>\n",
       "</table>\n",
       "</div>"
      ]
     },
     "execution_count": 54,
     "metadata": {},
     "output_type": "execute_result"
    }
   ],
   "execution_count": 54
  },
  {
   "metadata": {},
   "cell_type": "markdown",
   "source": [
    "### IMPORTANTE\n",
    "Analizar el programa"
   ],
   "id": "fc481c479fdf13fd"
  },
  {
   "metadata": {
    "ExecuteTime": {
     "end_time": "2025-01-26T10:12:24.877963Z",
     "start_time": "2025-01-26T10:12:24.811187Z"
    }
   },
   "cell_type": "code",
   "source": [
    "# Outliers\n",
    "np.transpose(X[mask].describe(percentiles=[.25, .50, .75], include = ['object', 'float', 'bool', 'int']))"
   ],
   "id": "ba5f2e88b5a3bcae",
   "outputs": [
    {
     "data": {
      "text/plain": [
       "                                       count  mean  std  min  25%  50%  75%  \\\n",
       "program__has_sub_dirs_with_code          0.0   NaN  NaN  NaN  NaN  NaN  NaN   \n",
       "program__has_packages                    0.0   NaN  NaN  NaN  NaN  NaN  NaN   \n",
       "program__number_of_modules               0.0   NaN  NaN  NaN  NaN  NaN  NaN   \n",
       "program__number_of_sub_dirs_with_code    0.0   NaN  NaN  NaN  NaN  NaN  NaN   \n",
       "program__number_of_packages              0.0   NaN  NaN  NaN  NaN  NaN  NaN   \n",
       "program__class_defs_pct                  0.0   NaN  NaN  NaN  NaN  NaN  NaN   \n",
       "program__function_defs_pct               0.0   NaN  NaN  NaN  NaN  NaN  NaN   \n",
       "program__enum_defs_pct                   0.0   NaN  NaN  NaN  NaN  NaN  NaN   \n",
       "program__has_code_root_package           0.0   NaN  NaN  NaN  NaN  NaN  NaN   \n",
       "program__average_defs_per_module         0.0   NaN  NaN  NaN  NaN  NaN  NaN   \n",
       "\n",
       "                                       max  \n",
       "program__has_sub_dirs_with_code        NaN  \n",
       "program__has_packages                  NaN  \n",
       "program__number_of_modules             NaN  \n",
       "program__number_of_sub_dirs_with_code  NaN  \n",
       "program__number_of_packages            NaN  \n",
       "program__class_defs_pct                NaN  \n",
       "program__function_defs_pct             NaN  \n",
       "program__enum_defs_pct                 NaN  \n",
       "program__has_code_root_package         NaN  \n",
       "program__average_defs_per_module       NaN  "
      ],
      "text/html": [
       "<div>\n",
       "<style scoped>\n",
       "    .dataframe tbody tr th:only-of-type {\n",
       "        vertical-align: middle;\n",
       "    }\n",
       "\n",
       "    .dataframe tbody tr th {\n",
       "        vertical-align: top;\n",
       "    }\n",
       "\n",
       "    .dataframe thead th {\n",
       "        text-align: right;\n",
       "    }\n",
       "</style>\n",
       "<table border=\"1\" class=\"dataframe\">\n",
       "  <thead>\n",
       "    <tr style=\"text-align: right;\">\n",
       "      <th></th>\n",
       "      <th>count</th>\n",
       "      <th>mean</th>\n",
       "      <th>std</th>\n",
       "      <th>min</th>\n",
       "      <th>25%</th>\n",
       "      <th>50%</th>\n",
       "      <th>75%</th>\n",
       "      <th>max</th>\n",
       "    </tr>\n",
       "  </thead>\n",
       "  <tbody>\n",
       "    <tr>\n",
       "      <th>program__has_sub_dirs_with_code</th>\n",
       "      <td>0.0</td>\n",
       "      <td>NaN</td>\n",
       "      <td>NaN</td>\n",
       "      <td>NaN</td>\n",
       "      <td>NaN</td>\n",
       "      <td>NaN</td>\n",
       "      <td>NaN</td>\n",
       "      <td>NaN</td>\n",
       "    </tr>\n",
       "    <tr>\n",
       "      <th>program__has_packages</th>\n",
       "      <td>0.0</td>\n",
       "      <td>NaN</td>\n",
       "      <td>NaN</td>\n",
       "      <td>NaN</td>\n",
       "      <td>NaN</td>\n",
       "      <td>NaN</td>\n",
       "      <td>NaN</td>\n",
       "      <td>NaN</td>\n",
       "    </tr>\n",
       "    <tr>\n",
       "      <th>program__number_of_modules</th>\n",
       "      <td>0.0</td>\n",
       "      <td>NaN</td>\n",
       "      <td>NaN</td>\n",
       "      <td>NaN</td>\n",
       "      <td>NaN</td>\n",
       "      <td>NaN</td>\n",
       "      <td>NaN</td>\n",
       "      <td>NaN</td>\n",
       "    </tr>\n",
       "    <tr>\n",
       "      <th>program__number_of_sub_dirs_with_code</th>\n",
       "      <td>0.0</td>\n",
       "      <td>NaN</td>\n",
       "      <td>NaN</td>\n",
       "      <td>NaN</td>\n",
       "      <td>NaN</td>\n",
       "      <td>NaN</td>\n",
       "      <td>NaN</td>\n",
       "      <td>NaN</td>\n",
       "    </tr>\n",
       "    <tr>\n",
       "      <th>program__number_of_packages</th>\n",
       "      <td>0.0</td>\n",
       "      <td>NaN</td>\n",
       "      <td>NaN</td>\n",
       "      <td>NaN</td>\n",
       "      <td>NaN</td>\n",
       "      <td>NaN</td>\n",
       "      <td>NaN</td>\n",
       "      <td>NaN</td>\n",
       "    </tr>\n",
       "    <tr>\n",
       "      <th>program__class_defs_pct</th>\n",
       "      <td>0.0</td>\n",
       "      <td>NaN</td>\n",
       "      <td>NaN</td>\n",
       "      <td>NaN</td>\n",
       "      <td>NaN</td>\n",
       "      <td>NaN</td>\n",
       "      <td>NaN</td>\n",
       "      <td>NaN</td>\n",
       "    </tr>\n",
       "    <tr>\n",
       "      <th>program__function_defs_pct</th>\n",
       "      <td>0.0</td>\n",
       "      <td>NaN</td>\n",
       "      <td>NaN</td>\n",
       "      <td>NaN</td>\n",
       "      <td>NaN</td>\n",
       "      <td>NaN</td>\n",
       "      <td>NaN</td>\n",
       "      <td>NaN</td>\n",
       "    </tr>\n",
       "    <tr>\n",
       "      <th>program__enum_defs_pct</th>\n",
       "      <td>0.0</td>\n",
       "      <td>NaN</td>\n",
       "      <td>NaN</td>\n",
       "      <td>NaN</td>\n",
       "      <td>NaN</td>\n",
       "      <td>NaN</td>\n",
       "      <td>NaN</td>\n",
       "      <td>NaN</td>\n",
       "    </tr>\n",
       "    <tr>\n",
       "      <th>program__has_code_root_package</th>\n",
       "      <td>0.0</td>\n",
       "      <td>NaN</td>\n",
       "      <td>NaN</td>\n",
       "      <td>NaN</td>\n",
       "      <td>NaN</td>\n",
       "      <td>NaN</td>\n",
       "      <td>NaN</td>\n",
       "      <td>NaN</td>\n",
       "    </tr>\n",
       "    <tr>\n",
       "      <th>program__average_defs_per_module</th>\n",
       "      <td>0.0</td>\n",
       "      <td>NaN</td>\n",
       "      <td>NaN</td>\n",
       "      <td>NaN</td>\n",
       "      <td>NaN</td>\n",
       "      <td>NaN</td>\n",
       "      <td>NaN</td>\n",
       "      <td>NaN</td>\n",
       "    </tr>\n",
       "  </tbody>\n",
       "</table>\n",
       "</div>"
      ]
     },
     "execution_count": 55,
     "metadata": {},
     "output_type": "execute_result"
    }
   ],
   "execution_count": 55
  },
  {
   "metadata": {
    "ExecuteTime": {
     "end_time": "2025-01-26T10:12:26.646855Z",
     "start_time": "2025-01-26T10:12:26.466376Z"
    }
   },
   "cell_type": "code",
   "source": [
    "# Non-Outliers\n",
    "np.transpose(X[~mask].describe(percentiles=[.25, .50, .75], include = ['object', 'float', 'bool', 'int']))"
   ],
   "id": "78dbbe485e111323",
   "outputs": [
    {
     "data": {
      "text/plain": [
       "                                       count         mean          std  \\\n",
       "program__has_sub_dirs_with_code          2.0     1.000000     0.000000   \n",
       "program__has_packages                    2.0     1.000000     0.000000   \n",
       "program__number_of_modules               2.0  2012.000000  1813.021729   \n",
       "program__number_of_sub_dirs_with_code    2.0    58.000000    14.142136   \n",
       "program__number_of_packages              2.0   708.500000   832.264709   \n",
       "program__class_defs_pct                  2.0     0.371767     0.003991   \n",
       "program__function_defs_pct               2.0     0.614788     0.003975   \n",
       "program__enum_defs_pct                   2.0     0.013445     0.007966   \n",
       "program__has_code_root_package           2.0     0.500000     0.707107   \n",
       "program__average_defs_per_module         2.0     2.580750     1.061730   \n",
       "\n",
       "                                              min          25%          50%  \\\n",
       "program__has_sub_dirs_with_code          1.000000     1.000000     1.000000   \n",
       "program__has_packages                    1.000000     1.000000     1.000000   \n",
       "program__number_of_modules             730.000000  1371.000000  2012.000000   \n",
       "program__number_of_sub_dirs_with_code   48.000000    53.000000    58.000000   \n",
       "program__number_of_packages            120.000000   414.250000   708.500000   \n",
       "program__class_defs_pct                  0.368945     0.370356     0.371767   \n",
       "program__function_defs_pct               0.611977     0.613383     0.614788   \n",
       "program__enum_defs_pct                   0.007812     0.010629     0.013445   \n",
       "program__has_code_root_package           0.000000     0.250000     0.500000   \n",
       "program__average_defs_per_module         1.829994     2.205372     2.580750   \n",
       "\n",
       "                                               75%          max  \n",
       "program__has_sub_dirs_with_code           1.000000     1.000000  \n",
       "program__has_packages                     1.000000     1.000000  \n",
       "program__number_of_modules             2653.000000  3294.000000  \n",
       "program__number_of_sub_dirs_with_code    63.000000    68.000000  \n",
       "program__number_of_packages            1002.750000  1297.000000  \n",
       "program__class_defs_pct                   0.373178     0.374589  \n",
       "program__function_defs_pct                0.616193     0.617599  \n",
       "program__enum_defs_pct                    0.016261     0.019078  \n",
       "program__has_code_root_package            0.750000     1.000000  \n",
       "program__average_defs_per_module          2.956129     3.331507  "
      ],
      "text/html": [
       "<div>\n",
       "<style scoped>\n",
       "    .dataframe tbody tr th:only-of-type {\n",
       "        vertical-align: middle;\n",
       "    }\n",
       "\n",
       "    .dataframe tbody tr th {\n",
       "        vertical-align: top;\n",
       "    }\n",
       "\n",
       "    .dataframe thead th {\n",
       "        text-align: right;\n",
       "    }\n",
       "</style>\n",
       "<table border=\"1\" class=\"dataframe\">\n",
       "  <thead>\n",
       "    <tr style=\"text-align: right;\">\n",
       "      <th></th>\n",
       "      <th>count</th>\n",
       "      <th>mean</th>\n",
       "      <th>std</th>\n",
       "      <th>min</th>\n",
       "      <th>25%</th>\n",
       "      <th>50%</th>\n",
       "      <th>75%</th>\n",
       "      <th>max</th>\n",
       "    </tr>\n",
       "  </thead>\n",
       "  <tbody>\n",
       "    <tr>\n",
       "      <th>program__has_sub_dirs_with_code</th>\n",
       "      <td>2.0</td>\n",
       "      <td>1.000000</td>\n",
       "      <td>0.000000</td>\n",
       "      <td>1.000000</td>\n",
       "      <td>1.000000</td>\n",
       "      <td>1.000000</td>\n",
       "      <td>1.000000</td>\n",
       "      <td>1.000000</td>\n",
       "    </tr>\n",
       "    <tr>\n",
       "      <th>program__has_packages</th>\n",
       "      <td>2.0</td>\n",
       "      <td>1.000000</td>\n",
       "      <td>0.000000</td>\n",
       "      <td>1.000000</td>\n",
       "      <td>1.000000</td>\n",
       "      <td>1.000000</td>\n",
       "      <td>1.000000</td>\n",
       "      <td>1.000000</td>\n",
       "    </tr>\n",
       "    <tr>\n",
       "      <th>program__number_of_modules</th>\n",
       "      <td>2.0</td>\n",
       "      <td>2012.000000</td>\n",
       "      <td>1813.021729</td>\n",
       "      <td>730.000000</td>\n",
       "      <td>1371.000000</td>\n",
       "      <td>2012.000000</td>\n",
       "      <td>2653.000000</td>\n",
       "      <td>3294.000000</td>\n",
       "    </tr>\n",
       "    <tr>\n",
       "      <th>program__number_of_sub_dirs_with_code</th>\n",
       "      <td>2.0</td>\n",
       "      <td>58.000000</td>\n",
       "      <td>14.142136</td>\n",
       "      <td>48.000000</td>\n",
       "      <td>53.000000</td>\n",
       "      <td>58.000000</td>\n",
       "      <td>63.000000</td>\n",
       "      <td>68.000000</td>\n",
       "    </tr>\n",
       "    <tr>\n",
       "      <th>program__number_of_packages</th>\n",
       "      <td>2.0</td>\n",
       "      <td>708.500000</td>\n",
       "      <td>832.264709</td>\n",
       "      <td>120.000000</td>\n",
       "      <td>414.250000</td>\n",
       "      <td>708.500000</td>\n",
       "      <td>1002.750000</td>\n",
       "      <td>1297.000000</td>\n",
       "    </tr>\n",
       "    <tr>\n",
       "      <th>program__class_defs_pct</th>\n",
       "      <td>2.0</td>\n",
       "      <td>0.371767</td>\n",
       "      <td>0.003991</td>\n",
       "      <td>0.368945</td>\n",
       "      <td>0.370356</td>\n",
       "      <td>0.371767</td>\n",
       "      <td>0.373178</td>\n",
       "      <td>0.374589</td>\n",
       "    </tr>\n",
       "    <tr>\n",
       "      <th>program__function_defs_pct</th>\n",
       "      <td>2.0</td>\n",
       "      <td>0.614788</td>\n",
       "      <td>0.003975</td>\n",
       "      <td>0.611977</td>\n",
       "      <td>0.613383</td>\n",
       "      <td>0.614788</td>\n",
       "      <td>0.616193</td>\n",
       "      <td>0.617599</td>\n",
       "    </tr>\n",
       "    <tr>\n",
       "      <th>program__enum_defs_pct</th>\n",
       "      <td>2.0</td>\n",
       "      <td>0.013445</td>\n",
       "      <td>0.007966</td>\n",
       "      <td>0.007812</td>\n",
       "      <td>0.010629</td>\n",
       "      <td>0.013445</td>\n",
       "      <td>0.016261</td>\n",
       "      <td>0.019078</td>\n",
       "    </tr>\n",
       "    <tr>\n",
       "      <th>program__has_code_root_package</th>\n",
       "      <td>2.0</td>\n",
       "      <td>0.500000</td>\n",
       "      <td>0.707107</td>\n",
       "      <td>0.000000</td>\n",
       "      <td>0.250000</td>\n",
       "      <td>0.500000</td>\n",
       "      <td>0.750000</td>\n",
       "      <td>1.000000</td>\n",
       "    </tr>\n",
       "    <tr>\n",
       "      <th>program__average_defs_per_module</th>\n",
       "      <td>2.0</td>\n",
       "      <td>2.580750</td>\n",
       "      <td>1.061730</td>\n",
       "      <td>1.829994</td>\n",
       "      <td>2.205372</td>\n",
       "      <td>2.580750</td>\n",
       "      <td>2.956129</td>\n",
       "      <td>3.331507</td>\n",
       "    </tr>\n",
       "  </tbody>\n",
       "</table>\n",
       "</div>"
      ]
     },
     "execution_count": 56,
     "metadata": {},
     "output_type": "execute_result"
    }
   ],
   "execution_count": 56
  }
 ],
 "metadata": {
  "kernelspec": {
   "display_name": "Python 3 (ipykernel)",
   "language": "python",
   "name": "python3"
  },
  "language_info": {
   "codemirror_mode": {
    "name": "ipython",
    "version": 3
   },
   "file_extension": ".py",
   "mimetype": "text/x-python",
   "name": "python",
   "nbconvert_exporter": "python",
   "pygments_lexer": "ipython3",
   "version": "3.12.2"
  },
  "toc-autonumbering": true,
  "toc-showcode": false,
  "toc-showmarkdowntxt": false,
  "toc-showtags": false
 },
 "nbformat": 4,
 "nbformat_minor": 5
}
