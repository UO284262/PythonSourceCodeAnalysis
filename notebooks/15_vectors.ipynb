{
 "cells": [
  {
   "metadata": {},
   "cell_type": "markdown",
   "source": [
    "# Vectors\n",
    "\n",
    "Esta tabla contiene la información de las expresiones del tipo vector (Listas, diccionarios, etc). "
   ],
   "id": "148ae8871134f924"
  },
  {
   "metadata": {},
   "cell_type": "markdown",
   "source": "## 1 - Obtencion de datos",
   "id": "d3c24a719032807f"
  },
  {
   "metadata": {
    "ExecuteTime": {
     "end_time": "2025-01-17T10:33:40.248440Z",
     "start_time": "2025-01-17T10:33:31.912838Z"
    }
   },
   "cell_type": "code",
   "source": [
    "import matplotlib.pyplot as plt\n",
    "from notebooks_utils import *\n",
    "from domains import *\n",
    "\n",
    "full_table = get_data('vectors')\n",
    "\n",
    "# Table name, features and target.\n",
    "TABLE_NAME = 'vectors'\n",
    "TABLE_FEATURES = ['vector__category', 'vector__number_of_elements', 'vector__homogeneous', 'vector__expertise_level']\n",
    "TABLE_TARGET = 'vector__expertise_level'\n",
    "\n",
    "# Load features and target.\n",
    "X, y = full_table[TABLE_FEATURES], full_table[[TABLE_TARGET]].iloc[:,0]\n",
    "\n",
    "# Print information about the loaded table.\n",
    "print(f'Features shape: {X.shape}')\n",
    "print(f'Target shape: {y.shape}')\n",
    "\n",
    "print(f'As we can see the downloaded data contains a total of {X.shape[0]} instances. For each instance we have {X.shape[1]} attributes.')"
   ],
   "id": "9f0a949e91eb384b",
   "outputs": [
    {
     "name": "stdout",
     "output_type": "stream",
     "text": [
      "2025-01-17 11:33:37.995720 Loading data ...\n",
      "2025-01-17 11:33:40.212103 Data successfully load!!\n",
      "2025-01-17 11:33:40.212103 Creating data cache files ...\n",
      "2025-01-17 11:33:40.228873 Data cache files successfully created!!\n",
      "Features shape: (38873, 4)\n",
      "Target shape: (38873,)\n",
      "As we can see the downloaded data contains a total of 38873 instances. For each instance we have 4 attributes.\n"
     ]
    }
   ],
   "execution_count": 1
  },
  {
   "metadata": {},
   "cell_type": "markdown",
   "source": [
    "## 2 - Exploracion de datos\n",
    "\n",
    "Una vez tenemos nuestra tabla en un dataframe el siguiente paso es explorarla para ver qué tipo de información contiene."
   ],
   "id": "bcda7cb784bf0a1"
  },
  {
   "metadata": {
    "ExecuteTime": {
     "end_time": "2025-01-17T10:33:40.326830Z",
     "start_time": "2025-01-17T10:33:40.278559Z"
    }
   },
   "cell_type": "code",
   "source": [
    "print(X.info())\n",
    "print('=============')\n",
    "print(y.info())"
   ],
   "id": "2eb3d09993235bcb",
   "outputs": [
    {
     "name": "stdout",
     "output_type": "stream",
     "text": [
      "<class 'pandas.core.frame.DataFrame'>\n",
      "RangeIndex: 38873 entries, 0 to 38872\n",
      "Data columns (total 4 columns):\n",
      " #   Column                      Non-Null Count  Dtype \n",
      "---  ------                      --------------  ----- \n",
      " 0   vector__category            38873 non-null  object\n",
      " 1   vector__number_of_elements  38873 non-null  int64 \n",
      " 2   vector__homogeneous         38873 non-null  bool  \n",
      " 3   vector__expertise_level     38873 non-null  object\n",
      "dtypes: bool(1), int64(1), object(2)\n",
      "memory usage: 949.2+ KB\n",
      "None\n",
      "=============\n",
      "<class 'pandas.core.series.Series'>\n",
      "RangeIndex: 38873 entries, 0 to 38872\n",
      "Series name: vector__expertise_level\n",
      "Non-Null Count  Dtype \n",
      "--------------  ----- \n",
      "38873 non-null  object\n",
      "dtypes: object(1)\n",
      "memory usage: 303.8+ KB\n",
      "None\n"
     ]
    }
   ],
   "execution_count": 2
  },
  {
   "metadata": {},
   "cell_type": "markdown",
   "source": "Cómo podemos ver la tabla está compuesta por 1 variable numérica, 1 variables boleanas y 2 de tipo objeto.",
   "id": "24f7607501c2e574"
  },
  {
   "metadata": {},
   "cell_type": "markdown",
   "source": "### 2.1 - Equilibrado de clases",
   "id": "f6d062d35a16e21d"
  },
  {
   "metadata": {
    "ExecuteTime": {
     "end_time": "2025-01-17T10:33:52.791308Z",
     "start_time": "2025-01-17T10:33:52.757430Z"
    }
   },
   "cell_type": "code",
   "source": [
    "instances_for_class_low = len(full_table[full_table[TABLE_TARGET] == \"BEGINNER\"])\n",
    "instances_for_class_high = len(full_table[full_table[TABLE_TARGET] == \"PROFESSIONAL\"])\n",
    "\n",
    "print(f\"The dataset contains {instances_for_class_low/len(full_table)*100:.4}% instances for BEGINNER class and {instances_for_class_high/len(full_table)*100:.4}% for PROFESSIONAL class.\")"
   ],
   "id": "58277bda417384ef",
   "outputs": [
    {
     "name": "stdout",
     "output_type": "stream",
     "text": [
      "The dataset contains 29.4% instances for BEGINNER class and 70.6% for PROFESSIONAL class.\n"
     ]
    }
   ],
   "execution_count": 24
  },
  {
   "metadata": {},
   "cell_type": "markdown",
   "source": [
    "### 2.2 - Valores Nulos \n",
    "Miramos si alguna de las variables que contiene la tabla contiene algún valor que sea nulo."
   ],
   "id": "63d4e4ed1d8d2c6c"
  },
  {
   "metadata": {
    "ExecuteTime": {
     "end_time": "2025-01-17T10:33:41.040789Z",
     "start_time": "2025-01-17T10:33:40.996642Z"
    }
   },
   "cell_type": "code",
   "source": "X.isnull().sum()",
   "id": "6c991380e6e0413e",
   "outputs": [
    {
     "data": {
      "text/plain": [
       "vector__category              0\n",
       "vector__number_of_elements    0\n",
       "vector__homogeneous           0\n",
       "vector__expertise_level       0\n",
       "dtype: int64"
      ]
     },
     "execution_count": 4,
     "metadata": {},
     "output_type": "execute_result"
    }
   ],
   "execution_count": 4
  },
  {
   "metadata": {
    "ExecuteTime": {
     "end_time": "2025-01-17T10:33:41.239445Z",
     "start_time": "2025-01-17T10:33:41.202752Z"
    }
   },
   "cell_type": "code",
   "source": "print_empty_cols(X)",
   "id": "18b2dfadf1719a4b",
   "outputs": [
    {
     "name": "stdout",
     "output_type": "stream",
     "text": [
      "vector__category\n",
      "----------------\n",
      "0 instancias no tienen un valor para la columna vector__category\n",
      "\n",
      "\n",
      "vector__number_of_elements\n",
      "--------------------------\n",
      "0 instancias no tienen un valor para la columna vector__number_of_elements\n",
      "\n",
      "\n",
      "vector__homogeneous\n",
      "-------------------\n",
      "0 instancias no tienen un valor para la columna vector__homogeneous\n",
      "\n",
      "\n",
      "vector__expertise_level\n",
      "-----------------------\n",
      "0 instancias no tienen un valor para la columna vector__expertise_level\n",
      "\n",
      "\n"
     ]
    }
   ],
   "execution_count": 5
  },
  {
   "metadata": {},
   "cell_type": "markdown",
   "source": "### 2.3 - Describimos los valores de las variables de la tabla.",
   "id": "5bb94c0f81c08024"
  },
  {
   "metadata": {
    "ExecuteTime": {
     "end_time": "2025-01-17T10:33:41.489209Z",
     "start_time": "2025-01-17T10:33:41.411802Z"
    }
   },
   "cell_type": "code",
   "source": "np.transpose(X.describe(percentiles=[.25, .50, .75], include = ['object', 'float', 'bool', 'int']))",
   "id": "74bba302a29fbfd5",
   "outputs": [
    {
     "data": {
      "text/plain": [
       "                              count unique           top   freq      mean  \\\n",
       "vector__category              38873      4   ListLiteral  18666       NaN   \n",
       "vector__number_of_elements  38873.0    NaN           NaN    NaN  2.314872   \n",
       "vector__homogeneous           38873      2         False  20898       NaN   \n",
       "vector__expertise_level       38873      2  PROFESSIONAL  27443       NaN   \n",
       "\n",
       "                                 std  min  25%  50%  75%    max  \n",
       "vector__category                 NaN  NaN  NaN  NaN  NaN    NaN  \n",
       "vector__number_of_elements  3.329939  0.0  1.0  2.0  3.0  112.0  \n",
       "vector__homogeneous              NaN  NaN  NaN  NaN  NaN    NaN  \n",
       "vector__expertise_level          NaN  NaN  NaN  NaN  NaN    NaN  "
      ],
      "text/html": [
       "<div>\n",
       "<style scoped>\n",
       "    .dataframe tbody tr th:only-of-type {\n",
       "        vertical-align: middle;\n",
       "    }\n",
       "\n",
       "    .dataframe tbody tr th {\n",
       "        vertical-align: top;\n",
       "    }\n",
       "\n",
       "    .dataframe thead th {\n",
       "        text-align: right;\n",
       "    }\n",
       "</style>\n",
       "<table border=\"1\" class=\"dataframe\">\n",
       "  <thead>\n",
       "    <tr style=\"text-align: right;\">\n",
       "      <th></th>\n",
       "      <th>count</th>\n",
       "      <th>unique</th>\n",
       "      <th>top</th>\n",
       "      <th>freq</th>\n",
       "      <th>mean</th>\n",
       "      <th>std</th>\n",
       "      <th>min</th>\n",
       "      <th>25%</th>\n",
       "      <th>50%</th>\n",
       "      <th>75%</th>\n",
       "      <th>max</th>\n",
       "    </tr>\n",
       "  </thead>\n",
       "  <tbody>\n",
       "    <tr>\n",
       "      <th>vector__category</th>\n",
       "      <td>38873</td>\n",
       "      <td>4</td>\n",
       "      <td>ListLiteral</td>\n",
       "      <td>18666</td>\n",
       "      <td>NaN</td>\n",
       "      <td>NaN</td>\n",
       "      <td>NaN</td>\n",
       "      <td>NaN</td>\n",
       "      <td>NaN</td>\n",
       "      <td>NaN</td>\n",
       "      <td>NaN</td>\n",
       "    </tr>\n",
       "    <tr>\n",
       "      <th>vector__number_of_elements</th>\n",
       "      <td>38873.0</td>\n",
       "      <td>NaN</td>\n",
       "      <td>NaN</td>\n",
       "      <td>NaN</td>\n",
       "      <td>2.314872</td>\n",
       "      <td>3.329939</td>\n",
       "      <td>0.0</td>\n",
       "      <td>1.0</td>\n",
       "      <td>2.0</td>\n",
       "      <td>3.0</td>\n",
       "      <td>112.0</td>\n",
       "    </tr>\n",
       "    <tr>\n",
       "      <th>vector__homogeneous</th>\n",
       "      <td>38873</td>\n",
       "      <td>2</td>\n",
       "      <td>False</td>\n",
       "      <td>20898</td>\n",
       "      <td>NaN</td>\n",
       "      <td>NaN</td>\n",
       "      <td>NaN</td>\n",
       "      <td>NaN</td>\n",
       "      <td>NaN</td>\n",
       "      <td>NaN</td>\n",
       "      <td>NaN</td>\n",
       "    </tr>\n",
       "    <tr>\n",
       "      <th>vector__expertise_level</th>\n",
       "      <td>38873</td>\n",
       "      <td>2</td>\n",
       "      <td>PROFESSIONAL</td>\n",
       "      <td>27443</td>\n",
       "      <td>NaN</td>\n",
       "      <td>NaN</td>\n",
       "      <td>NaN</td>\n",
       "      <td>NaN</td>\n",
       "      <td>NaN</td>\n",
       "      <td>NaN</td>\n",
       "      <td>NaN</td>\n",
       "    </tr>\n",
       "  </tbody>\n",
       "</table>\n",
       "</div>"
      ]
     },
     "execution_count": 6,
     "metadata": {},
     "output_type": "execute_result"
    }
   ],
   "execution_count": 6
  },
  {
   "metadata": {},
   "cell_type": "markdown",
   "source": "Vamos a discretizar las variables numericas, agrupando conjuntos de valores en categorias, para hacer un análisis de los datos. Para cada variable es necesario ver la distribucion de lo valores para hacer los bins (categorias).",
   "id": "9af3eb59b924a596"
  },
  {
   "metadata": {
    "ExecuteTime": {
     "end_time": "2025-01-17T10:33:41.874344Z",
     "start_time": "2025-01-17T10:33:41.678513Z"
    }
   },
   "cell_type": "code",
   "source": [
    "# DISCRETIZATION\n",
    "X_copy = X.copy()\n",
    "\n",
    "discretized_columns = {\n",
    "    \"vector__number_of_elements\": [(0.0, 2.0), (2.0, 2.0), (2.0, 3.0), (3.0, inf)], # min: 0 ; max: 14519\n",
    "}\n",
    "\n",
    "discretize_columns(X_copy, discretized_columns)\n",
    "    \n",
    "# SINGLE FEATURE\n",
    "print(\"--- SINGLE FEATURE ---\")\n",
    "print(get_statistics(X_copy, ['vector__number_of_elements'], 10))\n",
    "print(get_statistics(full_table, ['vector__category'], 10))\n",
    "print(get_statistics(X_copy, ['vector__homogeneous'], 10))\n",
    "\n",
    "# 2 FEATURES\n",
    "print(\"--- TWO FEATURES ---\")\n",
    "#print(get_statistics(X_copy, ['variable__is_magic', 'variable__name_convention_Discard'], 10))\n",
    "#print(get_statistics(X_copy, ['functiondef__number_of_characters', 'functiondef__name_convention_Lower'], 10))\n",
    "\n",
    "# 3 FEATURES\n",
    "print(\"--- THREE FEATURES ---\")\n",
    "#print(get_statistics(X_copy, ['module__class_defs_pct', 'module__function_defs_pct', 'module__enum_defs_pct'], 10))"
   ],
   "id": "6baf20dd3e3ca759",
   "outputs": [
    {
     "name": "stdout",
     "output_type": "stream",
     "text": [
      "--- SINGLE FEATURE ---\n",
      "vector__number_of_elements  count  percentage\n",
      "                 [0.0_2.0)  15440   39.719085\n",
      "                 [2.0_2.0]  13631   35.065470\n",
      "                 [3.0_inf]   9802   25.215445\n",
      "\n",
      " vector__category  count  percentage\n",
      "      ListLiteral  18666   48.017904\n",
      "     TupleLiteral  11783   30.311527\n",
      "DictionaryLiteral   7918   20.368894\n",
      "       SetLiteral    506    1.301675\n",
      "\n",
      " vector__homogeneous  count  percentage\n",
      "               False  20898   53.759679\n",
      "                True  17975   46.240321\n",
      "\n",
      "--- TWO FEATURES ---\n",
      "--- THREE FEATURES ---\n"
     ]
    }
   ],
   "execution_count": 7
  },
  {
   "metadata": {
    "ExecuteTime": {
     "end_time": "2025-01-17T10:33:42.058382Z",
     "start_time": "2025-01-17T10:33:41.979036Z"
    }
   },
   "cell_type": "code",
   "source": [
    "def normalize_datatypes(X:pd.DataFrame, y:pd.Series) -> (pd.DataFrame, pd.Series, [str]):\n",
    "    X = pd.get_dummies(X)\n",
    "    X = X.astype('float32')\n",
    "    y = y.apply(lambda value: 0 if value == \"BEGINNER\" else 1) # EXPERT will be 1 and BEGINNER will be 0.\n",
    "    y = y.astype('float32')\n",
    "    columns_names = X.columns.tolist()\n",
    "    return X, y, columns_names\n",
    "\n",
    "X, y, TABLE_FEATURES = normalize_datatypes(X, y)\n",
    "# Print information about the loaded table\n",
    "print(f'Features shape: {X.shape}')\n",
    "print(f'Target shape: {y.shape}')"
   ],
   "id": "5084c89dcb377a92",
   "outputs": [
    {
     "name": "stdout",
     "output_type": "stream",
     "text": [
      "Features shape: (38873, 8)\n",
      "Target shape: (38873,)\n"
     ]
    }
   ],
   "execution_count": 8
  },
  {
   "metadata": {},
   "cell_type": "markdown",
   "source": "#### Muestra la matriz de correlación de Spearman entre las variables de la tabla.",
   "id": "ed8befe21328a079"
  },
  {
   "metadata": {
    "ExecuteTime": {
     "end_time": "2025-01-17T10:33:44.192471Z",
     "start_time": "2025-01-17T10:33:42.161367Z"
    }
   },
   "cell_type": "code",
   "source": "sns.heatmap(X.corr(method='spearman'), annot=True)",
   "id": "dea960d18d682104",
   "outputs": [
    {
     "data": {
      "text/plain": [
       "<Axes: >"
      ]
     },
     "execution_count": 9,
     "metadata": {},
     "output_type": "execute_result"
    },
    {
     "data": {
      "text/plain": [
       "<Figure size 640x480 with 2 Axes>"
      ],
      "image/png": "[encoded data removed]"
     },
     "metadata": {},
     "output_type": "display_data"
    }
   ],
   "execution_count": 9
  },
  {
   "metadata": {},
   "cell_type": "markdown",
   "source": [
    "## 3 - Detección de valores atípicos (outliers)\n",
    "## Univariate\n",
    "## Analisis detallado de variables\n",
    "Para cada una de las 3 variables (1 numerica, 1 booleanas y 1 categorica) se hara un analisis detallado"
   ],
   "id": "599c97eec7b7d283"
  },
  {
   "metadata": {},
   "cell_type": "markdown",
   "source": [
    "### Variable homogeneous (1/3)\n",
    "Esta variable es de tipo booleano y representa si todos los elementos de la lista son del mismo tipo."
   ],
   "id": "6abba739e46da213"
  },
  {
   "metadata": {
    "ExecuteTime": {
     "end_time": "2025-01-17T10:33:44.642587Z",
     "start_time": "2025-01-17T10:33:44.244733Z"
    }
   },
   "cell_type": "code",
   "source": [
    "plt.xticks([0, 1], ['False', 'True'])\n",
    "sns.histplot(X['vector__homogeneous'], discrete=True)"
   ],
   "id": "4ab35b2ef94a3379",
   "outputs": [
    {
     "data": {
      "text/plain": [
       "<Axes: xlabel='vector__homogeneous', ylabel='Count'>"
      ]
     },
     "execution_count": 10,
     "metadata": {},
     "output_type": "execute_result"
    },
    {
     "data": {
      "text/plain": [
       "<Figure size 640x480 with 1 Axes>"
      ],
      "image/png": "[encoded data removed]"
     },
     "metadata": {},
     "output_type": "display_data"
    }
   ],
   "execution_count": 10
  },
  {
   "metadata": {
    "ExecuteTime": {
     "end_time": "2025-01-17T10:33:44.722418Z",
     "start_time": "2025-01-17T10:33:44.696294Z"
    }
   },
   "cell_type": "code",
   "source": [
    "num_true_values = len(X[X['vector__homogeneous'] == True])\n",
    "num_false_values = len(X[X['vector__homogeneous'] == False])\n",
    "std = X['vector__homogeneous'].std()\n",
    "freq_true = len(X[X['vector__homogeneous'] == True]) / len(X['vector__homogeneous'])\n",
    "freq_false = len(X[X['vector__homogeneous'] == False]) / len(X['vector__homogeneous'])\n",
    "print(f'La variable homogeneous contiene {num_true_values} valores verdaderos y {num_false_values} valores falsos. Y, la desviación típica es de {std}')\n",
    "print(f'La frecuencia con la que programa puede tener la variable homogeneous a True es {freq_true}.')\n",
    "print(f'La frecuencia con la que programa puede tener la variable homogeneous a False es {freq_false}.')"
   ],
   "id": "f4a042829ae6fac5",
   "outputs": [
    {
     "name": "stdout",
     "output_type": "stream",
     "text": [
      "La variable homogeneous contiene 17975 valores verdaderos y 20898 valores falsos. Y, la desviación típica es de 0.498590886592865\n",
      "La frecuencia con la que programa puede tener la variable homogeneous a True es 0.4624032104545571.\n",
      "La frecuencia con la que programa puede tener la variable homogeneous a False es 0.5375967895454429.\n"
     ]
    }
   ],
   "execution_count": 11
  },
  {
   "metadata": {
    "ExecuteTime": {
     "end_time": "2025-01-17T10:33:44.829337Z",
     "start_time": "2025-01-17T10:33:44.813107Z"
    }
   },
   "cell_type": "code",
   "source": [
    "possible_values = [True, False]\n",
    "print_frequency_anal_for_cat_var(X, 'vector__homogeneous', possible_values)"
   ],
   "id": "c614dd60d0ab8e5b",
   "outputs": [
    {
     "name": "stdout",
     "output_type": "stream",
     "text": [
      "La variable vector__homogeneous contiene 2 valores distintos.\n",
      "El umbral de outlier es de 0.1%\n",
      "La variable vector__homogeneous toma el valor de 0.0 en un 53.76% de los items.\n",
      "La variable vector__homogeneous toma el valor de 1.0 en un 46.24% de los items.\n"
     ]
    }
   ],
   "execution_count": 12
  },
  {
   "metadata": {
    "ExecuteTime": {
     "end_time": "2025-01-17T10:33:45.002664Z",
     "start_time": "2025-01-17T10:33:44.929635Z"
    }
   },
   "cell_type": "code",
   "source": "X[X['vector__homogeneous'] == True].describe(percentiles=[.25, .50, .75], include = ['object', 'float', 'bool', 'int'])",
   "id": "6c33bdd1420008cf",
   "outputs": [
    {
     "data": {
      "text/plain": [
       "       vector__number_of_elements  vector__homogeneous  \\\n",
       "count                17975.000000              17975.0   \n",
       "mean                     2.014854                  1.0   \n",
       "std                      4.087824                  0.0   \n",
       "min                      0.000000                  1.0   \n",
       "25%                      0.000000                  1.0   \n",
       "50%                      1.000000                  1.0   \n",
       "75%                      2.000000                  1.0   \n",
       "max                     59.000000                  1.0   \n",
       "\n",
       "       vector__category_DictionaryLiteral  vector__category_ListLiteral  \\\n",
       "count                        17975.000000                  17975.000000   \n",
       "mean                             0.171238                      0.738081   \n",
       "std                              0.376727                      0.439691   \n",
       "min                              0.000000                      0.000000   \n",
       "25%                              0.000000                      0.000000   \n",
       "50%                              0.000000                      1.000000   \n",
       "75%                              0.000000                      1.000000   \n",
       "max                              1.000000                      1.000000   \n",
       "\n",
       "       vector__category_SetLiteral  vector__category_TupleLiteral  \\\n",
       "count                 17975.000000                   17975.000000   \n",
       "mean                      0.026036                       0.064645   \n",
       "std                       0.159247                       0.245906   \n",
       "min                       0.000000                       0.000000   \n",
       "25%                       0.000000                       0.000000   \n",
       "50%                       0.000000                       0.000000   \n",
       "75%                       0.000000                       0.000000   \n",
       "max                       1.000000                       1.000000   \n",
       "\n",
       "       vector__expertise_level_BEGINNER  vector__expertise_level_PROFESSIONAL  \n",
       "count                      17975.000000                          17975.000000  \n",
       "mean                           0.396718                              0.603282  \n",
       "std                            0.489230                              0.489230  \n",
       "min                            0.000000                              0.000000  \n",
       "25%                            0.000000                              0.000000  \n",
       "50%                            0.000000                              1.000000  \n",
       "75%                            1.000000                              1.000000  \n",
       "max                            1.000000                              1.000000  "
      ],
      "text/html": [
       "<div>\n",
       "<style scoped>\n",
       "    .dataframe tbody tr th:only-of-type {\n",
       "        vertical-align: middle;\n",
       "    }\n",
       "\n",
       "    .dataframe tbody tr th {\n",
       "        vertical-align: top;\n",
       "    }\n",
       "\n",
       "    .dataframe thead th {\n",
       "        text-align: right;\n",
       "    }\n",
       "</style>\n",
       "<table border=\"1\" class=\"dataframe\">\n",
       "  <thead>\n",
       "    <tr style=\"text-align: right;\">\n",
       "      <th></th>\n",
       "      <th>vector__number_of_elements</th>\n",
       "      <th>vector__homogeneous</th>\n",
       "      <th>vector__category_DictionaryLiteral</th>\n",
       "      <th>vector__category_ListLiteral</th>\n",
       "      <th>vector__category_SetLiteral</th>\n",
       "      <th>vector__category_TupleLiteral</th>\n",
       "      <th>vector__expertise_level_BEGINNER</th>\n",
       "      <th>vector__expertise_level_PROFESSIONAL</th>\n",
       "    </tr>\n",
       "  </thead>\n",
       "  <tbody>\n",
       "    <tr>\n",
       "      <th>count</th>\n",
       "      <td>17975.000000</td>\n",
       "      <td>17975.0</td>\n",
       "      <td>17975.000000</td>\n",
       "      <td>17975.000000</td>\n",
       "      <td>17975.000000</td>\n",
       "      <td>17975.000000</td>\n",
       "      <td>17975.000000</td>\n",
       "      <td>17975.000000</td>\n",
       "    </tr>\n",
       "    <tr>\n",
       "      <th>mean</th>\n",
       "      <td>2.014854</td>\n",
       "      <td>1.0</td>\n",
       "      <td>0.171238</td>\n",
       "      <td>0.738081</td>\n",
       "      <td>0.026036</td>\n",
       "      <td>0.064645</td>\n",
       "      <td>0.396718</td>\n",
       "      <td>0.603282</td>\n",
       "    </tr>\n",
       "    <tr>\n",
       "      <th>std</th>\n",
       "      <td>4.087824</td>\n",
       "      <td>0.0</td>\n",
       "      <td>0.376727</td>\n",
       "      <td>0.439691</td>\n",
       "      <td>0.159247</td>\n",
       "      <td>0.245906</td>\n",
       "      <td>0.489230</td>\n",
       "      <td>0.489230</td>\n",
       "    </tr>\n",
       "    <tr>\n",
       "      <th>min</th>\n",
       "      <td>0.000000</td>\n",
       "      <td>1.0</td>\n",
       "      <td>0.000000</td>\n",
       "      <td>0.000000</td>\n",
       "      <td>0.000000</td>\n",
       "      <td>0.000000</td>\n",
       "      <td>0.000000</td>\n",
       "      <td>0.000000</td>\n",
       "    </tr>\n",
       "    <tr>\n",
       "      <th>25%</th>\n",
       "      <td>0.000000</td>\n",
       "      <td>1.0</td>\n",
       "      <td>0.000000</td>\n",
       "      <td>0.000000</td>\n",
       "      <td>0.000000</td>\n",
       "      <td>0.000000</td>\n",
       "      <td>0.000000</td>\n",
       "      <td>0.000000</td>\n",
       "    </tr>\n",
       "    <tr>\n",
       "      <th>50%</th>\n",
       "      <td>1.000000</td>\n",
       "      <td>1.0</td>\n",
       "      <td>0.000000</td>\n",
       "      <td>1.000000</td>\n",
       "      <td>0.000000</td>\n",
       "      <td>0.000000</td>\n",
       "      <td>0.000000</td>\n",
       "      <td>1.000000</td>\n",
       "    </tr>\n",
       "    <tr>\n",
       "      <th>75%</th>\n",
       "      <td>2.000000</td>\n",
       "      <td>1.0</td>\n",
       "      <td>0.000000</td>\n",
       "      <td>1.000000</td>\n",
       "      <td>0.000000</td>\n",
       "      <td>0.000000</td>\n",
       "      <td>1.000000</td>\n",
       "      <td>1.000000</td>\n",
       "    </tr>\n",
       "    <tr>\n",
       "      <th>max</th>\n",
       "      <td>59.000000</td>\n",
       "      <td>1.0</td>\n",
       "      <td>1.000000</td>\n",
       "      <td>1.000000</td>\n",
       "      <td>1.000000</td>\n",
       "      <td>1.000000</td>\n",
       "      <td>1.000000</td>\n",
       "      <td>1.000000</td>\n",
       "    </tr>\n",
       "  </tbody>\n",
       "</table>\n",
       "</div>"
      ]
     },
     "execution_count": 13,
     "metadata": {},
     "output_type": "execute_result"
    }
   ],
   "execution_count": 13
  },
  {
   "metadata": {},
   "cell_type": "markdown",
   "source": [
    "### Variable number_of_elements (2/3)\n",
    "Esta variable representa el número de elementos en la lista. Como vimos en la descripción de la tabla esta varibale adopta valores en el rango 0 - 112. Con una media de 2.31."
   ],
   "id": "119fc307a9194a96"
  },
  {
   "metadata": {
    "ExecuteTime": {
     "end_time": "2025-01-17T10:33:45.915467Z",
     "start_time": "2025-01-17T10:33:45.214517Z"
    }
   },
   "cell_type": "code",
   "source": "sns.stripplot(X['vector__number_of_elements'])",
   "id": "5efd7fbb4f34563d",
   "outputs": [
    {
     "data": {
      "text/plain": [
       "<Axes: ylabel='vector__number_of_elements'>"
      ]
     },
     "execution_count": 14,
     "metadata": {},
     "output_type": "execute_result"
    },
    {
     "data": {
      "text/plain": [
       "<Figure size 640x480 with 1 Axes>"
      ],
      "image/png": "[encoded data removed]"
     },
     "metadata": {},
     "output_type": "display_data"
    }
   ],
   "execution_count": 14
  },
  {
   "metadata": {},
   "cell_type": "markdown",
   "source": [
    "### IMPORTANT\n",
    "El valor maximo esta muy alejado de los siguientes valores."
   ],
   "id": "4a85498a8720eff1"
  },
  {
   "metadata": {
    "ExecuteTime": {
     "end_time": "2025-01-17T10:33:47.920360Z",
     "start_time": "2025-01-17T10:33:46.014539Z"
    }
   },
   "cell_type": "code",
   "source": [
    "print_histogram(X, 'vector__number_of_elements', 'vector__expertise_level', bins=30, include_all=True, include_experts=False, include_beginners=False)\n",
    "print_histogram(X, 'vector__number_of_elements', 'vector__expertise_level', bins=30, include_all=False)"
   ],
   "id": "29e67e97dc7c3972",
   "outputs": [
    {
     "data": {
      "text/plain": [
       "<Figure size 1200x600 with 1 Axes>"
      ],
      "image/png": "[encoded data removed]"
     },
     "metadata": {},
     "output_type": "display_data"
    },
    {
     "data": {
      "text/plain": [
       "<Figure size 1200x600 with 1 Axes>"
      ],
      "image/png": "[encoded data removed]"
     },
     "metadata": {},
     "output_type": "display_data"
    }
   ],
   "execution_count": 15
  },
  {
   "metadata": {
    "ExecuteTime": {
     "end_time": "2025-01-17T10:33:47.970685Z",
     "start_time": "2025-01-17T10:33:47.928127Z"
    }
   },
   "cell_type": "code",
   "source": "print_outliers_for_df_column(X, 'vector__number_of_elements')",
   "id": "e5649a2923239004",
   "outputs": [
    {
     "name": "stdout",
     "output_type": "stream",
     "text": [
      "El coeficiente MC (Medcouple Coefficient) de balanceo es: 0.6387936640888416\n",
      "Rango valores atípicos extremos (Tukey): [-5.0,9.0]\n",
      "Rango valores atípicos leves (Tukey): [-2.0,6.0]\n",
      "Rango valores atípicos extremos (Fixed BoxPlot): [0.679273176607797,41.620643724417214]\n",
      "-3.0IQR: 0 instancias tienen un valor para vector__number_of_elements inferior a -5.0 (Q1-3*IQR) para vector__number_of_elements. Representando un 0.0% del total de instancias.\n",
      "-1.5IQR: 0 instancias tienen un valor para vector__number_of_elements inferior a -2.0 (Q1-1.5*IQR) para vector__number_of_elements. Representando un 0.0% del total de instancias.\n",
      "+1.5IQR: 2163 instancias tienen un valor para vector__number_of_elements superior a 6.0 (Q3+1.5*IQR) para vector__number_of_elements. Representando un 5.564% del total de instancias.\n",
      "+3.0IQR: 1104 instancias tienen un valor para vector__number_of_elements superior a 9.0 (Q3-3*IQR) para vector__number_of_elements. Representando un 2.84% del total de instancias.\n",
      "L: 8797 instancias tienen un valor para vector__number_of_elements inferior a 0.679273176607797 para vector__number_of_elements. Representando un 22.63% del total de instancias.\n",
      "U: 33 instancias tienen un valor para vector__number_of_elements superior a 41.620643724417214 para vector__number_of_elements. Representando un 0.08489% del total de instancias.\n"
     ]
    }
   ],
   "execution_count": 16
  },
  {
   "metadata": {},
   "cell_type": "markdown",
   "source": "Describimos los valores de las variables de la tabla, cuando el valor de la variable es mayor que 41,6 (Con un MC de 638 usamos U)",
   "id": "85c647f139354e3d"
  },
  {
   "metadata": {
    "ExecuteTime": {
     "end_time": "2025-01-17T10:35:26.375208Z",
     "start_time": "2025-01-17T10:35:21.702007Z"
    }
   },
   "cell_type": "code",
   "source": "X[X['vector__number_of_elements'] > 41,6].describe(percentiles=[.25, .50, .75], include = ['object', 'float', 'bool', 'int'])",
   "id": "5c5e0e6eb4cd173",
   "outputs": [
    {
     "ename": "InvalidIndexError",
     "evalue": "(0        False\n1        False\n2        False\n3        False\n4        False\n         ...  \n38868    False\n38869    False\n38870    False\n38871    False\n38872    False\nName: vector__number_of_elements, Length: 38873, dtype: bool, 6)",
     "output_type": "error",
     "traceback": [
      "\u001B[1;31m---------------------------------------------------------------------------\u001B[0m",
      "\u001B[1;31mTypeError\u001B[0m                                 Traceback (most recent call last)",
      "File \u001B[1;32m~\\AppData\\Local\\Programs\\Python\\Python312\\Lib\\site-packages\\pandas\\core\\indexes\\base.py:3805\u001B[0m, in \u001B[0;36mIndex.get_loc\u001B[1;34m(self, key)\u001B[0m\n\u001B[0;32m   3804\u001B[0m \u001B[38;5;28;01mtry\u001B[39;00m:\n\u001B[1;32m-> 3805\u001B[0m     \u001B[38;5;28;01mreturn\u001B[39;00m \u001B[38;5;28;43mself\u001B[39;49m\u001B[38;5;241;43m.\u001B[39;49m\u001B[43m_engine\u001B[49m\u001B[38;5;241;43m.\u001B[39;49m\u001B[43mget_loc\u001B[49m\u001B[43m(\u001B[49m\u001B[43mcasted_key\u001B[49m\u001B[43m)\u001B[49m\n\u001B[0;32m   3806\u001B[0m \u001B[38;5;28;01mexcept\u001B[39;00m \u001B[38;5;167;01mKeyError\u001B[39;00m \u001B[38;5;28;01mas\u001B[39;00m err:\n",
      "File \u001B[1;32mindex.pyx:167\u001B[0m, in \u001B[0;36mpandas._libs.index.IndexEngine.get_loc\u001B[1;34m()\u001B[0m\n",
      "File \u001B[1;32mindex.pyx:173\u001B[0m, in \u001B[0;36mpandas._libs.index.IndexEngine.get_loc\u001B[1;34m()\u001B[0m\n",
      "\u001B[1;31mTypeError\u001B[0m: '(0        False\n1        False\n2        False\n3        False\n4        False\n         ...  \n38868    False\n38869    False\n38870    False\n38871    False\n38872    False\nName: vector__number_of_elements, Length: 38873, dtype: bool, 6)' is an invalid key",
      "\nDuring handling of the above exception, another exception occurred:\n",
      "\u001B[1;31mInvalidIndexError\u001B[0m                         Traceback (most recent call last)",
      "Cell \u001B[1;32mIn[25], line 1\u001B[0m\n\u001B[1;32m----> 1\u001B[0m \u001B[43mX\u001B[49m\u001B[43m[\u001B[49m\u001B[43mX\u001B[49m\u001B[43m[\u001B[49m\u001B[38;5;124;43m'\u001B[39;49m\u001B[38;5;124;43mvector__number_of_elements\u001B[39;49m\u001B[38;5;124;43m'\u001B[39;49m\u001B[43m]\u001B[49m\u001B[43m \u001B[49m\u001B[38;5;241;43m>\u001B[39;49m\u001B[43m \u001B[49m\u001B[38;5;241;43m41\u001B[39;49m\u001B[43m,\u001B[49m\u001B[38;5;241;43m6\u001B[39;49m\u001B[43m]\u001B[49m\u001B[38;5;241m.\u001B[39mdescribe(percentiles\u001B[38;5;241m=\u001B[39m[\u001B[38;5;241m.25\u001B[39m, \u001B[38;5;241m.50\u001B[39m, \u001B[38;5;241m.75\u001B[39m], include \u001B[38;5;241m=\u001B[39m [\u001B[38;5;124m'\u001B[39m\u001B[38;5;124mobject\u001B[39m\u001B[38;5;124m'\u001B[39m, \u001B[38;5;124m'\u001B[39m\u001B[38;5;124mfloat\u001B[39m\u001B[38;5;124m'\u001B[39m, \u001B[38;5;124m'\u001B[39m\u001B[38;5;124mbool\u001B[39m\u001B[38;5;124m'\u001B[39m, \u001B[38;5;124m'\u001B[39m\u001B[38;5;124mint\u001B[39m\u001B[38;5;124m'\u001B[39m])\n",
      "File \u001B[1;32m~\\AppData\\Local\\Programs\\Python\\Python312\\Lib\\site-packages\\pandas\\core\\frame.py:4102\u001B[0m, in \u001B[0;36mDataFrame.__getitem__\u001B[1;34m(self, key)\u001B[0m\n\u001B[0;32m   4100\u001B[0m \u001B[38;5;28;01mif\u001B[39;00m \u001B[38;5;28mself\u001B[39m\u001B[38;5;241m.\u001B[39mcolumns\u001B[38;5;241m.\u001B[39mnlevels \u001B[38;5;241m>\u001B[39m \u001B[38;5;241m1\u001B[39m:\n\u001B[0;32m   4101\u001B[0m     \u001B[38;5;28;01mreturn\u001B[39;00m \u001B[38;5;28mself\u001B[39m\u001B[38;5;241m.\u001B[39m_getitem_multilevel(key)\n\u001B[1;32m-> 4102\u001B[0m indexer \u001B[38;5;241m=\u001B[39m \u001B[38;5;28;43mself\u001B[39;49m\u001B[38;5;241;43m.\u001B[39;49m\u001B[43mcolumns\u001B[49m\u001B[38;5;241;43m.\u001B[39;49m\u001B[43mget_loc\u001B[49m\u001B[43m(\u001B[49m\u001B[43mkey\u001B[49m\u001B[43m)\u001B[49m\n\u001B[0;32m   4103\u001B[0m \u001B[38;5;28;01mif\u001B[39;00m is_integer(indexer):\n\u001B[0;32m   4104\u001B[0m     indexer \u001B[38;5;241m=\u001B[39m [indexer]\n",
      "File \u001B[1;32m~\\AppData\\Local\\Programs\\Python\\Python312\\Lib\\site-packages\\pandas\\core\\indexes\\base.py:3817\u001B[0m, in \u001B[0;36mIndex.get_loc\u001B[1;34m(self, key)\u001B[0m\n\u001B[0;32m   3812\u001B[0m     \u001B[38;5;28;01mraise\u001B[39;00m \u001B[38;5;167;01mKeyError\u001B[39;00m(key) \u001B[38;5;28;01mfrom\u001B[39;00m \u001B[38;5;21;01merr\u001B[39;00m\n\u001B[0;32m   3813\u001B[0m \u001B[38;5;28;01mexcept\u001B[39;00m \u001B[38;5;167;01mTypeError\u001B[39;00m:\n\u001B[0;32m   3814\u001B[0m     \u001B[38;5;66;03m# If we have a listlike key, _check_indexing_error will raise\u001B[39;00m\n\u001B[0;32m   3815\u001B[0m     \u001B[38;5;66;03m#  InvalidIndexError. Otherwise we fall through and re-raise\u001B[39;00m\n\u001B[0;32m   3816\u001B[0m     \u001B[38;5;66;03m#  the TypeError.\u001B[39;00m\n\u001B[1;32m-> 3817\u001B[0m     \u001B[38;5;28;43mself\u001B[39;49m\u001B[38;5;241;43m.\u001B[39;49m\u001B[43m_check_indexing_error\u001B[49m\u001B[43m(\u001B[49m\u001B[43mkey\u001B[49m\u001B[43m)\u001B[49m\n\u001B[0;32m   3818\u001B[0m     \u001B[38;5;28;01mraise\u001B[39;00m\n",
      "File \u001B[1;32m~\\AppData\\Local\\Programs\\Python\\Python312\\Lib\\site-packages\\pandas\\core\\indexes\\base.py:6059\u001B[0m, in \u001B[0;36mIndex._check_indexing_error\u001B[1;34m(self, key)\u001B[0m\n\u001B[0;32m   6055\u001B[0m \u001B[38;5;28;01mdef\u001B[39;00m \u001B[38;5;21m_check_indexing_error\u001B[39m(\u001B[38;5;28mself\u001B[39m, key):\n\u001B[0;32m   6056\u001B[0m     \u001B[38;5;28;01mif\u001B[39;00m \u001B[38;5;129;01mnot\u001B[39;00m is_scalar(key):\n\u001B[0;32m   6057\u001B[0m         \u001B[38;5;66;03m# if key is not a scalar, directly raise an error (the code below\u001B[39;00m\n\u001B[0;32m   6058\u001B[0m         \u001B[38;5;66;03m# would convert to numpy arrays and raise later any way) - GH29926\u001B[39;00m\n\u001B[1;32m-> 6059\u001B[0m         \u001B[38;5;28;01mraise\u001B[39;00m InvalidIndexError(key)\n",
      "\u001B[1;31mInvalidIndexError\u001B[0m: (0        False\n1        False\n2        False\n3        False\n4        False\n         ...  \n38868    False\n38869    False\n38870    False\n38871    False\n38872    False\nName: vector__number_of_elements, Length: 38873, dtype: bool, 6)"
     ]
    }
   ],
   "execution_count": 25
  },
  {
   "metadata": {},
   "cell_type": "markdown",
   "source": [
    "### Variable category (3/3)\n",
    "Esta variable es de tipo categorica y representa el tipo del vector."
   ],
   "id": "2fd1b0439566c6f7"
  },
  {
   "metadata": {
    "ExecuteTime": {
     "end_time": "2025-01-17T10:33:48.780498Z",
     "start_time": "2025-01-17T10:33:48.329568Z"
    }
   },
   "cell_type": "code",
   "source": "print_categorical_histogram(full_table, 'vector__category',TABLE_TARGET, include_all=True, include_experts=False, include_beginners=False)",
   "id": "b504c449a7224091",
   "outputs": [
    {
     "data": {
      "text/plain": [
       "<Figure size 1200x600 with 1 Axes>"
      ],
      "image/png": "[encoded data removed]"
     },
     "metadata": {},
     "output_type": "display_data"
    }
   ],
   "execution_count": 18
  },
  {
   "metadata": {
    "ExecuteTime": {
     "end_time": "2025-01-17T10:33:48.949890Z",
     "start_time": "2025-01-17T10:33:48.894521Z"
    }
   },
   "cell_type": "code",
   "source": "print_frequency_anal_for_cat_var(full_table, 'vector__category')",
   "id": "33df6df9ad0487a2",
   "outputs": [
    {
     "name": "stdout",
     "output_type": "stream",
     "text": [
      "La variable vector__category contiene 4 valores distintos.\n",
      "El umbral de outlier es de 0.05%\n",
      "La variable vector__category toma el valor de ListLiteral en un 48.02% de los items.\n",
      "La variable vector__category toma el valor de TupleLiteral en un 30.31% de los items.\n",
      "La variable vector__category toma el valor de DictionaryLiteral en un 20.37% de los items.\n",
      "La variable vector__category toma el valor de SetLiteral en un 1.302% de los items.\n"
     ]
    }
   ],
   "execution_count": 19
  },
  {
   "metadata": {
    "ExecuteTime": {
     "end_time": "2025-01-17T10:33:49.081210Z",
     "start_time": "2025-01-17T10:33:49.060968Z"
    }
   },
   "cell_type": "code",
   "source": "print_values_usage_for_cat_var(full_table, 'vector__category', VECTOR_CATEGORY_VALUES)",
   "id": "7a3ef06749d0b76b",
   "outputs": [
    {
     "name": "stdout",
     "output_type": "stream",
     "text": [
      "La variable vector__category puede tomar 4 valores distintos\n",
      "\t4 (100.0%) valores utilizados\n",
      "\t0 (0.0%) valores NO utilizados\n"
     ]
    }
   ],
   "execution_count": 20
  },
  {
   "metadata": {},
   "cell_type": "markdown",
   "source": [
    "## Multivariate\n",
    "\n",
    "Isolation forest algorithm"
   ],
   "id": "67c983c9af4d63dd"
  },
  {
   "metadata": {
    "ExecuteTime": {
     "end_time": "2025-01-17T10:33:51.809604Z",
     "start_time": "2025-01-17T10:33:49.152270Z"
    }
   },
   "cell_type": "code",
   "source": [
    "from sklearn.ensemble import  IsolationForest\n",
    "\n",
    "CONTAMINATION_FACTOR = 0.0012\n",
    "isof_model = IsolationForest(contamination=CONTAMINATION_FACTOR, random_state=0)\n",
    "isof_prediction = isof_model.fit_predict(X.values)\n",
    "mask = isof_prediction == -1\n",
    "full_table.loc[X.index[mask]]"
   ],
   "id": "f07fdf0a99b29a0",
   "outputs": [
    {
     "data": {
      "text/plain": [
       "        vector__category  vector__number_of_elements  vector__homogeneous  \\\n",
       "6892        TupleLiteral                          27                False   \n",
       "10194         SetLiteral                           9                 True   \n",
       "10196         SetLiteral                           9                 True   \n",
       "10197         SetLiteral                           9                 True   \n",
       "13545  DictionaryLiteral                          46                False   \n",
       "13546         SetLiteral                           9                 True   \n",
       "14906         SetLiteral                          12                 True   \n",
       "19447  DictionaryLiteral                          46                False   \n",
       "19448         SetLiteral                           9                 True   \n",
       "20619         SetLiteral                           9                 True   \n",
       "20621         SetLiteral                           9                 True   \n",
       "20622         SetLiteral                           9                 True   \n",
       "27202  DictionaryLiteral                          51                False   \n",
       "27203         SetLiteral                           9                 True   \n",
       "28142       TupleLiteral                          25                 True   \n",
       "28497        ListLiteral                          52                False   \n",
       "28708        ListLiteral                          52                False   \n",
       "28794        ListLiteral                          52                False   \n",
       "29251       TupleLiteral                          22                 True   \n",
       "29613  DictionaryLiteral                          52                 True   \n",
       "29614  DictionaryLiteral                          48                 True   \n",
       "30082  DictionaryLiteral                          15                False   \n",
       "30090  DictionaryLiteral                          11                 True   \n",
       "30092  DictionaryLiteral                          15                False   \n",
       "30098  DictionaryLiteral                          33                False   \n",
       "30099         SetLiteral                          35                 True   \n",
       "30100  DictionaryLiteral                          18                 True   \n",
       "30311        ListLiteral                         112                False   \n",
       "30978  DictionaryLiteral                          12                 True   \n",
       "31263  DictionaryLiteral                          12                 True   \n",
       "31332  DictionaryLiteral                          12                 True   \n",
       "33284  DictionaryLiteral                          26                 True   \n",
       "33448  DictionaryLiteral                          14                False   \n",
       "33449  DictionaryLiteral                          16                False   \n",
       "34727        ListLiteral                          42                False   \n",
       "34825        ListLiteral                          42                False   \n",
       "35340  DictionaryLiteral                          24                 True   \n",
       "35341  DictionaryLiteral                          24                 True   \n",
       "36287  DictionaryLiteral                          12                 True   \n",
       "36400  DictionaryLiteral                          27                 True   \n",
       "36702  DictionaryLiteral                          24                False   \n",
       "36723  DictionaryLiteral                          13                 True   \n",
       "36724  DictionaryLiteral                          13                 True   \n",
       "\n",
       "      vector__expertise_level  \n",
       "6892             PROFESSIONAL  \n",
       "10194            PROFESSIONAL  \n",
       "10196            PROFESSIONAL  \n",
       "10197            PROFESSIONAL  \n",
       "13545            PROFESSIONAL  \n",
       "13546            PROFESSIONAL  \n",
       "14906            PROFESSIONAL  \n",
       "19447            PROFESSIONAL  \n",
       "19448            PROFESSIONAL  \n",
       "20619            PROFESSIONAL  \n",
       "20621            PROFESSIONAL  \n",
       "20622            PROFESSIONAL  \n",
       "27202            PROFESSIONAL  \n",
       "27203            PROFESSIONAL  \n",
       "28142                BEGINNER  \n",
       "28497                BEGINNER  \n",
       "28708                BEGINNER  \n",
       "28794                BEGINNER  \n",
       "29251                BEGINNER  \n",
       "29613                BEGINNER  \n",
       "29614                BEGINNER  \n",
       "30082                BEGINNER  \n",
       "30090                BEGINNER  \n",
       "30092                BEGINNER  \n",
       "30098                BEGINNER  \n",
       "30099                BEGINNER  \n",
       "30100                BEGINNER  \n",
       "30311                BEGINNER  \n",
       "30978                BEGINNER  \n",
       "31263                BEGINNER  \n",
       "31332                BEGINNER  \n",
       "33284                BEGINNER  \n",
       "33448                BEGINNER  \n",
       "33449                BEGINNER  \n",
       "34727                BEGINNER  \n",
       "34825                BEGINNER  \n",
       "35340                BEGINNER  \n",
       "35341                BEGINNER  \n",
       "36287                BEGINNER  \n",
       "36400                BEGINNER  \n",
       "36702                BEGINNER  \n",
       "36723                BEGINNER  \n",
       "36724                BEGINNER  "
      ],
      "text/html": [
       "<div>\n",
       "<style scoped>\n",
       "    .dataframe tbody tr th:only-of-type {\n",
       "        vertical-align: middle;\n",
       "    }\n",
       "\n",
       "    .dataframe tbody tr th {\n",
       "        vertical-align: top;\n",
       "    }\n",
       "\n",
       "    .dataframe thead th {\n",
       "        text-align: right;\n",
       "    }\n",
       "</style>\n",
       "<table border=\"1\" class=\"dataframe\">\n",
       "  <thead>\n",
       "    <tr style=\"text-align: right;\">\n",
       "      <th></th>\n",
       "      <th>vector__category</th>\n",
       "      <th>vector__number_of_elements</th>\n",
       "      <th>vector__homogeneous</th>\n",
       "      <th>vector__expertise_level</th>\n",
       "    </tr>\n",
       "  </thead>\n",
       "  <tbody>\n",
       "    <tr>\n",
       "      <th>6892</th>\n",
       "      <td>TupleLiteral</td>\n",
       "      <td>27</td>\n",
       "      <td>False</td>\n",
       "      <td>PROFESSIONAL</td>\n",
       "    </tr>\n",
       "    <tr>\n",
       "      <th>10194</th>\n",
       "      <td>SetLiteral</td>\n",
       "      <td>9</td>\n",
       "      <td>True</td>\n",
       "      <td>PROFESSIONAL</td>\n",
       "    </tr>\n",
       "    <tr>\n",
       "      <th>10196</th>\n",
       "      <td>SetLiteral</td>\n",
       "      <td>9</td>\n",
       "      <td>True</td>\n",
       "      <td>PROFESSIONAL</td>\n",
       "    </tr>\n",
       "    <tr>\n",
       "      <th>10197</th>\n",
       "      <td>SetLiteral</td>\n",
       "      <td>9</td>\n",
       "      <td>True</td>\n",
       "      <td>PROFESSIONAL</td>\n",
       "    </tr>\n",
       "    <tr>\n",
       "      <th>13545</th>\n",
       "      <td>DictionaryLiteral</td>\n",
       "      <td>46</td>\n",
       "      <td>False</td>\n",
       "      <td>PROFESSIONAL</td>\n",
       "    </tr>\n",
       "    <tr>\n",
       "      <th>13546</th>\n",
       "      <td>SetLiteral</td>\n",
       "      <td>9</td>\n",
       "      <td>True</td>\n",
       "      <td>PROFESSIONAL</td>\n",
       "    </tr>\n",
       "    <tr>\n",
       "      <th>14906</th>\n",
       "      <td>SetLiteral</td>\n",
       "      <td>12</td>\n",
       "      <td>True</td>\n",
       "      <td>PROFESSIONAL</td>\n",
       "    </tr>\n",
       "    <tr>\n",
       "      <th>19447</th>\n",
       "      <td>DictionaryLiteral</td>\n",
       "      <td>46</td>\n",
       "      <td>False</td>\n",
       "      <td>PROFESSIONAL</td>\n",
       "    </tr>\n",
       "    <tr>\n",
       "      <th>19448</th>\n",
       "      <td>SetLiteral</td>\n",
       "      <td>9</td>\n",
       "      <td>True</td>\n",
       "      <td>PROFESSIONAL</td>\n",
       "    </tr>\n",
       "    <tr>\n",
       "      <th>20619</th>\n",
       "      <td>SetLiteral</td>\n",
       "      <td>9</td>\n",
       "      <td>True</td>\n",
       "      <td>PROFESSIONAL</td>\n",
       "    </tr>\n",
       "    <tr>\n",
       "      <th>20621</th>\n",
       "      <td>SetLiteral</td>\n",
       "      <td>9</td>\n",
       "      <td>True</td>\n",
       "      <td>PROFESSIONAL</td>\n",
       "    </tr>\n",
       "    <tr>\n",
       "      <th>20622</th>\n",
       "      <td>SetLiteral</td>\n",
       "      <td>9</td>\n",
       "      <td>True</td>\n",
       "      <td>PROFESSIONAL</td>\n",
       "    </tr>\n",
       "    <tr>\n",
       "      <th>27202</th>\n",
       "      <td>DictionaryLiteral</td>\n",
       "      <td>51</td>\n",
       "      <td>False</td>\n",
       "      <td>PROFESSIONAL</td>\n",
       "    </tr>\n",
       "    <tr>\n",
       "      <th>27203</th>\n",
       "      <td>SetLiteral</td>\n",
       "      <td>9</td>\n",
       "      <td>True</td>\n",
       "      <td>PROFESSIONAL</td>\n",
       "    </tr>\n",
       "    <tr>\n",
       "      <th>28142</th>\n",
       "      <td>TupleLiteral</td>\n",
       "      <td>25</td>\n",
       "      <td>True</td>\n",
       "      <td>BEGINNER</td>\n",
       "    </tr>\n",
       "    <tr>\n",
       "      <th>28497</th>\n",
       "      <td>ListLiteral</td>\n",
       "      <td>52</td>\n",
       "      <td>False</td>\n",
       "      <td>BEGINNER</td>\n",
       "    </tr>\n",
       "    <tr>\n",
       "      <th>28708</th>\n",
       "      <td>ListLiteral</td>\n",
       "      <td>52</td>\n",
       "      <td>False</td>\n",
       "      <td>BEGINNER</td>\n",
       "    </tr>\n",
       "    <tr>\n",
       "      <th>28794</th>\n",
       "      <td>ListLiteral</td>\n",
       "      <td>52</td>\n",
       "      <td>False</td>\n",
       "      <td>BEGINNER</td>\n",
       "    </tr>\n",
       "    <tr>\n",
       "      <th>29251</th>\n",
       "      <td>TupleLiteral</td>\n",
       "      <td>22</td>\n",
       "      <td>True</td>\n",
       "      <td>BEGINNER</td>\n",
       "    </tr>\n",
       "    <tr>\n",
       "      <th>29613</th>\n",
       "      <td>DictionaryLiteral</td>\n",
       "      <td>52</td>\n",
       "      <td>True</td>\n",
       "      <td>BEGINNER</td>\n",
       "    </tr>\n",
       "    <tr>\n",
       "      <th>29614</th>\n",
       "      <td>DictionaryLiteral</td>\n",
       "      <td>48</td>\n",
       "      <td>True</td>\n",
       "      <td>BEGINNER</td>\n",
       "    </tr>\n",
       "    <tr>\n",
       "      <th>30082</th>\n",
       "      <td>DictionaryLiteral</td>\n",
       "      <td>15</td>\n",
       "      <td>False</td>\n",
       "      <td>BEGINNER</td>\n",
       "    </tr>\n",
       "    <tr>\n",
       "      <th>30090</th>\n",
       "      <td>DictionaryLiteral</td>\n",
       "      <td>11</td>\n",
       "      <td>True</td>\n",
       "      <td>BEGINNER</td>\n",
       "    </tr>\n",
       "    <tr>\n",
       "      <th>30092</th>\n",
       "      <td>DictionaryLiteral</td>\n",
       "      <td>15</td>\n",
       "      <td>False</td>\n",
       "      <td>BEGINNER</td>\n",
       "    </tr>\n",
       "    <tr>\n",
       "      <th>30098</th>\n",
       "      <td>DictionaryLiteral</td>\n",
       "      <td>33</td>\n",
       "      <td>False</td>\n",
       "      <td>BEGINNER</td>\n",
       "    </tr>\n",
       "    <tr>\n",
       "      <th>30099</th>\n",
       "      <td>SetLiteral</td>\n",
       "      <td>35</td>\n",
       "      <td>True</td>\n",
       "      <td>BEGINNER</td>\n",
       "    </tr>\n",
       "    <tr>\n",
       "      <th>30100</th>\n",
       "      <td>DictionaryLiteral</td>\n",
       "      <td>18</td>\n",
       "      <td>True</td>\n",
       "      <td>BEGINNER</td>\n",
       "    </tr>\n",
       "    <tr>\n",
       "      <th>30311</th>\n",
       "      <td>ListLiteral</td>\n",
       "      <td>112</td>\n",
       "      <td>False</td>\n",
       "      <td>BEGINNER</td>\n",
       "    </tr>\n",
       "    <tr>\n",
       "      <th>30978</th>\n",
       "      <td>DictionaryLiteral</td>\n",
       "      <td>12</td>\n",
       "      <td>True</td>\n",
       "      <td>BEGINNER</td>\n",
       "    </tr>\n",
       "    <tr>\n",
       "      <th>31263</th>\n",
       "      <td>DictionaryLiteral</td>\n",
       "      <td>12</td>\n",
       "      <td>True</td>\n",
       "      <td>BEGINNER</td>\n",
       "    </tr>\n",
       "    <tr>\n",
       "      <th>31332</th>\n",
       "      <td>DictionaryLiteral</td>\n",
       "      <td>12</td>\n",
       "      <td>True</td>\n",
       "      <td>BEGINNER</td>\n",
       "    </tr>\n",
       "    <tr>\n",
       "      <th>33284</th>\n",
       "      <td>DictionaryLiteral</td>\n",
       "      <td>26</td>\n",
       "      <td>True</td>\n",
       "      <td>BEGINNER</td>\n",
       "    </tr>\n",
       "    <tr>\n",
       "      <th>33448</th>\n",
       "      <td>DictionaryLiteral</td>\n",
       "      <td>14</td>\n",
       "      <td>False</td>\n",
       "      <td>BEGINNER</td>\n",
       "    </tr>\n",
       "    <tr>\n",
       "      <th>33449</th>\n",
       "      <td>DictionaryLiteral</td>\n",
       "      <td>16</td>\n",
       "      <td>False</td>\n",
       "      <td>BEGINNER</td>\n",
       "    </tr>\n",
       "    <tr>\n",
       "      <th>34727</th>\n",
       "      <td>ListLiteral</td>\n",
       "      <td>42</td>\n",
       "      <td>False</td>\n",
       "      <td>BEGINNER</td>\n",
       "    </tr>\n",
       "    <tr>\n",
       "      <th>34825</th>\n",
       "      <td>ListLiteral</td>\n",
       "      <td>42</td>\n",
       "      <td>False</td>\n",
       "      <td>BEGINNER</td>\n",
       "    </tr>\n",
       "    <tr>\n",
       "      <th>35340</th>\n",
       "      <td>DictionaryLiteral</td>\n",
       "      <td>24</td>\n",
       "      <td>True</td>\n",
       "      <td>BEGINNER</td>\n",
       "    </tr>\n",
       "    <tr>\n",
       "      <th>35341</th>\n",
       "      <td>DictionaryLiteral</td>\n",
       "      <td>24</td>\n",
       "      <td>True</td>\n",
       "      <td>BEGINNER</td>\n",
       "    </tr>\n",
       "    <tr>\n",
       "      <th>36287</th>\n",
       "      <td>DictionaryLiteral</td>\n",
       "      <td>12</td>\n",
       "      <td>True</td>\n",
       "      <td>BEGINNER</td>\n",
       "    </tr>\n",
       "    <tr>\n",
       "      <th>36400</th>\n",
       "      <td>DictionaryLiteral</td>\n",
       "      <td>27</td>\n",
       "      <td>True</td>\n",
       "      <td>BEGINNER</td>\n",
       "    </tr>\n",
       "    <tr>\n",
       "      <th>36702</th>\n",
       "      <td>DictionaryLiteral</td>\n",
       "      <td>24</td>\n",
       "      <td>False</td>\n",
       "      <td>BEGINNER</td>\n",
       "    </tr>\n",
       "    <tr>\n",
       "      <th>36723</th>\n",
       "      <td>DictionaryLiteral</td>\n",
       "      <td>13</td>\n",
       "      <td>True</td>\n",
       "      <td>BEGINNER</td>\n",
       "    </tr>\n",
       "    <tr>\n",
       "      <th>36724</th>\n",
       "      <td>DictionaryLiteral</td>\n",
       "      <td>13</td>\n",
       "      <td>True</td>\n",
       "      <td>BEGINNER</td>\n",
       "    </tr>\n",
       "  </tbody>\n",
       "</table>\n",
       "</div>"
      ]
     },
     "execution_count": 21,
     "metadata": {},
     "output_type": "execute_result"
    }
   ],
   "execution_count": 21
  },
  {
   "metadata": {},
   "cell_type": "markdown",
   "source": [
    "### IMPORTANTE\n",
    "Revisar los outliers detectados."
   ],
   "id": "e39c0668bd6ba72d"
  },
  {
   "metadata": {
    "ExecuteTime": {
     "end_time": "2025-01-17T10:33:52.097639Z",
     "start_time": "2025-01-17T10:33:51.988053Z"
    }
   },
   "cell_type": "code",
   "source": [
    "# Outliers\n",
    "np.transpose(X[mask].describe(percentiles=[.25, .50, .75], include = ['object', 'float', 'bool', 'int']))"
   ],
   "id": "57e32414f9c7d028",
   "outputs": [
    {
     "data": {
      "text/plain": [
       "                                      count       mean        std  min   25%  \\\n",
       "vector__number_of_elements             43.0  26.000000  20.339968  9.0  12.0   \n",
       "vector__homogeneous                    43.0   0.627907   0.489083  0.0   0.0   \n",
       "vector__category_DictionaryLiteral     43.0   0.534884   0.504685  0.0   0.0   \n",
       "vector__category_ListLiteral           43.0   0.139535   0.350605  0.0   0.0   \n",
       "vector__category_SetLiteral            43.0   0.255814   0.441481  0.0   0.0   \n",
       "vector__category_TupleLiteral          43.0   0.069767   0.257770  0.0   0.0   \n",
       "vector__expertise_level_BEGINNER       43.0   0.674419   0.474137  0.0   0.0   \n",
       "vector__expertise_level_PROFESSIONAL   43.0   0.325581   0.474137  0.0   0.0   \n",
       "\n",
       "                                       50%   75%    max  \n",
       "vector__number_of_elements            18.0  38.5  112.0  \n",
       "vector__homogeneous                    1.0   1.0    1.0  \n",
       "vector__category_DictionaryLiteral     1.0   1.0    1.0  \n",
       "vector__category_ListLiteral           0.0   0.0    1.0  \n",
       "vector__category_SetLiteral            0.0   0.5    1.0  \n",
       "vector__category_TupleLiteral          0.0   0.0    1.0  \n",
       "vector__expertise_level_BEGINNER       1.0   1.0    1.0  \n",
       "vector__expertise_level_PROFESSIONAL   0.0   1.0    1.0  "
      ],
      "text/html": [
       "<div>\n",
       "<style scoped>\n",
       "    .dataframe tbody tr th:only-of-type {\n",
       "        vertical-align: middle;\n",
       "    }\n",
       "\n",
       "    .dataframe tbody tr th {\n",
       "        vertical-align: top;\n",
       "    }\n",
       "\n",
       "    .dataframe thead th {\n",
       "        text-align: right;\n",
       "    }\n",
       "</style>\n",
       "<table border=\"1\" class=\"dataframe\">\n",
       "  <thead>\n",
       "    <tr style=\"text-align: right;\">\n",
       "      <th></th>\n",
       "      <th>count</th>\n",
       "      <th>mean</th>\n",
       "      <th>std</th>\n",
       "      <th>min</th>\n",
       "      <th>25%</th>\n",
       "      <th>50%</th>\n",
       "      <th>75%</th>\n",
       "      <th>max</th>\n",
       "    </tr>\n",
       "  </thead>\n",
       "  <tbody>\n",
       "    <tr>\n",
       "      <th>vector__number_of_elements</th>\n",
       "      <td>43.0</td>\n",
       "      <td>26.000000</td>\n",
       "      <td>20.339968</td>\n",
       "      <td>9.0</td>\n",
       "      <td>12.0</td>\n",
       "      <td>18.0</td>\n",
       "      <td>38.5</td>\n",
       "      <td>112.0</td>\n",
       "    </tr>\n",
       "    <tr>\n",
       "      <th>vector__homogeneous</th>\n",
       "      <td>43.0</td>\n",
       "      <td>0.627907</td>\n",
       "      <td>0.489083</td>\n",
       "      <td>0.0</td>\n",
       "      <td>0.0</td>\n",
       "      <td>1.0</td>\n",
       "      <td>1.0</td>\n",
       "      <td>1.0</td>\n",
       "    </tr>\n",
       "    <tr>\n",
       "      <th>vector__category_DictionaryLiteral</th>\n",
       "      <td>43.0</td>\n",
       "      <td>0.534884</td>\n",
       "      <td>0.504685</td>\n",
       "      <td>0.0</td>\n",
       "      <td>0.0</td>\n",
       "      <td>1.0</td>\n",
       "      <td>1.0</td>\n",
       "      <td>1.0</td>\n",
       "    </tr>\n",
       "    <tr>\n",
       "      <th>vector__category_ListLiteral</th>\n",
       "      <td>43.0</td>\n",
       "      <td>0.139535</td>\n",
       "      <td>0.350605</td>\n",
       "      <td>0.0</td>\n",
       "      <td>0.0</td>\n",
       "      <td>0.0</td>\n",
       "      <td>0.0</td>\n",
       "      <td>1.0</td>\n",
       "    </tr>\n",
       "    <tr>\n",
       "      <th>vector__category_SetLiteral</th>\n",
       "      <td>43.0</td>\n",
       "      <td>0.255814</td>\n",
       "      <td>0.441481</td>\n",
       "      <td>0.0</td>\n",
       "      <td>0.0</td>\n",
       "      <td>0.0</td>\n",
       "      <td>0.5</td>\n",
       "      <td>1.0</td>\n",
       "    </tr>\n",
       "    <tr>\n",
       "      <th>vector__category_TupleLiteral</th>\n",
       "      <td>43.0</td>\n",
       "      <td>0.069767</td>\n",
       "      <td>0.257770</td>\n",
       "      <td>0.0</td>\n",
       "      <td>0.0</td>\n",
       "      <td>0.0</td>\n",
       "      <td>0.0</td>\n",
       "      <td>1.0</td>\n",
       "    </tr>\n",
       "    <tr>\n",
       "      <th>vector__expertise_level_BEGINNER</th>\n",
       "      <td>43.0</td>\n",
       "      <td>0.674419</td>\n",
       "      <td>0.474137</td>\n",
       "      <td>0.0</td>\n",
       "      <td>0.0</td>\n",
       "      <td>1.0</td>\n",
       "      <td>1.0</td>\n",
       "      <td>1.0</td>\n",
       "    </tr>\n",
       "    <tr>\n",
       "      <th>vector__expertise_level_PROFESSIONAL</th>\n",
       "      <td>43.0</td>\n",
       "      <td>0.325581</td>\n",
       "      <td>0.474137</td>\n",
       "      <td>0.0</td>\n",
       "      <td>0.0</td>\n",
       "      <td>0.0</td>\n",
       "      <td>1.0</td>\n",
       "      <td>1.0</td>\n",
       "    </tr>\n",
       "  </tbody>\n",
       "</table>\n",
       "</div>"
      ]
     },
     "execution_count": 22,
     "metadata": {},
     "output_type": "execute_result"
    }
   ],
   "execution_count": 22
  },
  {
   "metadata": {
    "ExecuteTime": {
     "end_time": "2025-01-17T10:33:52.329941Z",
     "start_time": "2025-01-17T10:33:52.244333Z"
    }
   },
   "cell_type": "code",
   "source": [
    "# Non-Outliers\n",
    "np.transpose(X[~mask].describe(percentiles=[.25, .50, .75], include = ['object', 'float', 'bool', 'int']))"
   ],
   "id": "6a2118619cc1e3cb",
   "outputs": [
    {
     "data": {
      "text/plain": [
       "                                        count      mean       std  min  25%  \\\n",
       "vector__number_of_elements            38830.0  2.288643  3.167229  0.0  1.0   \n",
       "vector__homogeneous                   38830.0  0.462220  0.498577  0.0  0.0   \n",
       "vector__category_DictionaryLiteral    38830.0  0.203322  0.402475  0.0  0.0   \n",
       "vector__category_ListLiteral          38830.0  0.480556  0.499628  0.0  0.0   \n",
       "vector__category_SetLiteral           38830.0  0.012748  0.112186  0.0  0.0   \n",
       "vector__category_TupleLiteral         38830.0  0.303374  0.459721  0.0  0.0   \n",
       "vector__expertise_level_BEGINNER      38830.0  0.293613  0.455423  0.0  0.0   \n",
       "vector__expertise_level_PROFESSIONAL  38830.0  0.706387  0.455423  0.0  0.0   \n",
       "\n",
       "                                      50%  75%   max  \n",
       "vector__number_of_elements            2.0  3.0  59.0  \n",
       "vector__homogeneous                   0.0  1.0   1.0  \n",
       "vector__category_DictionaryLiteral    0.0  0.0   1.0  \n",
       "vector__category_ListLiteral          0.0  1.0   1.0  \n",
       "vector__category_SetLiteral           0.0  0.0   1.0  \n",
       "vector__category_TupleLiteral         0.0  1.0   1.0  \n",
       "vector__expertise_level_BEGINNER      0.0  1.0   1.0  \n",
       "vector__expertise_level_PROFESSIONAL  1.0  1.0   1.0  "
      ],
      "text/html": [
       "<div>\n",
       "<style scoped>\n",
       "    .dataframe tbody tr th:only-of-type {\n",
       "        vertical-align: middle;\n",
       "    }\n",
       "\n",
       "    .dataframe tbody tr th {\n",
       "        vertical-align: top;\n",
       "    }\n",
       "\n",
       "    .dataframe thead th {\n",
       "        text-align: right;\n",
       "    }\n",
       "</style>\n",
       "<table border=\"1\" class=\"dataframe\">\n",
       "  <thead>\n",
       "    <tr style=\"text-align: right;\">\n",
       "      <th></th>\n",
       "      <th>count</th>\n",
       "      <th>mean</th>\n",
       "      <th>std</th>\n",
       "      <th>min</th>\n",
       "      <th>25%</th>\n",
       "      <th>50%</th>\n",
       "      <th>75%</th>\n",
       "      <th>max</th>\n",
       "    </tr>\n",
       "  </thead>\n",
       "  <tbody>\n",
       "    <tr>\n",
       "      <th>vector__number_of_elements</th>\n",
       "      <td>38830.0</td>\n",
       "      <td>2.288643</td>\n",
       "      <td>3.167229</td>\n",
       "      <td>0.0</td>\n",
       "      <td>1.0</td>\n",
       "      <td>2.0</td>\n",
       "      <td>3.0</td>\n",
       "      <td>59.0</td>\n",
       "    </tr>\n",
       "    <tr>\n",
       "      <th>vector__homogeneous</th>\n",
       "      <td>38830.0</td>\n",
       "      <td>0.462220</td>\n",
       "      <td>0.498577</td>\n",
       "      <td>0.0</td>\n",
       "      <td>0.0</td>\n",
       "      <td>0.0</td>\n",
       "      <td>1.0</td>\n",
       "      <td>1.0</td>\n",
       "    </tr>\n",
       "    <tr>\n",
       "      <th>vector__category_DictionaryLiteral</th>\n",
       "      <td>38830.0</td>\n",
       "      <td>0.203322</td>\n",
       "      <td>0.402475</td>\n",
       "      <td>0.0</td>\n",
       "      <td>0.0</td>\n",
       "      <td>0.0</td>\n",
       "      <td>0.0</td>\n",
       "      <td>1.0</td>\n",
       "    </tr>\n",
       "    <tr>\n",
       "      <th>vector__category_ListLiteral</th>\n",
       "      <td>38830.0</td>\n",
       "      <td>0.480556</td>\n",
       "      <td>0.499628</td>\n",
       "      <td>0.0</td>\n",
       "      <td>0.0</td>\n",
       "      <td>0.0</td>\n",
       "      <td>1.0</td>\n",
       "      <td>1.0</td>\n",
       "    </tr>\n",
       "    <tr>\n",
       "      <th>vector__category_SetLiteral</th>\n",
       "      <td>38830.0</td>\n",
       "      <td>0.012748</td>\n",
       "      <td>0.112186</td>\n",
       "      <td>0.0</td>\n",
       "      <td>0.0</td>\n",
       "      <td>0.0</td>\n",
       "      <td>0.0</td>\n",
       "      <td>1.0</td>\n",
       "    </tr>\n",
       "    <tr>\n",
       "      <th>vector__category_TupleLiteral</th>\n",
       "      <td>38830.0</td>\n",
       "      <td>0.303374</td>\n",
       "      <td>0.459721</td>\n",
       "      <td>0.0</td>\n",
       "      <td>0.0</td>\n",
       "      <td>0.0</td>\n",
       "      <td>1.0</td>\n",
       "      <td>1.0</td>\n",
       "    </tr>\n",
       "    <tr>\n",
       "      <th>vector__expertise_level_BEGINNER</th>\n",
       "      <td>38830.0</td>\n",
       "      <td>0.293613</td>\n",
       "      <td>0.455423</td>\n",
       "      <td>0.0</td>\n",
       "      <td>0.0</td>\n",
       "      <td>0.0</td>\n",
       "      <td>1.0</td>\n",
       "      <td>1.0</td>\n",
       "    </tr>\n",
       "    <tr>\n",
       "      <th>vector__expertise_level_PROFESSIONAL</th>\n",
       "      <td>38830.0</td>\n",
       "      <td>0.706387</td>\n",
       "      <td>0.455423</td>\n",
       "      <td>0.0</td>\n",
       "      <td>0.0</td>\n",
       "      <td>1.0</td>\n",
       "      <td>1.0</td>\n",
       "      <td>1.0</td>\n",
       "    </tr>\n",
       "  </tbody>\n",
       "</table>\n",
       "</div>"
      ]
     },
     "execution_count": 23,
     "metadata": {},
     "output_type": "execute_result"
    }
   ],
   "execution_count": 23
  }
 ],
 "metadata": {
  "kernelspec": {
   "display_name": "Python 3",
   "language": "python",
   "name": "python3"
  },
  "language_info": {
   "codemirror_mode": {
    "name": "ipython",
    "version": 2
   },
   "file_extension": ".py",
   "mimetype": "text/x-python",
   "name": "python",
   "nbconvert_exporter": "python",
   "pygments_lexer": "ipython2",
   "version": "2.7.6"
  }
 },
 "nbformat": 4,
 "nbformat_minor": 5
}
